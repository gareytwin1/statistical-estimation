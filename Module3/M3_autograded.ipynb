{
 "cells": [
  {
   "cell_type": "markdown",
   "metadata": {
    "deletable": false,
    "editable": false,
    "nbgrader": {
     "cell_type": "markdown",
     "checksum": "f6ef67c6d6e82df8298a83796612a0a2",
     "grade": false,
     "grade_id": "cell-b78cea505b8cc8d7",
     "locked": true,
     "schema_version": 3,
     "solution": false,
     "task": false
    }
   },
   "source": [
    "## Module 4 Autograded Assignment\n",
    "\n",
    "It's time to wrap up Module 4. Let's see what we have learned!\n",
    "\n",
    "Please do not add or delete cells as this may affect the autograder."
   ]
  },
  {
   "cell_type": "code",
   "execution_count": null,
   "metadata": {
    "deletable": false,
    "editable": false,
    "nbgrader": {
     "cell_type": "code",
     "checksum": "4b7526c4eee237c695eba1891cb54cc3",
     "grade": false,
     "grade_id": "cell-3f65e2e89854cc92",
     "locked": true,
     "schema_version": 3,
     "solution": false,
     "task": false
    },
    "vscode": {
     "languageId": "r"
    }
   },
   "outputs": [],
   "source": [
    "# Load Necesary Packages\n",
    "#library(testthat)"
   ]
  },
  {
   "cell_type": "markdown",
   "metadata": {
    "deletable": false,
    "editable": false,
    "nbgrader": {
     "cell_type": "markdown",
     "checksum": "fa5577f13c5df24c1fef157096b6ee60",
     "grade": false,
     "grade_id": "cell-22eed233c6983eb4",
     "locked": true,
     "schema_version": 3,
     "solution": false,
     "task": false
    }
   },
   "source": [
    "# Problem 1"
   ]
  },
  {
   "cell_type": "markdown",
   "metadata": {
    "deletable": false,
    "editable": false,
    "nbgrader": {
     "cell_type": "markdown",
     "checksum": "4020907c29644ae63d8da6f87df084a1",
     "grade": false,
     "grade_id": "cell-4fb050bf6964e1fc",
     "locked": true,
     "schema_version": 3,
     "solution": false,
     "task": false
    }
   },
   "source": [
    "You've been having some trouble sleeping, and have resorted to the time-honored tradition of counting sheep. Being a budding data scientist, you decide to track the number of sheep you count each night. Historically, it is known that, on average, people count $75$ sheep before they fall asleep, with a standard deviation of $27$ sheep. \n",
    "\n",
    "So far, you've recorded your sheep counts for 36 nights."
   ]
  },
  {
   "cell_type": "markdown",
   "metadata": {
    "deletable": false,
    "editable": false,
    "nbgrader": {
     "cell_type": "markdown",
     "checksum": "ce397e84e8a84feaa6dc8d3cec35ae35",
     "grade": false,
     "grade_id": "cell-1b8b9ada30e94ca1",
     "locked": true,
     "schema_version": 3,
     "solution": false,
     "task": false
    }
   },
   "source": [
    "**Part A)** What is the approximate probability that your average sheep count over the 36 nights is greater than or equal to 80? Save your answer as `p1.a`. Round your answer to two decimal places."
   ]
  },
  {
   "cell_type": "markdown",
   "metadata": {},
   "source": [
    "## Problem 1 Solution Steps\n",
    "\n",
    "### Given Information:\n",
    "- Population mean: μ = 75 sheep\n",
    "- Population standard deviation: σ = 27 sheep  \n",
    "- Sample size: n = 36 nights\n",
    "- We want to analyze the sampling distribution of the sample mean\n",
    "\n",
    "### Part A: P(X̄ ≥ 80)\n",
    "\n",
    "**Step 1:** Identify the sampling distribution\n",
    "- By the Central Limit Theorem, the sample mean X̄ follows a normal distribution\n",
    "- Mean of X̄: μ_X̄ = μ = 75\n",
    "- Standard error: SE = σ/√n = 27/√36 = 27/6 = 4.5\n",
    "\n",
    "**Step 2:** Standardize using the Z-score\n",
    "- Z = (X̄ - μ_X̄)/SE = (80 - 75)/4.5 = 5/4.5 ≈ 1.111\n",
    "\n",
    "**Step 3:** Find the probability\n",
    "- P(X̄ ≥ 80) = P(Z ≥ 1.111) = 1 - P(Z < 1.111) = 1 - Φ(1.111)"
   ]
  },
  {
   "cell_type": "code",
   "execution_count": 2,
   "metadata": {
    "deletable": false,
    "nbgrader": {
     "cell_type": "code",
     "checksum": "88b35766176c50de0143119e41f5b3dc",
     "grade": false,
     "grade_id": "cell-65f95eab97ca08e6",
     "locked": false,
     "schema_version": 3,
     "solution": true,
     "task": false
    },
    "vscode": {
     "languageId": "r"
    }
   },
   "outputs": [
    {
     "data": {
      "text/html": [
       "0.13"
      ],
      "text/latex": [
       "0.13"
      ],
      "text/markdown": [
       "0.13"
      ],
      "text/plain": [
       "[1] 0.13"
      ]
     },
     "metadata": {},
     "output_type": "display_data"
    }
   ],
   "source": [
    "p1.a = NA\n",
    "\n",
    "# your code here\n",
    "mu  = 75\n",
    "sigma = 27\n",
    "n = 36\n",
    "se = sigma/sqrt(n)\n",
    "z = (80 - mu)/se\n",
    "p1.a = 1 - pnorm(z)\n",
    "p1.a = round(p1.a, 2)\n",
    "p1.a"
   ]
  },
  {
   "cell_type": "code",
   "execution_count": 14,
   "metadata": {
    "deletable": false,
    "editable": false,
    "nbgrader": {
     "cell_type": "code",
     "checksum": "8040b200db519a9f722260ef942dd511",
     "grade": true,
     "grade_id": "cell-6b69f500e4f76ae8",
     "locked": true,
     "points": 1,
     "schema_version": 3,
     "solution": false,
     "task": false
    },
    "vscode": {
     "languageId": "r"
    }
   },
   "outputs": [],
   "source": [
    "# Hidden Test Cell"
   ]
  },
  {
   "cell_type": "markdown",
   "metadata": {
    "deletable": false,
    "editable": false,
    "nbgrader": {
     "cell_type": "markdown",
     "checksum": "20db484260cb7aee08c89a084a3c417a",
     "grade": false,
     "grade_id": "cell-c8f821a7e3f45ad6",
     "locked": true,
     "schema_version": 3,
     "solution": false,
     "task": false
    }
   },
   "source": [
    "**Part B)** What does the true mean $\\mu$ of the sheep count distribution need to be so that there is a $0.001$ probability that your $36$ night average is $80$ or more sheep in any given night? Save your answer as `p1.b`. Round your answer to two decimal places."
   ]
  },
  {
   "cell_type": "markdown",
   "metadata": {},
   "source": [
    "### Part B: Find μ such that P(X̄ ≥ 80) = 0.001\n",
    "\n",
    "**Step 1:** Work backwards from the probability\n",
    "- We want P(X̄ ≥ 80) = 0.001\n",
    "- This means P(Z ≥ z) = 0.001, so P(Z < z) = 0.999\n",
    "- From standard normal table: z = Φ⁻¹(0.999) ≈ 3.09\n",
    "\n",
    "**Step 2:** Use the Z-score formula to find μ\n",
    "- Z = (80 - μ)/SE where SE = σ/√n = 27/√36 = 4.5\n",
    "- 3.09 = (80 - μ)/4.5\n",
    "- μ = 80 - 3.09 × 4.5 = 80 - 13.905 ≈ 66.10"
   ]
  },
  {
   "cell_type": "code",
   "execution_count": 4,
   "metadata": {
    "deletable": false,
    "nbgrader": {
     "cell_type": "code",
     "checksum": "1463241d79ceca895c55fbbdb6c43676",
     "grade": false,
     "grade_id": "cell-99c704737d49021c",
     "locked": false,
     "schema_version": 3,
     "solution": true,
     "task": false
    },
    "vscode": {
     "languageId": "r"
    }
   },
   "outputs": [
    {
     "name": "stdout",
     "output_type": "stream",
     "text": [
      "[1] \"z-score for 99.9% confidence: 3.09\"\n"
     ]
    },
    {
     "data": {
      "text/html": [
       "66.1"
      ],
      "text/latex": [
       "66.1"
      ],
      "text/markdown": [
       "66.1"
      ],
      "text/plain": [
       "[1] 66.1"
      ]
     },
     "metadata": {},
     "output_type": "display_data"
    }
   ],
   "source": [
    "p1.b = NA\n",
    "\n",
    "# your code here\n",
    "z = round(qnorm(1 - 0.001), 2)\n",
    "print(paste(\"z-score for 99.9% confidence:\", z))\n",
    "p1.b = 80 - z * se\n",
    "p1.b = round(p1.b, 2)\n",
    "p1.b"
   ]
  },
  {
   "cell_type": "code",
   "execution_count": 20,
   "metadata": {
    "deletable": false,
    "editable": false,
    "nbgrader": {
     "cell_type": "code",
     "checksum": "2572f4064f22422e2ce8832e3a90dc0e",
     "grade": true,
     "grade_id": "cell-ed40454423c5675d",
     "locked": true,
     "points": 1,
     "schema_version": 3,
     "solution": false,
     "task": false
    },
    "vscode": {
     "languageId": "r"
    }
   },
   "outputs": [],
   "source": [
    "# Hidden Test Cell"
   ]
  },
  {
   "cell_type": "markdown",
   "metadata": {
    "deletable": false,
    "editable": false,
    "nbgrader": {
     "cell_type": "markdown",
     "checksum": "29bf0527955cb370948d36e27f2b9c16",
     "grade": false,
     "grade_id": "cell-3d50c2cd6b8bd83a",
     "locked": true,
     "schema_version": 3,
     "solution": false,
     "task": false
    }
   },
   "source": [
    "**Part C)** The true mean $\\mu$ is $75$ though-- we don't get to choose that. We can, however, change the number of nights we record our sheep counts, If we want the probability of counting, on average, 80 sheep to be 0.001, what is the minimum number of nights that we would need to meet that requirement?  Save your answer as `p1.c`. Round your answer to two decimal places."
   ]
  },
  {
   "cell_type": "markdown",
   "metadata": {},
   "source": [
    "### Part C: Find n such that P(X̄ ≥ 80) = 0.001 when μ = 75\n",
    "\n",
    "**Step 1:** Set up the equation\n",
    "- We want P(X̄ ≥ 80) = 0.001 with μ = 75\n",
    "- Z = (80 - 75)/SE = 5/SE, where SE = σ/√n = 27/√n\n",
    "- From Part B, we know z = 3.09 for probability 0.001\n",
    "\n",
    "**Step 2:** Solve for n\n",
    "- 3.09 = 5/(27/√n) = 5√n/27\n",
    "- √n = (3.09 × 27)/5 = 83.43/5 = 16.686\n",
    "- n = (16.686)² ≈ 278.42\n",
    "\n",
    "**Step 3:** Round appropriately\n",
    "- Since we need at least this many nights, n = 278.42"
   ]
  },
  {
   "cell_type": "code",
   "execution_count": 5,
   "metadata": {
    "deletable": false,
    "nbgrader": {
     "cell_type": "code",
     "checksum": "89963fad8e65242d4df890e74b90fef2",
     "grade": false,
     "grade_id": "cell-146eeb1e36ab398a",
     "locked": false,
     "schema_version": 3,
     "solution": true,
     "task": false
    },
    "vscode": {
     "languageId": "r"
    }
   },
   "outputs": [
    {
     "data": {
      "text/html": [
       "278.42"
      ],
      "text/latex": [
       "278.42"
      ],
      "text/markdown": [
       "278.42"
      ],
      "text/plain": [
       "[1] 278.42"
      ]
     },
     "metadata": {},
     "output_type": "display_data"
    }
   ],
   "source": [
    "p1.c = NA\n",
    "\n",
    "# your code here\n",
    "target_prob = 0.001\n",
    "target_mean = 80\n",
    "n = (z * sigma / (target_mean - mu))^2\n",
    "p1.c = round(n, 2)\n",
    "p1.c"
   ]
  },
  {
   "cell_type": "code",
   "execution_count": 23,
   "metadata": {
    "deletable": false,
    "editable": false,
    "nbgrader": {
     "cell_type": "code",
     "checksum": "a986b5e9924c5c4c0109a99f7557c4ad",
     "grade": true,
     "grade_id": "cell-8f86cf37ec9d7b4d",
     "locked": true,
     "points": 1,
     "schema_version": 3,
     "solution": false,
     "task": false
    },
    "vscode": {
     "languageId": "r"
    }
   },
   "outputs": [],
   "source": [
    "# Hidden Test Cell"
   ]
  },
  {
   "cell_type": "markdown",
   "metadata": {
    "deletable": false,
    "editable": false,
    "nbgrader": {
     "cell_type": "markdown",
     "checksum": "577ce8bb3bc587bdd5a3c71c55856a4f",
     "grade": false,
     "grade_id": "cell-eab263903d00e075",
     "locked": true,
     "schema_version": 3,
     "solution": false,
     "task": false
    }
   },
   "source": [
    "# Problem 2\n",
    "\n",
    "The Central Limit Theorem tells us that sample means should appear to have normal distributions for large samples as long as the distribution has finite variance. Let's check this out by looking at a histogram of 100,000 sample means for samples of size $1000$ for the uniform distribution over the interval $(5,25)$."
   ]
  },
  {
   "cell_type": "code",
   "execution_count": null,
   "metadata": {
    "deletable": false,
    "editable": false,
    "nbgrader": {
     "cell_type": "code",
     "checksum": "a188fadd7f4d9d3b68f920bc9171d951",
     "grade": false,
     "grade_id": "cell-517cdb10c95a1b4f",
     "locked": true,
     "schema_version": 3,
     "solution": false,
     "task": false
    },
    "vscode": {
     "languageId": "r"
    }
   },
   "outputs": [
    {
     "data": {
      "image/png": "[encoded data removed]",
      "text/plain": [
       "Plot with title “Histogram of results”"
      ]
     },
     "metadata": {
      "image/png": {
       "height": 420,
       "width": 420
      }
     },
     "output_type": "display_data"
    }
   ],
   "source": [
    "# Run this cell and marvel at the results!\n",
    "results = rep(0, 10000)\n",
    "\n",
    "for(i in 1:10000){\n",
    "    samp = runif(1000,5,25)\n",
    "    results[i] = mean(samp)\n",
    "}\n",
    "\n",
    "hist(results, prob=T)"
   ]
  },
  {
   "cell_type": "markdown",
   "metadata": {
    "deletable": false,
    "editable": false,
    "nbgrader": {
     "cell_type": "markdown",
     "checksum": "bba6b63724216f0d534d6f90c68457e1",
     "grade": false,
     "grade_id": "cell-e61b4a2de6776998",
     "locked": true,
     "schema_version": 3,
     "solution": false,
     "task": false
    }
   },
   "source": [
    "We also saw that many maximum likelihood estimators have normal distributions in the limit. This was only claimed for distributions that do not have the parameter defining the support of the distribution. (i.e. No parameters in the indicator!) However, it is also can be true in other cases. Consider a random sample of size 1,000 from the uniform distribution over the interval $(5,\\theta)$ distribution. On paper, work out the MLE for $\\theta$. Copy the code from the previous cell and paste it into the cell below. Change the code so that you are seeing the distribution of the MLE instead of that of $\\overline{X}$. "
   ]
  },
  {
   "cell_type": "markdown",
   "metadata": {},
   "source": [
    "## Solution for MLE of θ in Uniform(5,θ) Distribution\n",
    "\n",
    "### Theoretical Solution:\n",
    "\n",
    "For a uniform distribution over the interval $(5,\\theta)$, the probability density function is:\n",
    "$$f(x|\\theta) = \\frac{1}{\\theta - 5} \\cdot I_{(5,\\theta)}(x)$$\n",
    "\n",
    "The likelihood function for a sample $x_1, x_2, ..., x_n$ is:\n",
    "$$L(\\theta) = \\prod_{i=1}^{n} \\frac{1}{\\theta - 5} \\cdot I_{(5,\\theta)}(x_i) = \\frac{1}{(\\theta - 5)^n} \\cdot I_{(5,\\theta)}(\\min(x_i)) \\cdot I_{(5,\\theta)}(\\max(x_i))$$\n",
    "\n",
    "For the likelihood to be non-zero, we need:\n",
    "- $\\theta \\geq \\max(x_i)$ (all observations must be less than θ)\n",
    "- $5 < \\min(x_i)$ (all observations must be greater than 5)\n",
    "\n",
    "Since $L(\\theta) = \\frac{1}{(\\theta - 5)^n}$ is decreasing in θ, the MLE is:\n",
    "$$\\hat{\\theta}_{MLE} = \\max(x_1, x_2, ..., x_n)$$\n",
    "\n",
    "### Simulation to Test Normality:\n",
    "\n",
    "We'll simulate 10,000 samples of size 1,000 each from Uniform(5,25), compute the MLE (maximum) for each sample, and examine the distribution of these MLEs."
   ]
  },
  {
   "cell_type": "markdown",
   "metadata": {
    "deletable": false,
    "editable": false,
    "nbgrader": {
     "cell_type": "markdown",
     "checksum": "f06273281b1517975255951c166e9bb8",
     "grade": false,
     "grade_id": "cell-aec00a5a0a10e636",
     "locked": true,
     "schema_version": 3,
     "solution": false,
     "task": false
    }
   },
   "source": [
    "Does your simulation suggest that the MLE for $\\theta$ for the uniform distribution over $(5,\\theta)$ is normally distributed? Save a boolean value `TRUE` into `p2` if your answer is yes, or `FALSE` into `p2` if your answer is no."
   ]
  },
  {
   "cell_type": "code",
   "execution_count": 7,
   "metadata": {
    "deletable": false,
    "nbgrader": {
     "cell_type": "code",
     "checksum": "6bf08a7d308358ccd38bbe819d0251ed",
     "grade": false,
     "grade_id": "cell-7a2c5bd7d52f744d",
     "locked": false,
     "schema_version": 3,
     "solution": true,
     "task": false
    },
    "vscode": {
     "languageId": "r"
    }
   },
   "outputs": [
    {
     "name": "stdout",
     "output_type": "stream",
     "text": [
      "Mean of MLE estimates: 24.98024 \n",
      "Standard deviation: 0.01987838 \n",
      "True theta: 25 \n",
      "Range of MLE estimates: 24.71126 25 \n",
      "Standard deviation: 0.01987838 \n",
      "True theta: 25 \n",
      "Range of MLE estimates: 24.71126 25 \n"
     ]
    },
    {
     "data": {
      "image/png": "[encoded data removed]",
      "text/plain": [
       "Plot with title \"Distribution of MLE for θ from Uniform(5,θ)\""
      ]
     },
     "metadata": {
      "image/png": {
       "height": 420,
       "width": 420
      }
     },
     "output_type": "display_data"
    }
   ],
   "source": [
    "# Simulation to test if MLE for theta is normally distributed\n",
    "# True theta = 25 in our simulation\n",
    "results_mle = rep(0, 10000)\n",
    "\n",
    "for(i in 1:10000){\n",
    "    samp = runif(1000, 5, 25)  # Sample from Uniform(5, 25)\n",
    "    results_mle[i] = max(samp)  # MLE for theta is the maximum\n",
    "}\n",
    "\n",
    "# Create histogram of the MLE values\n",
    "hist(results_mle, prob=T, \n",
    "     main=\"Distribution of MLE for θ from Uniform(5,θ)\", \n",
    "     xlab=\"MLE estimates of θ\",\n",
    "     col=\"lightcoral\",\n",
    "     breaks=30)\n",
    "\n",
    "# Add some summary statistics\n",
    "cat(\"Mean of MLE estimates:\", mean(results_mle), \"\\n\")\n",
    "cat(\"Standard deviation:\", sd(results_mle), \"\\n\")\n",
    "cat(\"True theta:\", 25, \"\\n\")\n",
    "cat(\"Range of MLE estimates:\", range(results_mle), \"\\n\")\n",
    "\n",
    "# The distribution should be heavily skewed left (not normal)\n",
    "# MLEs will be close to but always less than the true theta=25\n",
    "p2 = FALSE"
   ]
  },
  {
   "cell_type": "code",
   "execution_count": 27,
   "metadata": {
    "deletable": false,
    "editable": false,
    "nbgrader": {
     "cell_type": "code",
     "checksum": "3be95036fc1110cb15f98375b6d79ad9",
     "grade": true,
     "grade_id": "cell-273208be628c4a77",
     "locked": true,
     "points": 1,
     "schema_version": 3,
     "solution": false,
     "task": false
    },
    "vscode": {
     "languageId": "r"
    }
   },
   "outputs": [],
   "source": [
    "# Hidden Test Cell"
   ]
  },
  {
   "cell_type": "markdown",
   "metadata": {
    "deletable": false,
    "editable": false,
    "nbgrader": {
     "cell_type": "markdown",
     "checksum": "74e9c535ba5b2dbd4620f558e7fc1c2f",
     "grade": false,
     "grade_id": "cell-a271abceb6e13059",
     "locked": true,
     "schema_version": 3,
     "solution": false,
     "task": false
    }
   },
   "source": [
    "# Question 3\n",
    "\n",
    "**Part A)** Run the next cell to read in the data set called \"data1\" and to check its dimension."
   ]
  },
  {
   "cell_type": "code",
   "execution_count": 8,
   "metadata": {
    "deletable": false,
    "editable": false,
    "nbgrader": {
     "cell_type": "code",
     "checksum": "4eac5bd1c0403845939904cc573b3e25",
     "grade": false,
     "grade_id": "cell-f47cbb0c378f6477",
     "locked": true,
     "schema_version": 3,
     "solution": false,
     "task": false
    },
    "vscode": {
     "languageId": "r"
    }
   },
   "outputs": [
    {
     "data": {
      "text/html": [
       "<style>\n",
       ".list-inline {list-style: none; margin:0; padding: 0}\n",
       ".list-inline>li {display: inline-block}\n",
       ".list-inline>li:not(:last-child)::after {content: \"\\00b7\"; padding: 0 .5ex}\n",
       "</style>\n",
       "<ol class=list-inline><li>10000</li><li>1</li></ol>\n"
      ],
      "text/latex": [
       "\\begin{enumerate*}\n",
       "\\item 10000\n",
       "\\item 1\n",
       "\\end{enumerate*}\n"
      ],
      "text/markdown": [
       "1. 10000\n",
       "2. 1\n",
       "\n",
       "\n"
      ],
      "text/plain": [
       "[1] 10000     1"
      ]
     },
     "metadata": {},
     "output_type": "display_data"
    }
   ],
   "source": [
    "mydata = read.table(\"data1\")\n",
    "dim(mydata)"
   ]
  },
  {
   "cell_type": "markdown",
   "metadata": {
    "deletable": false,
    "editable": false,
    "nbgrader": {
     "cell_type": "markdown",
     "checksum": "73e559db40d5279f139f3cf475ad4f83",
     "grade": false,
     "grade_id": "cell-b4b947bc9086a5e5",
     "locked": true,
     "schema_version": 3,
     "solution": false,
     "task": false
    }
   },
   "source": [
    "\"mydata\" is a \"data frame\" which is essentially a table. Because the dimension is 10,000 by 1, it is a single column of data. In this case it is going to be easier to remove the more complicated table struction and turn it into  a vector. Do you recall how we use the letter c to define a vector? Run the next cell. Notice the check before and after the transformation as to whether or not we have a vector."
   ]
  },
  {
   "cell_type": "code",
   "execution_count": 9,
   "metadata": {
    "deletable": false,
    "editable": false,
    "nbgrader": {
     "cell_type": "code",
     "checksum": "be7dc3e194d416b1935e63988e19fd6b",
     "grade": false,
     "grade_id": "cell-de83bee6736570e0",
     "locked": true,
     "schema_version": 3,
     "solution": false,
     "task": false
    },
    "vscode": {
     "languageId": "r"
    }
   },
   "outputs": [
    {
     "data": {
      "text/html": [
       "FALSE"
      ],
      "text/latex": [
       "FALSE"
      ],
      "text/markdown": [
       "FALSE"
      ],
      "text/plain": [
       "[1] FALSE"
      ]
     },
     "metadata": {},
     "output_type": "display_data"
    },
    {
     "data": {
      "text/html": [
       "TRUE"
      ],
      "text/latex": [
       "TRUE"
      ],
      "text/markdown": [
       "TRUE"
      ],
      "text/plain": [
       "[1] TRUE"
      ]
     },
     "metadata": {},
     "output_type": "display_data"
    }
   ],
   "source": [
    "is.vector(mydata)\n",
    "mydata = c(unlist(mydata))\n",
    "is.vector(mydata)"
   ]
  },
  {
   "cell_type": "markdown",
   "metadata": {
    "deletable": false,
    "editable": false,
    "nbgrader": {
     "cell_type": "markdown",
     "checksum": "6b3e556d49a9256233531064894dd17a",
     "grade": false,
     "grade_id": "cell-6b510a89ab65620e",
     "locked": true,
     "schema_version": 3,
     "solution": false,
     "task": false
    }
   },
   "source": [
    "In the next cell, make a histogram of the data. Be sure to use \"density\" on the y-axis. Use the given \"breaks\" vector. (i.e. use <code> breaks=br</code> in your histogram) Usually you will have to determine the breaks yourself by looking at the minimum and maximum of the data and trying different bin widths. We are giving you a specific vector of breaks here to help with the autograder. We are also giving the histogram a name for the autograder-- usually you would not have anything before \"hist\" on that line."
   ]
  },
  {
   "cell_type": "code",
   "execution_count": 12,
   "metadata": {
    "deletable": false,
    "nbgrader": {
     "cell_type": "code",
     "checksum": "349056b7c24707a4b03ee0df51baef11",
     "grade": false,
     "grade_id": "cell-3cc1a16af10c0b00",
     "locked": false,
     "schema_version": 3,
     "solution": true,
     "task": false
    },
    "vscode": {
     "languageId": "r"
    }
   },
   "outputs": [
    {
     "data": {
      "image/png": "[encoded data removed]",
      "text/plain": [
       "Plot with title \"Histogram of Data\""
      ]
     },
     "metadata": {
      "image/png": {
       "height": 420,
       "width": 420
      }
     },
     "output_type": "display_data"
    }
   ],
   "source": [
    "p3.hist = NA\n",
    "\n",
    "br<-seq(0,5.4,0.2)\n",
    "# Uncomment and finish next line\n",
    "p3.hist = hist(mydata,\n",
    "               breaks=br, \n",
    "               probability=TRUE,\n",
    "               main=\"Histogram of Data\",\n",
    "               xlab=\"Data Values\",\n",
    "               col=\"lightblue\")"
   ]
  },
  {
   "cell_type": "code",
   "execution_count": 39,
   "metadata": {
    "deletable": false,
    "editable": false,
    "nbgrader": {
     "cell_type": "code",
     "checksum": "fac1827317c31112ae0627237c8d49d0",
     "grade": true,
     "grade_id": "cell-b706f53c7e5241e3",
     "locked": true,
     "points": 1,
     "schema_version": 3,
     "solution": false,
     "task": false
    },
    "vscode": {
     "languageId": "r"
    }
   },
   "outputs": [],
   "source": [
    "# Hidden Test Cell"
   ]
  },
  {
   "cell_type": "markdown",
   "metadata": {
    "deletable": false,
    "editable": false,
    "nbgrader": {
     "cell_type": "markdown",
     "checksum": "1dba8fbe05964a2e23ec420ca56fca05",
     "grade": false,
     "grade_id": "cell-8a1330f29d27c333",
     "locked": true,
     "schema_version": 3,
     "solution": false,
     "task": false
    }
   },
   "source": [
    "**Part B)** From looking at the histogram, we think that it might be a good idea to model the data with a gamma distribution with pdf\n",
    "\n",
    "$$\n",
    "f(x) = \\frac{1}{\\Gamma(\\alpha)} \\, \\beta^{\\alpha} \\, x^{\\alpha-1} \\, e^{-\\beta x} \\, I_{(0,\\infty)}(x).\n",
    "$$\n",
    "\n",
    "We are going to try to find maximum likelihood estimators for $\\alpha$ and $\\beta$. Unfortunately, there is no known way to solve for the MLE for $\\alpha$ algebraically so we are going to explore the solution numerically.\n",
    "\n",
    "The log-likelihood (make sure that you agree!) is\n",
    "\n",
    "$$\n",
    "\\ell (\\alpha,\\beta) = -n \\ln \\Gamma(\\alpha) + n \\alpha \\ln \\beta + (\\alpha-1) \\sum \\ln x_{i} - \\beta \\sum x_{i}.\n",
    "$$\n",
    "\n",
    "Taking the derivative with respect to $\\alpha$ and setting it equal to zero gives us something very messy. Taking the derivative with respect to $\\beta$ and setting it equal to zero gives us that\n",
    "$$\n",
    "\\beta = \\frac{\\alpha}{\\overline{x}}.\n",
    "$$\n",
    "\n",
    "Plugging this in to the log-likelihood gives us\n",
    "$$\n",
    "\\ell(\\alpha,\\alpha/\\overline{x}) = -n \\ln \\Gamma(\\alpha) + n \\alpha \\ln (\\alpha \\, / \\, \\overline{x}) + (\\alpha-1) \\sum \\ln x_{i} - n \\alpha.\n",
    "$$\n",
    "\n",
    "We can plot this my making a fine sequence of alpha points, evaluating the function at each point, plotting alpha points versus function points, and connecting them with a line/curve. "
   ]
  },
  {
   "cell_type": "code",
   "execution_count": 13,
   "metadata": {
    "deletable": false,
    "nbgrader": {
     "cell_type": "code",
     "checksum": "35a0e4235b5808572df536b902b4c102",
     "grade": false,
     "grade_id": "cell-481c91aa1d25eeea",
     "locked": false,
     "schema_version": 3,
     "solution": true,
     "task": false
    },
    "vscode": {
     "languageId": "r"
    }
   },
   "outputs": [
    {
     "data": {
      "image/png": "[encoded data removed]",
      "text/plain": [
       "Plot with title \"Profile Log-Likelihood for Alpha\""
      ]
     },
     "metadata": {
      "image/png": {
       "height": 420,
       "width": 420
      }
     },
     "output_type": "display_data"
    }
   ],
   "source": [
    "p3.ell = NA\n",
    "\n",
    "n = 10000\n",
    "alpha = seq(0,5,0.001)\n",
    "\n",
    "xbar = mean(mydata)\n",
    "sumlogx = sum(log(mydata))\n",
    "\n",
    "# Uncomment and finish next line. Your xi are stored in the vector \"mydata\"\n",
    "p3.ell = -n*lgamma(alpha) + \n",
    "          n * alpha * log(alpha / xbar) + \n",
    "          (alpha - 1) * sumlogx -\n",
    "          n * alpha\n",
    "\n",
    "plot(alpha,p3.ell,type=\"l\",\n",
    "     main = \"Profile Log-Likelihood for Alpha\",\n",
    "     xlab = expression(alpha),\n",
    "     ylab = \"Log-Likelihood\")\n",
    "\n",
    "# your code here\n"
   ]
  },
  {
   "cell_type": "code",
   "execution_count": 41,
   "metadata": {
    "deletable": false,
    "editable": false,
    "nbgrader": {
     "cell_type": "code",
     "checksum": "733e92f4dff79dd79834362dfe5ed806",
     "grade": true,
     "grade_id": "cell-93386000b90aa3a9",
     "locked": true,
     "points": 1,
     "schema_version": 3,
     "solution": false,
     "task": false
    },
    "vscode": {
     "languageId": "r"
    }
   },
   "outputs": [],
   "source": [
    "# Hidden Test Cell"
   ]
  },
  {
   "cell_type": "markdown",
   "metadata": {
    "deletable": false,
    "editable": false,
    "nbgrader": {
     "cell_type": "markdown",
     "checksum": "ef780182635382835c247ffbd433f56d",
     "grade": false,
     "grade_id": "cell-35d91153cace99ec",
     "locked": true,
     "schema_version": 3,
     "solution": false,
     "task": false
    }
   },
   "source": [
    "Is the function always increasing or is it starting to dip down at then end? Let's zoom in a little."
   ]
  },
  {
   "cell_type": "code",
   "execution_count": 14,
   "metadata": {
    "deletable": false,
    "editable": false,
    "nbgrader": {
     "cell_type": "code",
     "checksum": "ec4e8f30663f1440677cc0f5d5ec62a5",
     "grade": false,
     "grade_id": "cell-6cce41231300b9fe",
     "locked": true,
     "schema_version": 3,
     "solution": false,
     "task": false
    },
    "vscode": {
     "languageId": "r"
    }
   },
   "outputs": [
    {
     "data": {
      "image/png": "[encoded data removed]",
      "text/plain": [
       "plot without title"
      ]
     },
     "metadata": {
      "image/png": {
       "height": 420,
       "width": 420
      }
     },
     "output_type": "display_data"
    }
   ],
   "source": [
    "# Run this cell\n",
    "plot(alpha, p3.ell,type=\"l\", xlim=c(2.5,4), ylim=c(-10000,-8000)) \n",
    "points(1, 3)"
   ]
  },
  {
   "cell_type": "markdown",
   "metadata": {
    "deletable": false,
    "editable": false,
    "nbgrader": {
     "cell_type": "markdown",
     "checksum": "c85c05a51a80d6021a422e31dfc2d299",
     "grade": false,
     "grade_id": "cell-cb7805175ee3edb2",
     "locked": true,
     "schema_version": 3,
     "solution": false,
     "task": false
    }
   },
   "source": [
    "Ah, there it is-- a maximum! If you were running R outside of the Jupyter notebook environment, there are ways to interact with the plot. In particular, there is a \"locator\" function that allows you to click on the plot and have the coordinates of the point you clicked on returned to you. \n",
    "\n",
    "Typing <code>max(p3.ell)</code> will return the maximum value in the vector of function values. Typing <code>which.max(p3.ell)</code> will return the vector index where the maximum is located."
   ]
  },
  {
   "cell_type": "code",
   "execution_count": 45,
   "metadata": {
    "deletable": false,
    "editable": false,
    "nbgrader": {
     "cell_type": "code",
     "checksum": "998ae5465e29e314104c4667fd37fd7b",
     "grade": false,
     "grade_id": "cell-ab075b90e7539431",
     "locked": true,
     "schema_version": 3,
     "solution": false,
     "task": false
    },
    "vscode": {
     "languageId": "r"
    }
   },
   "outputs": [
    {
     "data": {
      "text/html": [
       "2.994"
      ],
      "text/latex": [
       "2.994"
      ],
      "text/markdown": [
       "2.994"
      ],
      "text/plain": [
       "[1] 2.994"
      ]
     },
     "metadata": {},
     "output_type": "display_data"
    }
   ],
   "source": [
    "# Run this cell\n",
    "alpha[which.max(p3.ell)]"
   ]
  },
  {
   "cell_type": "markdown",
   "metadata": {
    "deletable": false,
    "editable": false,
    "nbgrader": {
     "cell_type": "markdown",
     "checksum": "53a6d4b0737fa14bca72502fef7a4ef9",
     "grade": false,
     "grade_id": "cell-360001311d35c563",
     "locked": true,
     "schema_version": 3,
     "solution": false,
     "task": false
    }
   },
   "source": [
    "Note that the value of $\\alpha$ that we have found can only be one of the sequence of points used\n",
    "to define the vector alpha and the true alpha that maximizes the log-likelihood is\n",
    "likely in between two points. We can probably do better with the \"optimize\" function that is built-in to R. For this, we need to define the log-likelihood stored in p3.ell as a function that can be evaluated at arbitrary points. (Currently we have only evaluated it at a sequence of $\\alpha$ values.)"
   ]
  },
  {
   "cell_type": "code",
   "execution_count": 15,
   "metadata": {
    "deletable": false,
    "editable": false,
    "nbgrader": {
     "cell_type": "code",
     "checksum": "f3f002a69603faba07f8e56492057f39",
     "grade": false,
     "grade_id": "cell-6c1d2079eb960cb4",
     "locked": true,
     "schema_version": 3,
     "solution": false,
     "task": false
    },
    "vscode": {
     "languageId": "r"
    }
   },
   "outputs": [
    {
     "data": {
      "text/html": [
       "<dl>\n",
       "\t<dt>$maximum</dt>\n",
       "\t\t<dd>2.99440024210163</dd>\n",
       "\t<dt>$objective</dt>\n",
       "\t\t<dd>-9039.62128277834</dd>\n",
       "</dl>\n"
      ],
      "text/latex": [
       "\\begin{description}\n",
       "\\item[\\$maximum] 2.99440024210163\n",
       "\\item[\\$objective] -9039.62128277834\n",
       "\\end{description}\n"
      ],
      "text/markdown": [
       "$maximum\n",
       ":   2.99440024210163\n",
       "$objective\n",
       ":   -9039.62128277834\n",
       "\n",
       "\n"
      ],
      "text/plain": [
       "$maximum\n",
       "[1] 2.9944\n",
       "\n",
       "$objective\n",
       "[1] -9039.621\n"
      ]
     },
     "metadata": {},
     "output_type": "display_data"
    }
   ],
   "source": [
    "# Run this cell\n",
    " myfunction = function(alpha) -10000*log(gamma(alpha))+10000*alpha*(log(alpha)-log(mean(mydata)))+(alpha-1)*sum(log(mydata))-10000*alpha\n",
    "optimize(myfunction,lower=2.2,upper=4,maximum=TRUE)\n"
   ]
  },
  {
   "cell_type": "markdown",
   "metadata": {
    "deletable": false,
    "editable": false,
    "nbgrader": {
     "cell_type": "markdown",
     "checksum": "4cb282f83e0ae2b881f849587824d3a6",
     "grade": false,
     "grade_id": "cell-6456696968ea18af",
     "locked": true,
     "schema_version": 3,
     "solution": false,
     "task": false
    }
   },
   "source": [
    "The command <code>points(1,3)</code> will add the point $(1,3)$, for example, to a plot. Go back up to the last plot above and add a point to the plot showing the maximum. "
   ]
  },
  {
   "cell_type": "markdown",
   "metadata": {
    "deletable": false,
    "editable": false,
    "nbgrader": {
     "cell_type": "markdown",
     "checksum": "7d8b6048b8c6838675c5104926d5ee03",
     "grade": false,
     "grade_id": "cell-18f0339c7dee105c",
     "locked": true,
     "schema_version": 3,
     "solution": false,
     "task": false
    }
   },
   "source": [
    "Finally, remake the original histogram of \"mydata\" and add the gamma pdf curve using the \"lines\" command. Remember that $\\beta=\\alpha/\\overline{x}$. If you did everything correctly here you should have fit a pretty nice curve to the \"shape\" of the data!"
   ]
  },
  {
   "cell_type": "code",
   "execution_count": 17,
   "metadata": {
    "deletable": false,
    "editable": false,
    "nbgrader": {
     "cell_type": "code",
     "checksum": "bb66de69200926f448042ec21d86716f",
     "grade": false,
     "grade_id": "cell-e4f9920ff3c88ca6",
     "locked": true,
     "schema_version": 3,
     "solution": false,
     "task": false
    },
    "vscode": {
     "languageId": "r"
    }
   },
   "outputs": [
    {
     "data": {
      "image/png": "[encoded data removed]",
      "text/plain": [
       "Plot with title \"Histogram of mydata with Fitted Gamma PDF\""
      ]
     },
     "metadata": {
      "image/png": {
       "height": 420,
       "width": 420
      }
     },
     "output_type": "display_data"
    }
   ],
   "source": [
    "# Estimate alpha and beta\n",
    "alpha.hat = alpha[which.max(p3.ell)]\n",
    "beta.hat  = alpha.hat / mean(mydata)\n",
    "\n",
    "# Remake histogram with density on y-axis\n",
    "p3.hist = hist(mydata,\n",
    "                probability = TRUE,\n",
    "                breaks = br,\n",
    "                main = \"Histogram of mydata with Fitted Gamma PDF\",\n",
    "                xlab = \"Values\")\n",
    "\n",
    "# Add fitted gamma pdf curve\n",
    "xvals = seq(min(mydata), max(mydata), length.out = 500)\n",
    "lines(xvals, dgamma(xvals, shape = alpha.hat, rate = beta.hat),\n",
    "      col = \"red\", lwd = 2)\n"
   ]
  }
 ],
 "metadata": {
  "kernelspec": {
   "display_name": "R",
   "language": "R",
   "name": "ir"
  },
  "language_info": {
   "codemirror_mode": "r",
   "file_extension": ".r",
   "mimetype": "text/x-r-source",
   "name": "R",
   "pygments_lexer": "r",
   "version": "4.4.3"
  }
 },
 "nbformat": 4,
 "nbformat_minor": 4
}
