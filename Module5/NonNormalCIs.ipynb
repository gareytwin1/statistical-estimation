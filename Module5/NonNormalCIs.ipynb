{
 "cells": [
  {
   "cell_type": "markdown",
   "metadata": {},
   "source": [
    "# Non-Normal Confidence Intervals in R"
   ]
  },
  {
   "cell_type": "markdown",
   "metadata": {},
   "source": [
    "During the lecture videos, we took a look at how we would construct a confidence interval for the rate parameter $\\lambda$ of an exponential distribution. In particular, we determined how to construct confidence intervals using two different statistics: the mean $\\bar{X}$ and the minimum value.\n",
    "\n",
    "Let's use R to simulate an exponential distribution, and see if our confidence intervals actually work the way we think they do. \n",
    "\n",
    "Start by generating 15 samples from an $Exp(5)$ distribution. To do this, use the `rexp()` function with parameter `rate=5`."
   ]
  },
  {
   "cell_type": "code",
   "execution_count": 1,
   "metadata": {
    "vscode": {
     "languageId": "r"
    }
   },
   "outputs": [
    {
     "data": {
      "text/html": [
       "<style>\n",
       ".list-inline {list-style: none; margin:0; padding: 0}\n",
       ".list-inline>li {display: inline-block}\n",
       ".list-inline>li:not(:last-child)::after {content: \"\\00b7\"; padding: 0 .5ex}\n",
       "</style>\n",
       "<ol class=list-inline><li>0.16869145221168</li><li>0.115322054177523</li><li>0.265810973561349</li><li>0.00631547182166239</li><li>0.0112421952188015</li><li>0.063300243275542</li><li>0.0628454584430594</li><li>0.0290533607825637</li><li>0.545247292865939</li><li>0.00583068941651451</li><li>0.20096601153815</li><li>0.0960429455319547</li><li>0.056202725507319</li><li>0.0754235662134267</li><li>0.0376568081788719</li></ol>\n"
      ],
      "text/latex": [
       "\\begin{enumerate*}\n",
       "\\item 0.16869145221168\n",
       "\\item 0.115322054177523\n",
       "\\item 0.265810973561349\n",
       "\\item 0.00631547182166239\n",
       "\\item 0.0112421952188015\n",
       "\\item 0.063300243275542\n",
       "\\item 0.0628454584430594\n",
       "\\item 0.0290533607825637\n",
       "\\item 0.545247292865939\n",
       "\\item 0.00583068941651451\n",
       "\\item 0.20096601153815\n",
       "\\item 0.0960429455319547\n",
       "\\item 0.056202725507319\n",
       "\\item 0.0754235662134267\n",
       "\\item 0.0376568081788719\n",
       "\\end{enumerate*}\n"
      ],
      "text/markdown": [
       "1. 0.16869145221168\n",
       "2. 0.115322054177523\n",
       "3. 0.265810973561349\n",
       "4. 0.00631547182166239\n",
       "5. 0.0112421952188015\n",
       "6. 0.063300243275542\n",
       "7. 0.0628454584430594\n",
       "8. 0.0290533607825637\n",
       "9. 0.545247292865939\n",
       "10. 0.00583068941651451\n",
       "11. 0.20096601153815\n",
       "12. 0.0960429455319547\n",
       "13. 0.056202725507319\n",
       "14. 0.0754235662134267\n",
       "15. 0.0376568081788719\n",
       "\n",
       "\n"
      ],
      "text/plain": [
       " [1] 0.168691452 0.115322054 0.265810974 0.006315472 0.011242195 0.063300243\n",
       " [7] 0.062845458 0.029053361 0.545247293 0.005830689 0.200966012 0.096042946\n",
       "[13] 0.056202726 0.075423566 0.037656808"
      ]
     },
     "metadata": {},
     "output_type": "display_data"
    }
   ],
   "source": [
    "set.seed(123)\n",
    "n = 15\n",
    "lambda = 5\n",
    "samples = rexp(n, rate = lambda)\n",
    "\n",
    "samples"
   ]
  },
  {
   "cell_type": "markdown",
   "metadata": {},
   "source": [
    "That's a single sample. If we want to look at multiple confidence intervals, we're going to want multiple samples. Let's look at 100 samples in total.\n",
    "\n",
    "We can calculate multiple samples at once, and store them into a matrix using the `matrix()` function. For our matrix, each sample will be a seperate row, and there will be 15 columns because we're generating 10 data points per sample, so our final function call will look like `matrix(rexp(15*100, rate=5), ncol=10)`. Use `set.seed(0)` to make sure you get the same values each time."
   ]
  },
  {
   "cell_type": "code",
   "execution_count": 2,
   "metadata": {
    "vscode": {
     "languageId": "r"
    }
   },
   "outputs": [
    {
     "data": {
      "text/html": [
       "<style>\n",
       ".list-inline {list-style: none; margin:0; padding: 0}\n",
       ".list-inline>li {display: inline-block}\n",
       ".list-inline>li:not(:last-child)::after {content: \"\\00b7\"; padding: 0 .5ex}\n",
       "</style>\n",
       "<ol class=list-inline><li>100</li><li>10</li></ol>\n"
      ],
      "text/latex": [
       "\\begin{enumerate*}\n",
       "\\item 100\n",
       "\\item 10\n",
       "\\end{enumerate*}\n"
      ],
      "text/markdown": [
       "1. 100\n",
       "2. 10\n",
       "\n",
       "\n"
      ],
      "text/plain": [
       "[1] 100  10"
      ]
     },
     "metadata": {},
     "output_type": "display_data"
    }
   ],
   "source": [
    "set.seed(0)\n",
    "\n",
    "samples = matrix(rexp(100 * 10, rate = 5), ncol = 10)\n",
    "\n",
    "dim(samples)"
   ]
  },
  {
   "cell_type": "markdown",
   "metadata": {},
   "source": [
    "Let's start by looking at the confidence interval that we made with the mean. From the lectures, we eventually got the equation\n",
    "\n",
    "$$ \\dfrac{\\chi^2_{0.025, 2n}}{2n\\bar{X}} \\le \\lambda \\le \\dfrac{\\chi^2_{0.975, 2n}}{2n\\bar{X}} $$\n",
    "\n",
    "If you don't remember how we got these equations, please go over your notes to make sure you understand. For now, we can use these equations to create our confidence intervals. For the $\\chi^2$ values, we can use the `qchisq()` function with 15*2 degrees of freedom. For the lower bound, want `qchisq(0.025, 30)` and the upper bound we want `qchisq(0.975, 30)`.\n",
    "\n",
    "We want to calculate the upper and lower bounds for each of our samples. We could use a for loop for this, but it would be more efficient to use the `apply()` function. To do that, we will need to define our calculations as functions. Fill in the functions below with the necesary calculations for each bound of the confidence interval."
   ]
  },
  {
   "cell_type": "code",
   "execution_count": 3,
   "metadata": {
    "vscode": {
     "languageId": "r"
    }
   },
   "outputs": [],
   "source": [
    "exp.conf.int.lower = function(sample){\n",
    "\n",
    "    # Your Code Here\n",
    "    n = length(sample)\n",
    "    sample_mean = mean(sample)\n",
    "    qchisq(0.025, df = 2*n) / (2*n*sample_mean)\n",
    "}\n",
    "\n",
    "exp.conf.int.upper = function(sample){\n",
    "    \n",
    "    # Your Code Here\n",
    "    n = length(sample)\n",
    "    sample_mean = mean(sample)\n",
    "    qchisq(0.975, df = 2*n) / (2*n*sample_mean)\n",
    "}"
   ]
  },
  {
   "cell_type": "markdown",
   "metadata": {},
   "source": [
    "Now we have our two functions defined, we can use them to calculate the upper and lower bounds for the entire matrix. We will define the apply function as `apply(data, 1, exp.conf.int.lower)`.\n",
    "* `data` is the variable containing your matrix of samples. It is the data that the function will be applied to.\n",
    "* `1` means we are applying our function to each row of the data. This is the \"margin\" that we apply the function along. If we wanted to apply the function to each column, we would input `2`.\n",
    "* `exp.conf.int.lower` is the function that we will apply to the data.\n",
    "\n",
    "Use this function for both the `exp.conf.int.lower` and `exp.conf.int.upper` functions to get vectors of the numeric upper and lower bounds for each sample."
   ]
  },
  {
   "cell_type": "code",
   "execution_count": 4,
   "metadata": {
    "vscode": {
     "languageId": "r"
    }
   },
   "outputs": [
    {
     "data": {
      "text/html": [
       "100"
      ],
      "text/latex": [
       "100"
      ],
      "text/markdown": [
       "100"
      ],
      "text/plain": [
       "[1] 100"
      ]
     },
     "metadata": {},
     "output_type": "display_data"
    },
    {
     "data": {
      "text/html": [
       "100"
      ],
      "text/latex": [
       "100"
      ],
      "text/markdown": [
       "100"
      ],
      "text/plain": [
       "[1] 100"
      ]
     },
     "metadata": {},
     "output_type": "display_data"
    },
    {
     "data": {
      "text/html": [
       "<table class=\"dataframe\">\n",
       "<caption>A matrix: 5 × 2 of type dbl</caption>\n",
       "<thead>\n",
       "\t<tr><th scope=col>lower_bounds</th><th scope=col>upper_bounds</th></tr>\n",
       "</thead>\n",
       "<tbody>\n",
       "\t<tr><td>2.887170</td><td>10.286283</td></tr>\n",
       "\t<tr><td>2.969965</td><td>10.581262</td></tr>\n",
       "\t<tr><td>3.774344</td><td>13.447068</td></tr>\n",
       "\t<tr><td>2.353297</td><td> 8.384224</td></tr>\n",
       "\t<tr><td>2.160944</td><td> 7.698916</td></tr>\n",
       "</tbody>\n",
       "</table>\n"
      ],
      "text/latex": [
       "A matrix: 5 × 2 of type dbl\n",
       "\\begin{tabular}{ll}\n",
       " lower\\_bounds & upper\\_bounds\\\\\n",
       "\\hline\n",
       "\t 2.887170 & 10.286283\\\\\n",
       "\t 2.969965 & 10.581262\\\\\n",
       "\t 3.774344 & 13.447068\\\\\n",
       "\t 2.353297 &  8.384224\\\\\n",
       "\t 2.160944 &  7.698916\\\\\n",
       "\\end{tabular}\n"
      ],
      "text/markdown": [
       "\n",
       "A matrix: 5 × 2 of type dbl\n",
       "\n",
       "| lower_bounds | upper_bounds |\n",
       "|---|---|\n",
       "| 2.887170 | 10.286283 |\n",
       "| 2.969965 | 10.581262 |\n",
       "| 3.774344 | 13.447068 |\n",
       "| 2.353297 |  8.384224 |\n",
       "| 2.160944 |  7.698916 |\n",
       "\n"
      ],
      "text/plain": [
       "     lower_bounds upper_bounds\n",
       "[1,] 2.887170     10.286283   \n",
       "[2,] 2.969965     10.581262   \n",
       "[3,] 3.774344     13.447068   \n",
       "[4,] 2.353297      8.384224   \n",
       "[5,] 2.160944      7.698916   "
      ]
     },
     "metadata": {},
     "output_type": "display_data"
    }
   ],
   "source": [
    "lower_bounds = apply(samples, 1, exp.conf.int.lower)\n",
    "upper_bounds = apply(samples, 1, exp.conf.int.upper)\n",
    "\n",
    "length(lower_bounds)\n",
    "length(upper_bounds)\n",
    "head(cbind(lower_bounds, upper_bounds), 5)\n"
   ]
  },
  {
   "cell_type": "markdown",
   "metadata": {},
   "source": [
    "How many of these confidence intervals contain the true parameter? Recall that you generated your data with a know rate $\\lambda=5$.\n",
    "\n",
    "We can perform an arithmetic comparison between a number and a vector in R, and R is smart enough to perform that operation between that number and each element of that vector. That's a complicated way of saying we can do `lower.bound < 5` and `5 < upper.bound`, and get vectors of boolean values for the \"truth value\" of each element's comparison. In total, want the condition `lower.bound < 5 < upper.bound`, so we can use a logical \"and\" to combine the two boolean vectors.\n",
    "\n",
    "Combining all that, we get `(lower.bound < 5) & (5 < upper.bound)`. This gives us a vector of boolean values, where each boolean is whether or not $\\lambda=5$ was within the confidence interval. To find the total number, we can calculate the sum of this vector. Does this value match the original confidence?"
   ]
  },
  {
   "cell_type": "code",
   "execution_count": 5,
   "metadata": {
    "vscode": {
     "languageId": "r"
    }
   },
   "outputs": [
    {
     "data": {
      "text/html": [
       "96"
      ],
      "text/latex": [
       "96"
      ],
      "text/markdown": [
       "96"
      ],
      "text/plain": [
       "[1] 96"
      ]
     },
     "metadata": {},
     "output_type": "display_data"
    }
   ],
   "source": [
    "lambda = 5\n",
    "contains_true = (lower_bounds  < lambda) & (upper_bounds > lambda)\n",
    "sum(contains_true)"
   ]
  },
  {
   "cell_type": "markdown",
   "metadata": {},
   "source": [
    "Great! That's our first confidence interval done! Now let's move to the second confidence interval, which used the minimum value of the sample. Recall from the lectures that the 95% confidence interval was defined as:\n",
    "\n",
    "$$ 0 \\le \\lambda \\le \\dfrac{-ln(0.05)}{nY_n} $$\n",
    "\n",
    "where $Y_n = min(X_1,X_2, \\dots, X_n)$.\n",
    "\n",
    "Let's repeat the process above of defining a function for the bounds. Because we know that the lower bound is 0, we don't have to worry about defining anything for that. Complete the function below to solve for the upper bound of the confidence interval.\n",
    "\n",
    "Note: We defined the lower bound at 0, for simplicity. This doesn't have to be the case. We could have a 95% confidence interval that had a lower bound at a different value, which would cause the upper bound to shift higher, as the confidence interval would have to continue containing 95% of the area."
   ]
  },
  {
   "cell_type": "code",
   "execution_count": 7,
   "metadata": {
    "vscode": {
     "languageId": "r"
    }
   },
   "outputs": [],
   "source": [
    "ci.upper.bound.min = function(sample){\n",
    "    # Your Code Here\n",
    "    n = length(sample)\n",
    "    Y_n  = min(sample)\n",
    "    -log(0.05) / (n * Y_n)\n",
    "}"
   ]
  },
  {
   "cell_type": "markdown",
   "metadata": {},
   "source": [
    "Again, use the `apply()` function to calculate the upper bound for the confidence intervals of each sample's data. Then compute whether `0 <= 5 <= upper.bound` for each sample. How many times the confidence interval contained the true rate? Does it match the 95% confidence level of the interval?"
   ]
  },
  {
   "cell_type": "code",
   "execution_count": 8,
   "metadata": {
    "scrolled": false,
    "vscode": {
     "languageId": "r"
    }
   },
   "outputs": [
    {
     "data": {
      "text/html": [
       "93"
      ],
      "text/latex": [
       "93"
      ],
      "text/markdown": [
       "93"
      ],
      "text/plain": [
       "[1] 93"
      ]
     },
     "metadata": {},
     "output_type": "display_data"
    }
   ],
   "source": [
    "upper_bounds_min = apply(samples, 1, ci.upper.bound.min)\n",
    "contains_true_min = (0 <= 5) & (5  <= upper_bounds_min)\n",
    "sum(contains_true_min)"
   ]
  },
  {
   "cell_type": "code",
   "execution_count": null,
   "metadata": {
    "vscode": {
     "languageId": "r"
    }
   },
   "outputs": [],
   "source": []
  }
 ],
 "metadata": {
  "kernelspec": {
   "display_name": "R",
   "language": "R",
   "name": "ir"
  },
  "language_info": {
   "codemirror_mode": "r",
   "file_extension": ".r",
   "mimetype": "text/x-r-source",
   "name": "R",
   "pygments_lexer": "r",
   "version": "4.4.3"
  }
 },
 "nbformat": 4,
 "nbformat_minor": 4
}
