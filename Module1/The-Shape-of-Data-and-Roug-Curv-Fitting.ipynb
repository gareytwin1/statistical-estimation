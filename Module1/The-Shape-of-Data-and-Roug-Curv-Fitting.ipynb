{
 "cells": [
  {
   "cell_type": "markdown",
   "metadata": {},
   "source": [
    "# The Shape of Data and Rough Curve Fitting"
   ]
  },
  {
   "cell_type": "markdown",
   "metadata": {},
   "source": [
    "# Read in some data\n",
    "\n",
    "> We've left you some data in a file called \"data1\". Let's check it out!  \n",
    "> We are going to read in some data using the command \"read.table\".   \n",
    "> Because this command reads in data as a \"list\" structure, we will \"unlist it\" and turn it into a vector. The letter \"c\" is used in R to define a vector.  \n",
    "\n",
    "> In the cell below, type  \n",
    "`mydata<-read.table(\"data1\")`  \n",
    "`mydata<-c(unlist(mydata))`\n",
    "\n",
    "Hold down \"Shift\" and press \"Enter\" to run the commands in this jupyter notebook."
   ]
  },
  {
   "cell_type": "code",
   "execution_count": null,
   "metadata": {},
   "outputs": [],
   "source": []
  },
  {
   "cell_type": "markdown",
   "metadata": {},
   "source": [
    "> Let's get some quick and basic measurements from the data.  \n",
    "In the cell below, type  \n",
    "`length(mydata)`  \n",
    "`mean(mydata)`  \n",
    "`var(mydata`)\n",
    "\n",
    ">Run the commands."
   ]
  },
  {
   "cell_type": "code",
   "execution_count": null,
   "metadata": {},
   "outputs": [],
   "source": []
  },
  {
   "cell_type": "markdown",
   "metadata": {},
   "source": [
    "# Making a histogram  \n",
    "\n",
    "> In the cell below, type `hist(mydata)`  \n",
    "\n",
    "> (From this point forward, go ahead and run the commands when you are ready.)\n"
   ]
  },
  {
   "cell_type": "code",
   "execution_count": null,
   "metadata": {},
   "outputs": [],
   "source": []
  },
  {
   "cell_type": "markdown",
   "metadata": {},
   "source": [
    "> Great! Now, let's take a little more control in the appearance of the histogram. For example, the default bin width you are seeing is probably 0.5. Lets change it to 0.1. In order to do this, we will have to define the breakpoints as a sequence of numbers.\n",
    "\n",
    "> In the next cell, type \n",
    "\n",
    "`min(mydata)`  \n",
    "`max(mydata)`"
   ]
  },
  {
   "cell_type": "code",
   "execution_count": null,
   "metadata": {},
   "outputs": [],
   "source": []
  },
  {
   "cell_type": "markdown",
   "metadata": {},
   "source": [
    "> Suppose that your minimum and maximum are 0.0220296 and 3.406938. In what follows, use <b>your</b> actual numbers.\n",
    "\n",
    "> Make a sequence (vector) of bin breaks, each which length 0.1,that will include your minimum and maximum. We will call it \"br\". In the next cell, type `br<-seq(0,3.5,0.1)`\n",
    "\n",
    "> Notice how, in this example, we have used the closest numbers to one decimal place that will fully cover the entire dataset.\n",
    "\n",
    "> We will now remake the histogram. In real life you would go back up to the cell where you made the previous histogram, edit your code and run it there. In order to keep these instructions flowing in a linear way, we will make an entirely new histogram below.\n",
    "\n",
    "> Add this to the cell under your line defining the sequence of breaks.  `hist(mydata,prob=T,breaks=br')`\n",
    "\n",
    "> The \"prob=T\" part will put density on the y-axis as opposed to counts. This will make the histogram bars scale so that the <u>total area in the bar</u> between 0.2 and 0.3 (for example) <u>will be equal to the proportion</u> of values in the data set that are between 0.2 and 0.3. This is important because we are going to try to superimpose a true pdf on the histogram and area under a pdf gives probability."
   ]
  },
  {
   "cell_type": "code",
   "execution_count": null,
   "metadata": {},
   "outputs": [],
   "source": []
  },
  {
   "cell_type": "markdown",
   "metadata": {},
   "source": [
    "# Superimposing a curve\n",
    "\n",
    "> Is it just us or does this look like an exponential distribution?  \n",
    "> Recall that $\\lambda$, the rate parameter for the exponential distribution is 1 divided by the true mean of the distribution.\n",
    "> Since $\\lambda$ is unknown, we will try to estimate it by using 1 divided by the sample mean.  That is, we will estimate $\\lambda$ with  $\\widehat{\\lambda} = 1/\\overline{X}$.  \n",
    "> In the next cell, define a variable named \"lambdahat\" and set it to be 1 over the sample mean."
   ]
  },
  {
   "cell_type": "code",
   "execution_count": null,
   "metadata": {},
   "outputs": [],
   "source": []
  },
  {
   "cell_type": "markdown",
   "metadata": {},
   "source": [
    "> Let's superimpose the exponential density on our histogram using our estimated $\\lambda$. The easiest way to do this is not to make a function but rather a sequence of points where we connect the dots.\n",
    "\n",
    "> Create a sequence of x-values. We'll make them really close together so that out \"dot connecting\" looks smooth.\n",
    "\n",
    "> In the next cell, type. `x<-seq(0,3,0.001)`\n",
    "\n",
    "> Now let's get the pdf values. Add this to the cell. `fx<-lambdahat*exp(-lambdahat*x)`\n",
    "\n",
    "> Go back to the previous cell where you made your last histogram and add the line by typing `lines(x,fx)`.\n"
   ]
  },
  {
   "cell_type": "code",
   "execution_count": null,
   "metadata": {},
   "outputs": [],
   "source": []
  },
  {
   "cell_type": "markdown",
   "metadata": {},
   "source": [
    "# A Mystery Data Set\n",
    "\n",
    "> Following the commands at the beginning of this lab. Read in the data set called \"data2\".\n",
    "\n",
    "> Take a look at the shape of the data by making a histogram. Be sure to use \"density\" on the $y$-axis and adjust the breaks to make the histogram look nice to you. (Too few bins and the histogram will look \"chunky\" and will miss a lot of the shape detail. Too many bins can result in some bins being empty while a neighboring bin is very \"spiky\"."
   ]
  },
  {
   "cell_type": "code",
   "execution_count": null,
   "metadata": {},
   "outputs": [],
   "source": []
  },
  {
   "cell_type": "markdown",
   "metadata": {},
   "source": [
    "> Decide whether this data set looks like an exponential distribution, a normal distribution, or a Pareto distribution. (See your table of distributions for the pdfs.)\n",
    "\n",
    "> Once you have decided on a distribution, superimpose the pdf on the histogram using estimates for the parameter(s) that seem intuitive to you. (Don't worry too much about getting a good fit. We will be able to get a better result later in the course after we learn formal methods for estimating parameters!)"
   ]
  },
  {
   "cell_type": "code",
   "execution_count": null,
   "metadata": {},
   "outputs": [],
   "source": []
  }
 ],
 "metadata": {
  "kernelspec": {
   "display_name": "R",
   "language": "R",
   "name": "ir"
  }
 },
 "nbformat": 4,
 "nbformat_minor": 4
}
