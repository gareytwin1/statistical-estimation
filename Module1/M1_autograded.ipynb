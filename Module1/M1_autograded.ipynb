{
 "cells": [
  {
   "cell_type": "markdown",
   "metadata": {
    "deletable": false,
    "editable": false,
    "nbgrader": {
     "cell_type": "markdown",
     "checksum": "ba5274527cd84be1f303da62563f4e09",
     "grade": false,
     "grade_id": "cell-cfa98577f413d996",
     "locked": true,
     "schema_version": 3,
     "solution": false,
     "task": false
    }
   },
   "source": [
    "# Assignment 1\n"
   ]
  },
  {
   "cell_type": "markdown",
   "metadata": {
    "deletable": false,
    "editable": false,
    "nbgrader": {
     "cell_type": "markdown",
     "checksum": "890c09ef80d9834c0bd9fc2178cd310c",
     "grade": false,
     "grade_id": "cell-b660d6dd6140e9d9",
     "locked": true,
     "schema_version": 3,
     "solution": false,
     "task": false
    }
   },
   "source": [
    "# Problem 1\n",
    "\n",
    "Let the joint PDF $f(X,Y)$ be represented by the following table of values:\n",
    "\n",
    "\n",
    "|  | y=-1| y=0 | y=1 | y=2 |\n",
    "| :--- | :----: | :---: | :---: | ---: |\n",
    "| $x=2$ | 0.1 | 0 | 0.15 | 0 |\n",
    "| $x=3$ | 0.1 | 0.1 | 0.05 | 0.05 |\n",
    "| $x=4$ | 0 | 0.05 | 0.15 | 0.25 |"
   ]
  },
  {
   "cell_type": "markdown",
   "metadata": {
    "deletable": false,
    "editable": false,
    "nbgrader": {
     "cell_type": "markdown",
     "checksum": "80e03aaad89caad9d7798056fddfa5ec",
     "grade": false,
     "grade_id": "cell-25b99e5d010c8f12",
     "locked": true,
     "schema_version": 3,
     "solution": false,
     "task": false
    }
   },
   "source": [
    " **Part A)** Find $E[X]$ and $E[Y]$. Save your answers as `p1.a.ex` and `p1.a.ey`."
   ]
  },
  {
   "cell_type": "code",
   "execution_count": 15,
   "metadata": {
    "deletable": false,
    "nbgrader": {
     "cell_type": "code",
     "checksum": "ebff4591302576a2f85832c578415fc8",
     "grade": false,
     "grade_id": "cell-c01546f6e409fcc4",
     "locked": false,
     "schema_version": 3,
     "solution": true,
     "task": false
    },
    "vscode": {
     "languageId": "r"
    }
   },
   "outputs": [
    {
     "data": {
      "text/html": [
       "<style>\n",
       ".list-inline {list-style: none; margin:0; padding: 0}\n",
       ".list-inline>li {display: inline-block}\n",
       ".list-inline>li:not(:last-child)::after {content: \"\\00b7\"; padding: 0 .5ex}\n",
       "</style>\n",
       "<ol class=list-inline><li>0.25</li><li>0.3</li><li>0.45</li></ol>\n"
      ],
      "text/latex": [
       "\\begin{enumerate*}\n",
       "\\item 0.25\n",
       "\\item 0.3\n",
       "\\item 0.45\n",
       "\\end{enumerate*}\n"
      ],
      "text/markdown": [
       "1. 0.25\n",
       "2. 0.3\n",
       "3. 0.45\n",
       "\n",
       "\n"
      ],
      "text/plain": [
       "[1] 0.25 0.30 0.45"
      ]
     },
     "metadata": {},
     "output_type": "display_data"
    },
    {
     "data": {
      "text/html": [
       "<style>\n",
       ".list-inline {list-style: none; margin:0; padding: 0}\n",
       ".list-inline>li {display: inline-block}\n",
       ".list-inline>li:not(:last-child)::after {content: \"\\00b7\"; padding: 0 .5ex}\n",
       "</style>\n",
       "<ol class=list-inline><li>0.2</li><li>0.15</li><li>0.35</li><li>0.3</li></ol>\n"
      ],
      "text/latex": [
       "\\begin{enumerate*}\n",
       "\\item 0.2\n",
       "\\item 0.15\n",
       "\\item 0.35\n",
       "\\item 0.3\n",
       "\\end{enumerate*}\n"
      ],
      "text/markdown": [
       "1. 0.2\n",
       "2. 0.15\n",
       "3. 0.35\n",
       "4. 0.3\n",
       "\n",
       "\n"
      ],
      "text/plain": [
       "[1] 0.20 0.15 0.35 0.30"
      ]
     },
     "metadata": {},
     "output_type": "display_data"
    },
    {
     "data": {
      "text/html": [
       "<style>\n",
       ".list-inline {list-style: none; margin:0; padding: 0}\n",
       ".list-inline>li {display: inline-block}\n",
       ".list-inline>li:not(:last-child)::after {content: \"\\00b7\"; padding: 0 .5ex}\n",
       "</style>\n",
       "<ol class=list-inline><li>3.2</li><li>0.75</li></ol>\n"
      ],
      "text/latex": [
       "\\begin{enumerate*}\n",
       "\\item 3.2\n",
       "\\item 0.75\n",
       "\\end{enumerate*}\n"
      ],
      "text/markdown": [
       "1. 3.2\n",
       "2. 0.75\n",
       "\n",
       "\n"
      ],
      "text/plain": [
       "[1] 3.20 0.75"
      ]
     },
     "metadata": {},
     "output_type": "display_data"
    }
   ],
   "source": [
    "x_vals = c(2, 3, 4)\n",
    "y_vals = c(-1, 0, 1, 2)\n",
    "\n",
    "fxy = matrix(\n",
    "  c(0.10, 0.00, 0.15, 0.00,\n",
    "    0.10, 0.10, 0.05, 0.05,\n",
    "    0.00, 0.05, 0.15, 0.25),\n",
    "  nrow = length(x_vals),\n",
    "  byrow = TRUE\n",
    ")\n",
    "\n",
    "px = rowSums(fxy)   # sums across y for each fixed x\n",
    "py = colSums(fxy)   # sums across x for each fixed y\n",
    "px\n",
    "py\n",
    "\n",
    "# 5) Compute expectations using marginals\n",
    "p1.a.ex = sum(x_vals * px)       # E[X] = sum_x x * P_X(x)\n",
    "p1.a.ey = sum(y_vals * py)        # E[Y] = sum_y y * P_Y(y)\n",
    "\n",
    "c(p1.a.ex, p1.a.ey)\n"
   ]
  },
  {
   "cell_type": "code",
   "execution_count": 16,
   "metadata": {
    "deletable": false,
    "editable": false,
    "nbgrader": {
     "cell_type": "code",
     "checksum": "78fb7ab65d8dc28608552b1227d972fe",
     "grade": true,
     "grade_id": "cell-5b1889eb8efdf2a8",
     "locked": true,
     "points": 1,
     "schema_version": 3,
     "solution": false,
     "task": false
    },
    "vscode": {
     "languageId": "r"
    }
   },
   "outputs": [],
   "source": [
    "# Hidden Test Cell\n",
    "# NOTE: This cell contains hidden tests. You will not see if you passed these tests until you submit your assignment.\n",
    "# Any cell labeled \"Hidden Test Cell\" MAY have hidden tests."
   ]
  },
  {
   "cell_type": "markdown",
   "metadata": {
    "deletable": false,
    "editable": false,
    "nbgrader": {
     "cell_type": "markdown",
     "checksum": "82b3dd3ffafb50c8659f484dae480716",
     "grade": false,
     "grade_id": "cell-7a0c471a95ce469b",
     "locked": true,
     "schema_version": 3,
     "solution": false,
     "task": false
    }
   },
   "source": [
    "**Part B)** Find $E[XY]$. Save your answer as `p1.b.exy`."
   ]
  },
  {
   "cell_type": "markdown",
   "metadata": {},
   "source": [
    "## Understanding the `outer()` Function in R\n",
    "\n",
    "The `outer()` function is a powerful R function that applies a given function to all combinations of elements from two vectors, creating a matrix as output. It's particularly useful for creating multiplication tables, grids of calculations, or any scenario where you need to apply an operation between every element of one vector and every element of another.\n",
    "\n",
    "**Syntax:** `outer(X, Y, FUN = \"*\", ...)`\n",
    "\n",
    "**Parameters:**\n",
    "- `X`: First vector (will correspond to rows in the output matrix)\n",
    "- `Y`: Second vector (will correspond to columns in the output matrix)  \n",
    "- `FUN`: Function to apply (default is multiplication `\"*\"`)\n",
    "\n",
    "**How it works:**\n",
    "- Creates a matrix with `length(X)` rows and `length(Y)` columns\n",
    "- Each element `[i,j]` in the result equals `FUN(X[i], Y[j])`\n",
    "- Essentially computes the **Cartesian product** of the two vectors with the specified operation\n",
    "\n",
    "**Example:**\n",
    "If `x = c(1, 2, 3)` and `y = c(4, 5)`, then `outer(x, y, \"*\")` produces:\n",
    "```\n",
    "     [,1] [,2]\n",
    "[1,]    4    5    # 1*4, 1*5\n",
    "[2,]    8   10    # 2*4, 2*5\n",
    "[3,]   12   15    # 3*4, 3*5\n",
    "```\n",
    "\n",
    "**In our context:** We use `outer(x_vals, y_vals, \"*\")` to create a matrix where each element represents the product `x*y` for every possible combination of x and y values from our joint probability distribution. This is the first step in calculating $E[XY] = \\sum_{x,y} xy \\cdot f(x,y)$."
   ]
  },
  {
   "cell_type": "code",
   "execution_count": 17,
   "metadata": {
    "deletable": false,
    "nbgrader": {
     "cell_type": "code",
     "checksum": "41d0ffd93d95eef62309e2114fb86b98",
     "grade": false,
     "grade_id": "cell-5c78993b7207eb33",
     "locked": false,
     "schema_version": 3,
     "solution": true,
     "task": false
    },
    "vscode": {
     "languageId": "r"
    }
   },
   "outputs": [
    {
     "name": "stdout",
     "output_type": "stream",
     "text": [
      "[1] \"Matrix of XY products:\"\n"
     ]
    },
    {
     "data": {
      "text/html": [
       "<table class=\"dataframe\">\n",
       "<caption>A matrix: 3 × 4 of type dbl</caption>\n",
       "<tbody>\n",
       "\t<tr><td>-2</td><td>0</td><td>2</td><td>4</td></tr>\n",
       "\t<tr><td>-3</td><td>0</td><td>3</td><td>6</td></tr>\n",
       "\t<tr><td>-4</td><td>0</td><td>4</td><td>8</td></tr>\n",
       "</tbody>\n",
       "</table>\n"
      ],
      "text/latex": [
       "A matrix: 3 × 4 of type dbl\n",
       "\\begin{tabular}{llll}\n",
       "\t -2 & 0 & 2 & 4\\\\\n",
       "\t -3 & 0 & 3 & 6\\\\\n",
       "\t -4 & 0 & 4 & 8\\\\\n",
       "\\end{tabular}\n"
      ],
      "text/markdown": [
       "\n",
       "A matrix: 3 × 4 of type dbl\n",
       "\n",
       "| -2 | 0 | 2 | 4 |\n",
       "| -3 | 0 | 3 | 6 |\n",
       "| -4 | 0 | 4 | 8 |\n",
       "\n"
      ],
      "text/plain": [
       "     [,1] [,2] [,3] [,4]\n",
       "[1,] -2   0    2    4   \n",
       "[2,] -3   0    3    6   \n",
       "[3,] -4   0    4    8   "
      ]
     },
     "metadata": {},
     "output_type": "display_data"
    },
    {
     "name": "stdout",
     "output_type": "stream",
     "text": [
      "[1] \"Matrix of XY products weighted by f(x,y):\"\n"
     ]
    },
    {
     "data": {
      "text/html": [
       "<table class=\"dataframe\">\n",
       "<caption>A matrix: 3 × 4 of type dbl</caption>\n",
       "<tbody>\n",
       "\t<tr><td>-0.2</td><td>0</td><td>0.30</td><td>0.0</td></tr>\n",
       "\t<tr><td>-0.3</td><td>0</td><td>0.15</td><td>0.3</td></tr>\n",
       "\t<tr><td> 0.0</td><td>0</td><td>0.60</td><td>2.0</td></tr>\n",
       "</tbody>\n",
       "</table>\n"
      ],
      "text/latex": [
       "A matrix: 3 × 4 of type dbl\n",
       "\\begin{tabular}{llll}\n",
       "\t -0.2 & 0 & 0.30 & 0.0\\\\\n",
       "\t -0.3 & 0 & 0.15 & 0.3\\\\\n",
       "\t  0.0 & 0 & 0.60 & 2.0\\\\\n",
       "\\end{tabular}\n"
      ],
      "text/markdown": [
       "\n",
       "A matrix: 3 × 4 of type dbl\n",
       "\n",
       "| -0.2 | 0 | 0.30 | 0.0 |\n",
       "| -0.3 | 0 | 0.15 | 0.3 |\n",
       "|  0.0 | 0 | 0.60 | 2.0 |\n",
       "\n"
      ],
      "text/plain": [
       "     [,1] [,2] [,3] [,4]\n",
       "[1,] -0.2 0    0.30 0.0 \n",
       "[2,] -0.3 0    0.15 0.3 \n",
       "[3,]  0.0 0    0.60 2.0 "
      ]
     },
     "metadata": {},
     "output_type": "display_data"
    },
    {
     "name": "stdout",
     "output_type": "stream",
     "text": [
      "[1] \"E[XY]:  2.85\"\n"
     ]
    }
   ],
   "source": [
    "## Part B — Expectation of XY\n",
    "\n",
    "# 1) Create all (x, y) combinations with their joint probabilities\n",
    "# Use outer() to multiply x * y for each (x, y) pair\n",
    "xy_products = outer(x_vals, y_vals, FUN = \"*\")\n",
    "print(\"Matrix of XY products:\")\n",
    "xy_products\n",
    "\n",
    "\n",
    "# 2) Multiply elementwise by the joint probabilities f(x,y)\n",
    "xy_weighted = xy_products * fxy\n",
    "print(\"Matrix of XY products weighted by f(x,y):\")\n",
    "xy_weighted\n",
    "\n",
    "# 3) Sum over all entries to get E[XY]\n",
    "p1.b.exy = sum(xy_weighted)\n",
    "print(paste(\"E[XY]: \", p1.b.exy))\n"
   ]
  },
  {
   "cell_type": "code",
   "execution_count": 18,
   "metadata": {
    "deletable": false,
    "editable": false,
    "nbgrader": {
     "cell_type": "code",
     "checksum": "a23d003bd351d468bac2f4fad6a94263",
     "grade": true,
     "grade_id": "cell-a07fd01df677d2f4",
     "locked": true,
     "points": 1,
     "schema_version": 3,
     "solution": false,
     "task": false
    },
    "vscode": {
     "languageId": "r"
    }
   },
   "outputs": [],
   "source": [
    "# Hidden Test Cell"
   ]
  },
  {
   "cell_type": "markdown",
   "metadata": {
    "deletable": false,
    "editable": false,
    "nbgrader": {
     "cell_type": "markdown",
     "checksum": "c2ac22a509d0e17c952a433fe501bef6",
     "grade": false,
     "grade_id": "cell-6e86d541a3c34731",
     "locked": true,
     "schema_version": 3,
     "solution": false,
     "task": false
    }
   },
   "source": [
    "**Part C)** Are $X$ and $Y$ independent? Answer the boolean value `TRUE` if they are independent and `FALSE` if they are not independent. Save your answer as `p1.c`."
   ]
  },
  {
   "cell_type": "code",
   "execution_count": 19,
   "metadata": {
    "deletable": false,
    "nbgrader": {
     "cell_type": "code",
     "checksum": "fe14614bf3cce08e14aed7f4b4a25248",
     "grade": false,
     "grade_id": "cell-7adb1551e02e131a",
     "locked": false,
     "schema_version": 3,
     "solution": true,
     "task": false
    },
    "vscode": {
     "languageId": "r"
    }
   },
   "outputs": [],
   "source": [
    "p1.c <- FALSE\n"
   ]
  },
  {
   "cell_type": "markdown",
   "metadata": {},
   "source": [
    "## Why X and Y are NOT Independent\n",
    "\n",
    "To check independence, we need to verify if $f(x,y) = f_X(x) \\cdot f_Y(y)$ for all $(x,y)$ pairs.\n",
    "\n",
    "From our previous calculations:\n",
    "- Marginal probabilities: $f_X(2) = 0.25$, $f_X(3) = 0.30$, $f_X(4) = 0.45$\n",
    "- Marginal probabilities: $f_Y(-1) = 0.20$, $f_Y(0) = 0.15$, $f_Y(1) = 0.35$, $f_Y(2) = 0.30$\n",
    "\n",
    "**Testing independence:**\n",
    "- For $(x=2, y=-1)$: $f(2,-1) = 0.1$ but $f_X(2) \\cdot f_Y(-1) = 0.25 \\times 0.20 = 0.05$\n",
    "- Since $0.1 \\neq 0.05$, the variables are **NOT independent**\n",
    "\n",
    "**Alternative evidence:** Notice that $f(2,0) = 0$ and $f(2,2) = 0$. If X and Y were independent, these probabilities would be $f_X(2) \\cdot f_Y(0) = 0.25 \\times 0.15 = 0.0375 \\neq 0$ and $f_X(2) \\cdot f_Y(2) = 0.25 \\times 0.30 = 0.075 \\neq 0$."
   ]
  },
  {
   "cell_type": "markdown",
   "metadata": {
    "deletable": false,
    "editable": false,
    "nbgrader": {
     "cell_type": "markdown",
     "checksum": "033c6243a4208ef079003a90c9026c15",
     "grade": false,
     "grade_id": "cell-da74f105361f6d65",
     "locked": true,
     "schema_version": 3,
     "solution": false,
     "task": false
    }
   },
   "source": [
    "**Part D)** Define $U=X+Y$. What is $P(U \\ge 4)$? Save your answer as `p1.d`."
   ]
  },
  {
   "cell_type": "markdown",
   "metadata": {},
   "source": [
    "## Step-by-Step Solution for Part D\n",
    "\n",
    "We need to find $P(U \\geq 4)$ where $U = X + Y$.\n",
    "\n",
    "**Step 1:** Identify all possible $(x,y)$ combinations where $x + y \\geq 4$\n",
    "\n",
    "**Step 2:** Sum the joint probabilities $f(x,y)$ for those combinations"
   ]
  },
  {
   "cell_type": "code",
   "execution_count": 20,
   "metadata": {
    "vscode": {
     "languageId": "r"
    }
   },
   "outputs": [
    {
     "name": "stdout",
     "output_type": "stream",
     "text": [
      "[1] \"Matrix of U = X + Y values:\"\n"
     ]
    },
    {
     "data": {
      "text/html": [
       "<table class=\"dataframe\">\n",
       "<caption>A matrix: 3 × 4 of type dbl</caption>\n",
       "<tbody>\n",
       "\t<tr><td>1</td><td>2</td><td>3</td><td>4</td></tr>\n",
       "\t<tr><td>2</td><td>3</td><td>4</td><td>5</td></tr>\n",
       "\t<tr><td>3</td><td>4</td><td>5</td><td>6</td></tr>\n",
       "</tbody>\n",
       "</table>\n"
      ],
      "text/latex": [
       "A matrix: 3 × 4 of type dbl\n",
       "\\begin{tabular}{llll}\n",
       "\t 1 & 2 & 3 & 4\\\\\n",
       "\t 2 & 3 & 4 & 5\\\\\n",
       "\t 3 & 4 & 5 & 6\\\\\n",
       "\\end{tabular}\n"
      ],
      "text/markdown": [
       "\n",
       "A matrix: 3 × 4 of type dbl\n",
       "\n",
       "| 1 | 2 | 3 | 4 |\n",
       "| 2 | 3 | 4 | 5 |\n",
       "| 3 | 4 | 5 | 6 |\n",
       "\n"
      ],
      "text/plain": [
       "     [,1] [,2] [,3] [,4]\n",
       "[1,] 1    2    3    4   \n",
       "[2,] 2    3    4    5   \n",
       "[3,] 3    4    5    6   "
      ]
     },
     "metadata": {},
     "output_type": "display_data"
    },
    {
     "name": "stdout",
     "output_type": "stream",
     "text": [
      "[1] \"Joint probability matrix f(x,y):\"\n"
     ]
    },
    {
     "data": {
      "text/html": [
       "<table class=\"dataframe\">\n",
       "<caption>A matrix: 3 × 4 of type dbl</caption>\n",
       "<tbody>\n",
       "\t<tr><td>0.1</td><td>0.00</td><td>0.15</td><td>0.00</td></tr>\n",
       "\t<tr><td>0.1</td><td>0.10</td><td>0.05</td><td>0.05</td></tr>\n",
       "\t<tr><td>0.0</td><td>0.05</td><td>0.15</td><td>0.25</td></tr>\n",
       "</tbody>\n",
       "</table>\n"
      ],
      "text/latex": [
       "A matrix: 3 × 4 of type dbl\n",
       "\\begin{tabular}{llll}\n",
       "\t 0.1 & 0.00 & 0.15 & 0.00\\\\\n",
       "\t 0.1 & 0.10 & 0.05 & 0.05\\\\\n",
       "\t 0.0 & 0.05 & 0.15 & 0.25\\\\\n",
       "\\end{tabular}\n"
      ],
      "text/markdown": [
       "\n",
       "A matrix: 3 × 4 of type dbl\n",
       "\n",
       "| 0.1 | 0.00 | 0.15 | 0.00 |\n",
       "| 0.1 | 0.10 | 0.05 | 0.05 |\n",
       "| 0.0 | 0.05 | 0.15 | 0.25 |\n",
       "\n"
      ],
      "text/plain": [
       "     [,1] [,2] [,3] [,4]\n",
       "[1,] 0.1  0.00 0.15 0.00\n",
       "[2,] 0.1  0.10 0.05 0.05\n",
       "[3,] 0.0  0.05 0.15 0.25"
      ]
     },
     "metadata": {},
     "output_type": "display_data"
    },
    {
     "name": "stdout",
     "output_type": "stream",
     "text": [
      "[1] \"Positions where U >= 4:\"\n"
     ]
    },
    {
     "data": {
      "text/html": [
       "<table class=\"dataframe\">\n",
       "<caption>A matrix: 3 × 4 of type lgl</caption>\n",
       "<tbody>\n",
       "\t<tr><td>FALSE</td><td>FALSE</td><td>FALSE</td><td>TRUE</td></tr>\n",
       "\t<tr><td>FALSE</td><td>FALSE</td><td> TRUE</td><td>TRUE</td></tr>\n",
       "\t<tr><td>FALSE</td><td> TRUE</td><td> TRUE</td><td>TRUE</td></tr>\n",
       "</tbody>\n",
       "</table>\n"
      ],
      "text/latex": [
       "A matrix: 3 × 4 of type lgl\n",
       "\\begin{tabular}{llll}\n",
       "\t FALSE & FALSE & FALSE & TRUE\\\\\n",
       "\t FALSE & FALSE &  TRUE & TRUE\\\\\n",
       "\t FALSE &  TRUE &  TRUE & TRUE\\\\\n",
       "\\end{tabular}\n"
      ],
      "text/markdown": [
       "\n",
       "A matrix: 3 × 4 of type lgl\n",
       "\n",
       "| FALSE | FALSE | FALSE | TRUE |\n",
       "| FALSE | FALSE |  TRUE | TRUE |\n",
       "| FALSE |  TRUE |  TRUE | TRUE |\n",
       "\n"
      ],
      "text/plain": [
       "     [,1]  [,2]  [,3]  [,4]\n",
       "[1,] FALSE FALSE FALSE TRUE\n",
       "[2,] FALSE FALSE  TRUE TRUE\n",
       "[3,] FALSE  TRUE  TRUE TRUE"
      ]
     },
     "metadata": {},
     "output_type": "display_data"
    },
    {
     "name": "stdout",
     "output_type": "stream",
     "text": [
      "[1] \"Joint probabilities where U >= 4:\"\n"
     ]
    },
    {
     "data": {
      "text/html": [
       "<style>\n",
       ".list-inline {list-style: none; margin:0; padding: 0}\n",
       ".list-inline>li {display: inline-block}\n",
       ".list-inline>li:not(:last-child)::after {content: \"\\00b7\"; padding: 0 .5ex}\n",
       "</style>\n",
       "<ol class=list-inline><li>0.05</li><li>0.05</li><li>0.15</li><li>0</li><li>0.05</li><li>0.25</li></ol>\n"
      ],
      "text/latex": [
       "\\begin{enumerate*}\n",
       "\\item 0.05\n",
       "\\item 0.05\n",
       "\\item 0.15\n",
       "\\item 0\n",
       "\\item 0.05\n",
       "\\item 0.25\n",
       "\\end{enumerate*}\n"
      ],
      "text/markdown": [
       "1. 0.05\n",
       "2. 0.05\n",
       "3. 0.15\n",
       "4. 0\n",
       "5. 0.05\n",
       "6. 0.25\n",
       "\n",
       "\n"
      ],
      "text/plain": [
       "[1] 0.05 0.05 0.15 0.00 0.05 0.25"
      ]
     },
     "metadata": {},
     "output_type": "display_data"
    },
    {
     "name": "stdout",
     "output_type": "stream",
     "text": [
      "[1] \"P(U >= 4) = 0.55\"\n"
     ]
    }
   ],
   "source": [
    "# Step-by-step calculation for P(U >= 4) where U = X + Y\n",
    "\n",
    "# First, let's create a matrix showing all possible U = X + Y values\n",
    "U_values = outer(x_vals, y_vals, FUN = \"+\")\n",
    "print(\"Matrix of U = X + Y values:\")\n",
    "U_values\n",
    "\n",
    "# Let's also display our joint probability matrix for reference\n",
    "print(\"Joint probability matrix f(x,y):\")\n",
    "fxy\n",
    "\n",
    "# Step 1: Find all combinations where U >= 4\n",
    "condition_matrix = U_values >= 4\n",
    "print(\"Positions where U >= 4:\")\n",
    "condition_matrix\n",
    "\n",
    "# Step 2: Extract the joint probabilities for those positions\n",
    "prob_u_geq_4 = fxy[condition_matrix]\n",
    "print(\"Joint probabilities where U >= 4:\")\n",
    "prob_u_geq_4\n",
    "\n",
    "# Step 3: Sum these probabilities\n",
    "p1.d = sum(prob_u_geq_4)\n",
    "print(paste(\"P(U >= 4) =\", p1.d))"
   ]
  },
  {
   "cell_type": "code",
   "execution_count": 21,
   "metadata": {
    "vscode": {
     "languageId": "r"
    }
   },
   "outputs": [
    {
     "name": "stdout",
     "output_type": "stream",
     "text": [
      "[1] \"Manual enumeration of all (x,y) pairs:\"\n"
     ]
    },
    {
     "name": "stdout",
     "output_type": "stream",
     "text": [
      "(2,-1): U=1, f(x,y)=0.10 ✗ exclude\n",
      "(2, 0): U=2, f(x,y)=0.00 ✗ exclude\n",
      "(2, 1): U=3, f(x,y)=0.15 ✗ exclude\n",
      "(2, 2): U=4, f(x,y)=0.00 ✓ INCLUDE\n",
      "(3,-1): U=2, f(x,y)=0.10 ✗ exclude\n",
      "(3, 0): U=3, f(x,y)=0.10 ✗ exclude\n",
      "(3, 1): U=4, f(x,y)=0.05 ✓ INCLUDE\n",
      "(3, 2): U=5, f(x,y)=0.05 ✓ INCLUDE\n",
      "(4,-1): U=3, f(x,y)=0.00 ✗ exclude\n",
      "(4, 0): U=4, f(x,y)=0.05 ✓ INCLUDE\n",
      "(4, 1): U=5, f(x,y)=0.15 ✓ INCLUDE\n",
      "(4, 2): U=6, f(x,y)=0.25 ✓ INCLUDE\n",
      "[1] \"Manual calculation: P(U >= 4) = 0.55\"\n",
      "[1] \"Matrix method result: P(U >= 4) = 0.55\"\n",
      "[1] \"Results match: TRUE\"\n"
     ]
    }
   ],
   "source": [
    "# Alternative approach: Manual enumeration\n",
    "# Let's list all (x,y) pairs and their U = x + y values, along with probabilities\n",
    "\n",
    "print(\"Manual enumeration of all (x,y) pairs:\")\n",
    "for(i in 1:length(x_vals)) {\n",
    "  for(j in 1:length(y_vals)) {\n",
    "    x = x_vals[i]\n",
    "    y = y_vals[j]\n",
    "    u = x + y\n",
    "    prob = fxy[i, j]\n",
    "    status = if(u >= 4) \"✓ INCLUDE\" else \"✗ exclude\"\n",
    "    cat(sprintf(\"(%d,%2d): U=%d, f(x,y)=%.2f %s\\n\", x, y, u, prob, status))\n",
    "  }\n",
    "}\n",
    "\n",
    "# Sum only the probabilities where U >= 4\n",
    "manual_sum = 0\n",
    "for(i in 1:length(x_vals)) {\n",
    "  for(j in 1:length(y_vals)) {\n",
    "    u = x_vals[i] + y_vals[j]\n",
    "    if(u >= 4) {\n",
    "      manual_sum = manual_sum + fxy[i, j]\n",
    "    }\n",
    "  }\n",
    "}\n",
    "\n",
    "print(paste(\"Manual calculation: P(U >= 4) =\", manual_sum))\n",
    "print(paste(\"Matrix method result: P(U >= 4) =\", p1.d))\n",
    "print(paste(\"Results match:\", manual_sum == p1.d))"
   ]
  },
  {
   "cell_type": "markdown",
   "metadata": {
    "deletable": false,
    "editable": false,
    "nbgrader": {
     "cell_type": "markdown",
     "checksum": "47790542d3b9dabce301b87b42b4cdb7",
     "grade": false,
     "grade_id": "cell-4a7d1bd03e9cf1ad",
     "locked": true,
     "schema_version": 3,
     "solution": false,
     "task": false
    }
   },
   "source": [
    "# Problem 2\n",
    "\n",
    "You work at the front desk of a library, and have to manage the printer. Sadly, the printer is old, and regularly jams. You know that your boss will only replace the printer if there is hard evidence, so you decide to record the number of times the printer was able to print successfully **before** it jammed. These values are recorded in `prints` below. Assume that these values are independent and identically distributed."
   ]
  },
  {
   "cell_type": "code",
   "execution_count": 22,
   "metadata": {
    "deletable": false,
    "editable": false,
    "nbgrader": {
     "cell_type": "code",
     "checksum": "33d0a125ec7a7a3dad34cd46c803bf69",
     "grade": false,
     "grade_id": "cell-2b296ffaf48368cd",
     "locked": true,
     "schema_version": 3,
     "solution": false,
     "task": false
    },
    "vscode": {
     "languageId": "r"
    }
   },
   "outputs": [],
   "source": [
    "prints = c(12, 9, 3, 17, 5, 5, 3, 7, 0, 5, 17, 6, 9, 1, 13)"
   ]
  },
  {
   "cell_type": "markdown",
   "metadata": {
    "deletable": false,
    "editable": false,
    "nbgrader": {
     "cell_type": "markdown",
     "checksum": "9b72c0427e5c13d5b2cdc1d49a7035b5",
     "grade": false,
     "grade_id": "cell-8e76f8ad9c8d37fb",
     "locked": true,
     "schema_version": 3,
     "solution": false,
     "task": false
    }
   },
   "source": [
    "**Part A)** Let $X$ be a random variable for the number of times the printer was able to print before it jammed. Then $X$ follows a Geometric distribution with some unknown probability $p$, where $X_i \\in {0, 1, 2, \\dots}$. We want to estimate $p$, that is the probability that the printer fails. Using the method of moments, what is the estimate $\\hat{p}$?\n",
    "\n",
    "1. $\\dfrac{1}{\\bar{X}}$\n",
    "2. $\\dfrac{1}{\\bar{X}+1}$\n",
    "3. $\\dfrac{\\bar{X}}{\\bar{X}+1}$\n",
    "4. $\\dfrac{\\bar{X}}{1-\\bar{X}}$\n",
    "5. None of the above.\n",
    "\n",
    "Save the NUMBER corresponding to the correct answer into the variable `p2.a`."
   ]
  },
  {
   "cell_type": "markdown",
   "metadata": {},
   "source": [
    "## Step-by-Step Solution for Part A: Method of Moments for Geometric Distribution\n",
    "\n",
    "**Understanding the Problem:**\n",
    "- X = number of successful prints **before** the printer jams\n",
    "- X follows a Geometric distribution with parameter p (probability of failure)\n",
    "- X ∈ {0, 1, 2, ...} (this is the \"number of failures before first success\" parameterization)\n",
    "\n",
    "**Key Insight:** There are two common parameterizations of the geometric distribution:\n",
    "1. **Number of failures before first success:** X ∈ {0, 1, 2, ...} with E[X] = (1-p)/p\n",
    "2. **Number of trials until first success:** Y ∈ {1, 2, 3, ...} with E[Y] = 1/p\n",
    "\n",
    "We're using parameterization #1 since X can be 0 (printer jams immediately)."
   ]
  },
  {
   "cell_type": "code",
   "execution_count": 23,
   "metadata": {
    "vscode": {
     "languageId": "r"
    }
   },
   "outputs": [
    {
     "data": {
      "text/html": [
       "7.46666666666667"
      ],
      "text/latex": [
       "7.46666666666667"
      ],
      "text/markdown": [
       "7.46666666666667"
      ],
      "text/plain": [
       "[1] 7.466667"
      ]
     },
     "metadata": {},
     "output_type": "display_data"
    },
    {
     "data": {
      "text/html": [
       "0.118110236220472"
      ],
      "text/latex": [
       "0.118110236220472"
      ],
      "text/markdown": [
       "0.118110236220472"
      ],
      "text/plain": [
       "[1] 0.1181102"
      ]
     },
     "metadata": {},
     "output_type": "display_data"
    }
   ],
   "source": [
    "# Method of Moments for Geometric Distribution (failures before first success)\n",
    "# Step 1: Calculate the sample mean\n",
    "sample_mean = mean(prints)\n",
    "sample_mean\n",
    "\n",
    "# Step 3: Calculate the method of moments estimator\n",
    "p_hat <- 1 / (sample_mean + 1)\n",
    "p_hat"
   ]
  },
  {
   "cell_type": "markdown",
   "metadata": {},
   "source": [
    "## Summary: Why Option 2 is Correct\n",
    "\n",
    "**Key Steps:**\n",
    "\n",
    "1. **Identify the Distribution:** X ~ Geometric(p) where X ∈ {0, 1, 2, ...} represents the number of successful prints before the first jam.\n",
    "\n",
    "2. **Theoretical Expectation:** For this parameterization of the geometric distribution:\n",
    "   $$E[X] = \\frac{1-p}{p}$$\n",
    "\n",
    "3. **Method of Moments:** Set the sample mean equal to the theoretical expectation:\n",
    "   $$\\bar{X} = \\frac{1-p}{p}$$\n",
    "\n",
    "4. **Solve for p:**\n",
    "   - $\\bar{X} \\cdot p = 1 - p$\n",
    "   - $\\bar{X} \\cdot p + p = 1$\n",
    "   - $p(\\bar{X} + 1) = 1$\n",
    "   - $\\hat{p} = \\frac{1}{\\bar{X} + 1}$\n",
    "\n",
    "**Result:** The method of moments estimator is $\\hat{p} = \\frac{1}{\\bar{X} + 1}$, which corresponds to **Option 2**.\n",
    "\n",
    "**Verification:** With our data, $\\bar{X} = 7.467$, so $\\hat{p} = \\frac{1}{7.467 + 1} = 0.118$"
   ]
  },
  {
   "cell_type": "markdown",
   "metadata": {
    "deletable": false,
    "editable": false,
    "nbgrader": {
     "cell_type": "markdown",
     "checksum": "f0bbe91bb376a059491bf55e13293b25",
     "grade": false,
     "grade_id": "cell-9183ec2029a4ec6f",
     "locked": true,
     "schema_version": 3,
     "solution": false,
     "task": false
    }
   },
   "source": [
    "**Part B)** Given your solution to **Part A**, calculate the estimated probability for the recorded data. Save this value into `p2.b`. (Include at least 2 decimal places.)"
   ]
  },
  {
   "cell_type": "code",
   "execution_count": null,
   "metadata": {
    "deletable": false,
    "nbgrader": {
     "cell_type": "code",
     "checksum": "20cdb31d2ecac82d6cf17f697c0b4f71",
     "grade": false,
     "grade_id": "cell-0219e0276879aa9c",
     "locked": false,
     "schema_version": 3,
     "solution": true,
     "task": false
    },
    "vscode": {
     "languageId": "r"
    }
   },
   "outputs": [
    {
     "name": "stdout",
     "output_type": "stream",
     "text": [
      "[1] \"Method of moments estimator p̂ = 0.118\"\n"
     ]
    }
   ],
   "source": [
    "p2.b = 1 / (mean(prints) + 1)\n",
    "print(paste(\"Method of moments estimator p̂ =\", round(p2.b, 3)))\n"
   ]
  },
  {
   "cell_type": "markdown",
   "metadata": {
    "deletable": false,
    "editable": false,
    "nbgrader": {
     "cell_type": "markdown",
     "checksum": "7092ac104573c69468a859362696133f",
     "grade": false,
     "grade_id": "cell-a0c7c7cdf5321385",
     "locked": true,
     "schema_version": 3,
     "solution": false,
     "task": false
    }
   },
   "source": [
    "**Part C)** Let's try to visualize how well our estimator actually fits the data. \n",
    "\n",
    "To create a histogram of the \"prints\" data, one only needs to type <code>hist(prints)</code>. In order to store the results in a way the autograder can interpret, we need to store this in a variable like this: <code>my_hist_var=hist(prints)</code>\n",
    "\n",
    "Recall that the y-axis of a histogram can be scaled in many different ways.\n",
    "In order to make it so that the total area of each bar is the proportion of observations observed in the corresponding bin, we need to add \"prob=T\" (probability equals true) to the histogram command. This is called a \"density histogram\".\n",
    "\n",
    "Finally, to control the way the bins break on the x-axis, we need to give a sequence of break values. As an example unrelated to this exercise, we might type <code>my_hist_var = hist(mydata,prob=T,breaks=seq(1,8,1))</code> to put breaks at 1,2, ..., 8.\n",
    "\n",
    "For this exercise,  create a density histogram of the `prints` values and store it in variable `p2.c.hist`. Center the bars on the integers 0 through 17 by making breaks at -0.5, 0.5, 1.5, ..., 17.5. Add the curve of a geometric distribution, with the probability of what you estimated in **Part B**, ontop of your histogram. Think about how well this curve approximates the distribution."
   ]
  },
  {
   "cell_type": "code",
   "execution_count": null,
   "metadata": {
    "deletable": false,
    "nbgrader": {
     "cell_type": "code",
     "checksum": "4268f9975bff034f4cbe5528391da063",
     "grade": false,
     "grade_id": "cell-bea143bf92a0563d",
     "locked": false,
     "schema_version": 3,
     "solution": true,
     "task": false
    },
    "vscode": {
     "languageId": "r"
    }
   },
   "outputs": [
    {
     "data": {
      "image/png": "[encoded data removed]",
      "text/plain": [
       "Plot with title \"Histogram of prints\""
      ]
     },
     "metadata": {
      "image/png": {
       "height": 420,
       "width": 420
      }
     },
     "output_type": "display_data"
    }
   ],
   "source": [
    "p2.c.hist <- hist(prints, prob=TRUE, breaks=seq(0, max(prints)+1, 1))\n",
    "\n",
    "# Optional overlay of fitted geometric PMF (failures-before-first-success)\n",
    "k <- 0:max(prints)\n",
    "points(k, dgeom(k, prob=p2.b))"
   ]
  },
  {
   "cell_type": "markdown",
   "metadata": {
    "deletable": false,
    "editable": false,
    "nbgrader": {
     "cell_type": "markdown",
     "checksum": "8fd2eef04e5b7865d7792ad2b4dbbb13",
     "grade": false,
     "grade_id": "cell-d0290b80b6b155dc",
     "locked": true,
     "schema_version": 3,
     "solution": false,
     "task": false
    }
   },
   "source": [
    "**Part D)** what is the *true* underlying probability of this distribution? Save your answer as `p2.d` and round your answer to two decimal places. If it's not possible to answer this question, save your answer as the string `\"not possible\"`."
   ]
  },
  {
   "cell_type": "markdown",
   "metadata": {},
   "source": [
    "## Step-by-Step Solution for Part D\n",
    "\n",
    "**The Question:** What is the *true* underlying probability parameter p of this geometric distribution?\n",
    "\n",
    "**Step 1: Understanding the Distinction**\n",
    "- **Population Parameter (p):** The true, unknown probability that characterizes the entire population\n",
    "- **Sample Estimator ($\\hat{p}$):** Our calculated estimate based on the sample data\n",
    "\n",
    "**Step 2: What We Have**\n",
    "- A sample of 15 observations: `prints = c(12, 9, 3, 17, 5, 5, 3, 7, 0, 5, 17, 6, 9, 1, 13)`\n",
    "- This is only a **sample**, not the entire population of all possible printer jam events\n",
    "\n",
    "**Step 3: What We Can Calculate**\n",
    "- Sample statistics (mean, variance, etc.)\n",
    "- Method of moments estimator: $\\hat{p} = \\frac{1}{\\bar{X} + 1} \\approx 0.118$\n",
    "- Confidence intervals for p\n",
    "- Other sample-based estimates\n",
    "\n",
    "**Step 4: What We CANNOT Determine**\n",
    "- The **true population parameter** p\n",
    "- Why? Because we only have a finite sample, not infinite observations from the population\n",
    "\n",
    "**Step 5: Fundamental Statistical Principle**\n",
    "Sample statistics can only **estimate** population parameters. The true parameter remains unknown unless we have:\n",
    "- The entire population data, OR\n",
    "- Additional external information about the true parameter\n",
    "\n",
    "**Conclusion:** Since we only have sample data and no additional information, it is **\"not possible\"** to determine the true underlying probability. Our estimate $\\hat{p} \\approx 0.118$ is our best guess, but the true p remains unknown."
   ]
  },
  {
   "cell_type": "code",
   "execution_count": null,
   "metadata": {
    "deletable": false,
    "nbgrader": {
     "cell_type": "code",
     "checksum": "ebc5453322de8a29dc9f4dcb3cee3019",
     "grade": false,
     "grade_id": "cell-ecb0de26dd3fad02",
     "locked": false,
     "schema_version": 3,
     "solution": true,
     "task": false
    },
    "vscode": {
     "languageId": "r"
    }
   },
   "outputs": [],
   "source": [
    "p2.d <- \"not possible\""
   ]
  }
 ],
 "metadata": {
  "kernelspec": {
   "display_name": "R",
   "language": "R",
   "name": "ir"
  },
  "language_info": {
   "codemirror_mode": "r",
   "file_extension": ".r",
   "mimetype": "text/x-r-source",
   "name": "R",
   "pygments_lexer": "r",
   "version": "4.4.3"
  }
 },
 "nbformat": 4,
 "nbformat_minor": 4
}
