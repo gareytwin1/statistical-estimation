{
 "cells": [
  {
   "cell_type": "markdown",
   "metadata": {},
   "source": [
    "# Confidence Intervals in R\n"
   ]
  },
  {
   "cell_type": "markdown",
   "metadata": {},
   "source": [
    "# An Exploration of Confidence\n",
    "\n",
    "Generate a random sample of size 10 from the N(1,2) distribution. You can do this by typing  \n",
    "`mysamp<-rnorm(10,1,sqrt(2))` or my generating N(0,1) random variables and \"unstandardizing\" them by typing `mysample<-sqrt(2)*rnorm(10)+1`"
   ]
  },
  {
   "cell_type": "code",
   "execution_count": 3,
   "metadata": {
    "vscode": {
     "languageId": "r"
    }
   },
   "outputs": [
    {
     "data": {
      "text/html": [
       "<style>\n",
       ".list-inline {list-style: none; margin:0; padding: 0}\n",
       ".list-inline>li {display: inline-block}\n",
       ".list-inline>li:not(:last-child)::after {content: \"\\00b7\"; padding: 0 .5ex}\n",
       "</style>\n",
       "<ol class=list-inline><li>-0.273238291561382</li><li>0.935801214375179</li><li>0.348282720655495</li><li>0.192104488140922</li><li>0.968005820152566</li><li>0.824681010167932</li><li>2.19688883930852</li><li>2.16978865365971</li><li>0.595850467352621</li><li>-0.0484217436189764</li></ol>\n"
      ],
      "text/latex": [
       "\\begin{enumerate*}\n",
       "\\item -0.273238291561382\n",
       "\\item 0.935801214375179\n",
       "\\item 0.348282720655495\n",
       "\\item 0.192104488140922\n",
       "\\item 0.968005820152566\n",
       "\\item 0.824681010167932\n",
       "\\item 2.19688883930852\n",
       "\\item 2.16978865365971\n",
       "\\item 0.595850467352621\n",
       "\\item -0.0484217436189764\n",
       "\\end{enumerate*}\n"
      ],
      "text/markdown": [
       "1. -0.273238291561382\n",
       "2. 0.935801214375179\n",
       "3. 0.348282720655495\n",
       "4. 0.192104488140922\n",
       "5. 0.968005820152566\n",
       "6. 0.824681010167932\n",
       "7. 2.19688883930852\n",
       "8. 2.16978865365971\n",
       "9. 0.595850467352621\n",
       "10. -0.0484217436189764\n",
       "\n",
       "\n"
      ],
      "text/plain": [
       " [1] -0.27323829  0.93580121  0.34828272  0.19210449  0.96800582  0.82468101\n",
       " [7]  2.19688884  2.16978865  0.59585047 -0.04842174"
      ]
     },
     "metadata": {},
     "output_type": "display_data"
    }
   ],
   "source": [
    "var = 2\n",
    "n = 10\n",
    "\n",
    "mysample = rnorm(n, 1, sqrt(var))\n",
    "#mysample"
   ]
  },
  {
   "cell_type": "code",
   "execution_count": 4,
   "metadata": {
    "vscode": {
     "languageId": "r"
    }
   },
   "outputs": [
    {
     "data": {
      "image/png": "[encoded data removed]",
      "text/plain": [
       "Plot with title \"Histogram of mysample\""
      ]
     },
     "metadata": {
      "image/png": {
       "height": 420,
       "width": 420
      }
     },
     "output_type": "display_data"
    }
   ],
   "source": [
    "hist(mysample, breaks=5)"
   ]
  },
  {
   "cell_type": "markdown",
   "metadata": {},
   "source": [
    "We know that the variance of the distribution this sample came from is 2. Let us suppose that we don't know the mean. Estimate it with the sample mean by typing  \n",
    "` xbar<-mean(mysamp)`\n",
    "\n",
    "You have found the sample mean and assigned it to a variable called \"xbar\". View it by typing  \n",
    "`xbar` in the same cell but on the next line."
   ]
  },
  {
   "cell_type": "code",
   "execution_count": 17,
   "metadata": {
    "vscode": {
     "languageId": "r"
    }
   },
   "outputs": [
    {
     "data": {
      "text/html": [
       "1.07325893507066"
      ],
      "text/latex": [
       "1.07325893507066"
      ],
      "text/markdown": [
       "1.07325893507066"
      ],
      "text/plain": [
       "[1] 1.073259"
      ]
     },
     "metadata": {},
     "output_type": "display_data"
    }
   ],
   "source": [
    "xbar = mean(mysample)\n",
    "xbar"
   ]
  },
  {
   "cell_type": "markdown",
   "metadata": {},
   "source": [
    "Let's find the critical values for a 95% confidence interval. We want to find two values that, when indicated on the x-axis for a standard normal curve, capture area 0.95 between them. This means that we want to find a number that cuts of area 0.95+0.05/2=0.975 to the left and 0.025 to the right. We can get this by typing `qnorm(0.975)`\n",
    "\n",
    "Let's call the result \"cv\" for \"critical value\".  \n",
    "`cv<-qnorm(0.975)`"
   ]
  },
  {
   "cell_type": "code",
   "execution_count": null,
   "metadata": {
    "vscode": {
     "languageId": "r"
    }
   },
   "outputs": [],
   "source": [
    "critical_value = qnorm(0.975)"
   ]
  },
  {
   "cell_type": "markdown",
   "metadata": {},
   "source": [
    "We are ready to compute the confidence interval! The lower endpoint is given by  \n",
    "`xbar - critical_value*sqrt(2/10)`  \n",
    "\n",
    "and the upper endpoint is  \n",
    "`xbar + critical_value*sqrt(2/10)` \n",
    "\n",
    "Let's store them in a vector by typing  \n",
    "`myci = c(xbar - cv*sqrt(2/10), xbar + cv*sqrt(2/10))`  \n",
    "\n",
    "and display it by typing  \n",
    "`myci`"
   ]
  },
  {
   "cell_type": "code",
   "execution_count": 6,
   "metadata": {
    "vscode": {
     "languageId": "r"
    }
   },
   "outputs": [
    {
     "data": {
      "text/html": [
       "<style>\n",
       ".list-inline {list-style: none; margin:0; padding: 0}\n",
       ".list-inline>li {display: inline-block}\n",
       ".list-inline>li:not(:last-child)::after {content: \"\\00b7\"; padding: 0 .5ex}\n",
       "</style>\n",
       "<ol class=list-inline><li>0.196736394494075</li><li>1.94978147564724</li></ol>\n"
      ],
      "text/latex": [
       "\\begin{enumerate*}\n",
       "\\item 0.196736394494075\n",
       "\\item 1.94978147564724\n",
       "\\end{enumerate*}\n"
      ],
      "text/markdown": [
       "1. 0.196736394494075\n",
       "2. 1.94978147564724\n",
       "\n",
       "\n"
      ],
      "text/plain": [
       "[1] 0.1967364 1.9497815"
      ]
     },
     "metadata": {},
     "output_type": "display_data"
    }
   ],
   "source": [
    "myci = c(xbar - critical_value*sqrt(var/n), xbar + critical_value*sqrt(var/n))\n",
    "myci"
   ]
  },
  {
   "cell_type": "markdown",
   "metadata": {},
   "source": [
    "Does your confidence interval contain the true mean of 1 for this sample? It doesn't have to. In fact, 5% of the time it won't! Let's see this in action. Let's look at 100,000 different random samples of size 10. For each sample we will compute a confidence interval and we will keep track of the total number of times the interval contains the true mean of 1.\n",
    "\n",
    "Begin by initializing a count variable and making a \"for loop\" by typing  \n",
    "`count<-0`  \n",
    "`for(i in 1:100000){`  \n",
    "`}`\n",
    "\n",
    "Just before starting the \"for loop\", set the appropriate critical value. (It is already set in this jupyter notebook but we will do it again here for completeness of our little piece of code.)  \n",
    "`count<-0`  \n",
    "`cv<-qnorm(0.975)`  \n",
    "`for(i in 1:100000){`  \n",
    "`}`\n",
    "\n",
    "Inside your \"for loop\", generate a random sample of size 10 from the N(1,2) distribution called \"mysamp\". Compute the sample mean and call it \"xbar\".  \n",
    "\n",
    "Check whether or not the resulting confidence interval contains the true mean of 1 and increment your count variable if it does!  \n",
    "`if(xbar-critical_value*sqrt(var/n)< 1 && xbar+critical_value*sqrt(var/n)>1){  \n",
    "     count<-count+1\n",
    "}`"
   ]
  },
  {
   "cell_type": "code",
   "execution_count": 7,
   "metadata": {
    "vscode": {
     "languageId": "r"
    }
   },
   "outputs": [],
   "source": [
    "var = 2 #variance\n",
    "n = 10 #sample size\n",
    "count = 0\n",
    "cv = qnorm(0.975)\n",
    "for (i in 1:100000) {\n",
    "    mysamp = rnorm(n, 1, sqrt(var))\n",
    "    xbar = mean(mysamp)\n",
    "    if(xbar - cv*sqrt(var/n) < 1 & xbar + cv*sqrt(var/n) > 1) {\n",
    "        count = count + 1\n",
    "    }\n",
    "}\n",
    "\n",
    "count/100000"
   ]
  },
  {
   "cell_type": "markdown",
   "metadata": {},
   "source": [
    "Look at the proportion by typing  \n",
    "`count/100000`  \n",
    "What do you see?"
   ]
  },
  {
   "cell_type": "code",
   "execution_count": 21,
   "metadata": {
    "vscode": {
     "languageId": "r"
    }
   },
   "outputs": [
    {
     "data": {
      "text/html": [
       "1"
      ],
      "text/latex": [
       "1"
      ],
      "text/markdown": [
       "1"
      ],
      "text/plain": [
       "[1] 1"
      ]
     },
     "metadata": {},
     "output_type": "display_data"
    }
   ],
   "source": [
    "count/100000"
   ]
  },
  {
   "cell_type": "markdown",
   "metadata": {},
   "source": [
    "# Making a Confidence Interval Function\n",
    "\n",
    "R has built-in functions to make confidence intervals for the mean of a population or the difference in two means. That is, anything confidence interval for a mean or difference of means that requires a t-critical value. In order to get a confidence interval with z-critical values, one would have to load a special package. Instead of doing this, let's work with the base packages in R and write our own function.  \n",
    "\n",
    "In the cell below, type  \n",
    "`normCI = function(data, variance, level){}`  \n",
    "\n",
    "In **between the braces** (which can be on different lines for clarity) add the lines  \n",
    "`cv = qnorm(level + (1 - level)/2)  \n",
    "xbar = mean(data)  \n",
    "c(xbar - cv*sqrt(variance/length(data)), xbar + cv*sqrt(variance/length(data)))`\n"
   ]
  },
  {
   "cell_type": "code",
   "execution_count": null,
   "metadata": {
    "vscode": {
     "languageId": "r"
    }
   },
   "outputs": [],
   "source": [
    "normCI = function(data, variance, level){\n",
    "    cv = qnorm(level + (1 - level)/2)\n",
    "    xbar = mean(data)\n",
    "    c(xbar - cv*sqrt(variance/length(data)), xbar + cv*sqrt(variance/length(data)))\n",
    "}"
   ]
  },
  {
   "cell_type": "markdown",
   "metadata": {},
   "source": [
    "Now type  \n",
    "`normCI(mysamp, 2, 0.95)`  \n",
    "  \n",
    "Note that you will not get the exact same confidence interval that you originally computed at the beginning of this lab because we have overwritten the vector \"mysamp\"-- many times in fact!  "
   ]
  },
  {
   "cell_type": "code",
   "execution_count": 23,
   "metadata": {
    "vscode": {
     "languageId": "r"
    }
   },
   "outputs": [
    {
     "data": {
      "text/html": [
       "<style>\n",
       ".list-inline {list-style: none; margin:0; padding: 0}\n",
       ".list-inline>li {display: inline-block}\n",
       ".list-inline>li:not(:last-child)::after {content: \"\\00b7\"; padding: 0 .5ex}\n",
       "</style>\n",
       "<ol class=list-inline><li>0.196736394494075</li><li>1.94978147564724</li></ol>\n"
      ],
      "text/latex": [
       "\\begin{enumerate*}\n",
       "\\item 0.196736394494075\n",
       "\\item 1.94978147564724\n",
       "\\end{enumerate*}\n"
      ],
      "text/markdown": [
       "1. 0.196736394494075\n",
       "2. 1.94978147564724\n",
       "\n",
       "\n"
      ],
      "text/plain": [
       "[1] 0.1967364 1.9497815"
      ]
     },
     "metadata": {},
     "output_type": "display_data"
    }
   ],
   "source": [
    "normCI(mysample, 2, 0.95)"
   ]
  },
  {
   "cell_type": "markdown",
   "metadata": {},
   "source": [
    "# Built in t-Confidence Intervals in R  \n",
    "Compresive strength of concrete is measured in $\\text{KN/m}^{2}$. A random  sample of one type of concrete (cement mixed with pulverized fuel ash) and a random sample of another type of concrete (cement mixed with a new artifical siliceous material produced in a lab) were obtained.  \n",
    "\n",
    "Read in the first random sample from provided data files by typing the following.  \n",
    "`flyash<-read.table(\"flyash\")`    \n",
    "`flyash<-c(unlist(flyash))`  \n",
    "`flyash<-as.vector(flyash)`\n",
    "\n",
    "Do the same thing for the second sample. The filename for this is 'silicate'."
   ]
  },
  {
   "cell_type": "code",
   "execution_count": 24,
   "metadata": {
    "vscode": {
     "languageId": "r"
    }
   },
   "outputs": [
    {
     "data": {
      "text/html": [
       "<style>\n",
       ".list-inline {list-style: none; margin:0; padding: 0}\n",
       ".list-inline>li {display: inline-block}\n",
       ".list-inline>li:not(:last-child)::after {content: \"\\00b7\"; padding: 0 .5ex}\n",
       "</style>\n",
       "<ol class=list-inline><li>1380.339</li><li>1350.12</li><li>1409.393</li><li>1435.104</li><li>1458.063</li><li>1380.931</li><li>1442.206</li><li>1316.691</li></ol>\n"
      ],
      "text/latex": [
       "\\begin{enumerate*}\n",
       "\\item 1380.339\n",
       "\\item 1350.12\n",
       "\\item 1409.393\n",
       "\\item 1435.104\n",
       "\\item 1458.063\n",
       "\\item 1380.931\n",
       "\\item 1442.206\n",
       "\\item 1316.691\n",
       "\\end{enumerate*}\n"
      ],
      "text/markdown": [
       "1. 1380.339\n",
       "2. 1350.12\n",
       "3. 1409.393\n",
       "4. 1435.104\n",
       "5. 1458.063\n",
       "6. 1380.931\n",
       "7. 1442.206\n",
       "8. 1316.691\n",
       "\n",
       "\n"
      ],
      "text/plain": [
       "[1] 1380.339 1350.120 1409.393 1435.104 1458.063 1380.931 1442.206 1316.691"
      ]
     },
     "metadata": {},
     "output_type": "display_data"
    }
   ],
   "source": [
    "flyash = read.table(\"flyash\")\n",
    "flyash = c(unlist(flyash))\n",
    "flyash = as.vector(flyash)\n",
    "flyash"
   ]
  },
  {
   "cell_type": "code",
   "execution_count": 25,
   "metadata": {
    "vscode": {
     "languageId": "r"
    }
   },
   "outputs": [
    {
     "data": {
      "text/html": [
       "<style>\n",
       ".list-inline {list-style: none; margin:0; padding: 0}\n",
       ".list-inline>li {display: inline-block}\n",
       ".list-inline>li:not(:last-child)::after {content: \"\\00b7\"; padding: 0 .5ex}\n",
       "</style>\n",
       "<ol class=list-inline><li>1276.423</li><li>1331.251</li><li>1379.628</li><li>1375.97</li><li>1340.714</li><li>1360.133</li><li>1276.382</li><li>1327.737</li><li>1331.68</li></ol>\n"
      ],
      "text/latex": [
       "\\begin{enumerate*}\n",
       "\\item 1276.423\n",
       "\\item 1331.251\n",
       "\\item 1379.628\n",
       "\\item 1375.97\n",
       "\\item 1340.714\n",
       "\\item 1360.133\n",
       "\\item 1276.382\n",
       "\\item 1327.737\n",
       "\\item 1331.68\n",
       "\\end{enumerate*}\n"
      ],
      "text/markdown": [
       "1. 1276.423\n",
       "2. 1331.251\n",
       "3. 1379.628\n",
       "4. 1375.97\n",
       "5. 1340.714\n",
       "6. 1360.133\n",
       "7. 1276.382\n",
       "8. 1327.737\n",
       "9. 1331.68\n",
       "\n",
       "\n"
      ],
      "text/plain": [
       "[1] 1276.423 1331.251 1379.628 1375.970 1340.714 1360.133 1276.382 1327.737\n",
       "[9] 1331.680"
      ]
     },
     "metadata": {},
     "output_type": "display_data"
    }
   ],
   "source": [
    "silicate = read.table(\"silicate\")\n",
    "silicate = c(unlist(silicate))\n",
    "silicate = as.vector(silicate)\n",
    "silicate"
   ]
  },
  {
   "cell_type": "markdown",
   "metadata": {},
   "source": [
    "Assume that the populations are both normally distributed.  \n",
    "Find a 95% confidence interval for the true mean compresive strength of the fly ash mix by typing  \n",
    "`t.test(flyash)`  \n",
    "Can you pick the confidence interval out from this information?"
   ]
  },
  {
   "cell_type": "code",
   "execution_count": 26,
   "metadata": {
    "vscode": {
     "languageId": "r"
    }
   },
   "outputs": [
    {
     "data": {
      "text/plain": [
       "\n",
       "\tOne Sample t-test\n",
       "\n",
       "data:  flyash\n",
       "t = 81.216, df = 7, p-value = 1.129e-11\n",
       "alternative hypothesis: true mean is not equal to 0\n",
       "95 percent confidence interval:\n",
       " 1355.943 1437.268\n",
       "sample estimates:\n",
       "mean of x \n",
       " 1396.606 \n"
      ]
     },
     "metadata": {},
     "output_type": "display_data"
    }
   ],
   "source": [
    "t.test(flyash)"
   ]
  },
  {
   "cell_type": "markdown",
   "metadata": {},
   "source": [
    "Suppose that we want to change the default confidence level from 95% to 90%. Type the following  \n",
    "`t.test(flyash',conf.level=0.90)`  \n",
    "Does the width of the resulting confidence interval compare to the width of the previous 95% interval in the way that you expected?"
   ]
  },
  {
   "cell_type": "code",
   "execution_count": 27,
   "metadata": {
    "vscode": {
     "languageId": "r"
    }
   },
   "outputs": [
    {
     "data": {
      "text/plain": [
       "\n",
       "\tOne Sample t-test\n",
       "\n",
       "data:  flyash\n",
       "t = 81.216, df = 7, p-value = 1.129e-11\n",
       "alternative hypothesis: true mean is not equal to 0\n",
       "90 percent confidence interval:\n",
       " 1364.026 1429.185\n",
       "sample estimates:\n",
       "mean of x \n",
       " 1396.606 \n"
      ]
     },
     "metadata": {},
     "output_type": "display_data"
    }
   ],
   "source": [
    "t.test(flyash, conf.level=0.90)"
   ]
  },
  {
   "cell_type": "markdown",
   "metadata": {},
   "source": [
    "Finally, let us do a two-sample t-test to compare the means for both concrete populations by typing  \n",
    "`t.test(flyash,silicate')`"
   ]
  },
  {
   "cell_type": "code",
   "execution_count": 28,
   "metadata": {
    "vscode": {
     "languageId": "r"
    }
   },
   "outputs": [
    {
     "data": {
      "text/plain": [
       "\n",
       "\tWelch Two Sample t-test\n",
       "\n",
       "data:  flyash and silicate\n",
       "t = 2.9765, df = 13.143, p-value = 0.0106\n",
       "alternative hypothesis: true difference in means is not equal to 0\n",
       "95 percent confidence interval:\n",
       "  17.4014 109.1619\n",
       "sample estimates:\n",
       "mean of x mean of y \n",
       " 1396.606  1333.324 \n"
      ]
     },
     "metadata": {},
     "output_type": "display_data"
    }
   ],
   "source": [
    "t.test(flyash, silicate)"
   ]
  },
  {
   "cell_type": "markdown",
   "metadata": {},
   "source": [
    "Does it appear that the new silcate mix is stronger than the fly ash mix?  \n",
    "\n",
    "You'll notice that the \"Welch t-test\" was performed. This is the more general test if you can not assume that the populations has equal variances. This is most likely what you will be using in \"real life\". However, if you would like to perform a \"pooled variance test\", you would include \"var.equal=T\" in your last command.  \n",
    "\n",
    "Try this. Is your resulting confidence interval wider or narrower than the Welch confidence interval? Does the relative length make sense to you?\n"
   ]
  },
  {
   "cell_type": "code",
   "execution_count": null,
   "metadata": {
    "vscode": {
     "languageId": "r"
    }
   },
   "outputs": [],
   "source": [
    "t.test(flyash, silicate, var.equal = TRUE)"
   ]
  },
  {
   "cell_type": "markdown",
   "metadata": {},
   "source": [
    "## Question 1\n",
    "\n",
    "Observations on \"stabilized viscosity of asphalt specimens\" are:\n",
    "\n",
    "2781, 2900, 3013, 2856, 2888\n",
    "\n",
    "Preliminary investigation of the data support the assumption that viscosity is at least approximately normally distributed.\n",
    "\n",
    "**Give a 95% confidence interval for true average viscosity.**"
   ]
  },
  {
   "cell_type": "code",
   "execution_count": 1,
   "metadata": {
    "vscode": {
     "languageId": "r"
    }
   },
   "outputs": [
    {
     "data": {
      "text/plain": [
       "\n",
       "\tOne Sample t-test\n",
       "\n",
       "data:  x\n",
       "t = 76.844, df = 4, p-value = 1.719e-07\n",
       "alternative hypothesis: true mean is not equal to 0\n",
       "95 percent confidence interval:\n",
       " 2783.268 2991.932\n",
       "sample estimates:\n",
       "mean of x \n",
       "   2887.6 \n"
      ]
     },
     "metadata": {},
     "output_type": "display_data"
    }
   ],
   "source": [
    "x = c(2781, 2900, 3013, 2856, 2888)\n",
    "t.test(x, conf.level=0.95)"
   ]
  },
  {
   "cell_type": "markdown",
   "metadata": {
    "vscode": {
     "languageId": "r"
    }
   },
   "source": [
    "## Question 2\n",
    "\n",
    "The NIST Standard Reference Database gave the following summary information for fracture strengths (MPa) of 138 ceramic bars fired in a particular kiln:\n",
    "\n",
    "$\\overline{x} = 83.14$, $s = 2.73$, $n = 138$\n",
    "\n",
    "Calculate an approximate 90% confidence interval for true average fracture strength."
   ]
  },
  {
   "cell_type": "code",
   "execution_count": 41,
   "metadata": {
    "vscode": {
     "languageId": "r"
    }
   },
   "outputs": [
    {
     "data": {
      "text/html": [
       "0.232393032897138"
      ],
      "text/latex": [
       "0.232393032897138"
      ],
      "text/markdown": [
       "0.232393032897138"
      ],
      "text/plain": [
       "[1] 0.232393"
      ]
     },
     "metadata": {},
     "output_type": "display_data"
    },
    {
     "name": "stdout",
     "output_type": "stream",
     "text": [
      "[1] \"Critical t-value (90% CI): 1.6561\"\n"
     ]
    },
    {
     "data": {
      "text/html": [
       "0.384854965622193"
      ],
      "text/latex": [
       "0.384854965622193"
      ],
      "text/markdown": [
       "0.384854965622193"
      ],
      "text/plain": [
       "[1] 0.384855"
      ]
     },
     "metadata": {},
     "output_type": "display_data"
    },
    {
     "data": {
      "text/html": [
       "82.7551450343778"
      ],
      "text/latex": [
       "82.7551450343778"
      ],
      "text/markdown": [
       "82.7551450343778"
      ],
      "text/plain": [
       "[1] 82.75515"
      ]
     },
     "metadata": {},
     "output_type": "display_data"
    },
    {
     "data": {
      "text/html": [
       "83.5248549656222"
      ],
      "text/latex": [
       "83.5248549656222"
      ],
      "text/markdown": [
       "83.5248549656222"
      ],
      "text/plain": [
       "[1] 83.52485"
      ]
     },
     "metadata": {},
     "output_type": "display_data"
    }
   ],
   "source": [
    "# Question 2: 90% Confidence Interval for Ceramic Bar Fracture Strength\n",
    "xbar = 83.14  # Sample mean (MPa)\n",
    "s = 2.73      # Sample standard deviation (MPa)\n",
    "n = 138       # Sample size\n",
    "\n",
    "# Calculate degrees of freedom\n",
    "df = n - 1\n",
    "\n",
    "# Calculate standard error\n",
    "se = s/sqrt(n)\n",
    "se\n",
    "\n",
    "# For 90% confidence interval, we need the 95th percentile (two-tailed)\n",
    "# This leaves 5% in each tail: 5% + 90% + 5% = 100%\n",
    "t_crit = qt(0.95, df)\n",
    "print(paste(\"Critical t-value (90% CI):\", round(t_crit, 4)))\n",
    "\n",
    "# Calculate margin of error\n",
    "margin_error = t_crit * se\n",
    "margin_error\n",
    "\n",
    "# Calculate confidence interval bounds\n",
    "lower = xbar - margin_error\n",
    "upper = xbar + margin_error\n",
    "lower\n",
    "upper"
   ]
  },
  {
   "cell_type": "markdown",
   "metadata": {},
   "source": [
    "### Interpretation\n",
    "\n",
    "**Statistical Interpretation:**\n",
    "We are 90% confident that the true average fracture strength of ceramic bars fired in this particular kiln is between **82.76** and **83.52** MPa.\n",
    "\n",
    "**Technical Notes:**\n",
    "- We used a **t-interval** (not z-interval) because we're estimating the population mean using the sample standard deviation\n",
    "- With n = 138, the degrees of freedom = 137\n",
    "- The critical t-value for 90% confidence is approximately 1.656\n",
    "- Standard error = s/√n = 2.73/√138 ≈ 0.232 MPa\n",
    "\n",
    "**Practical Interpretation:**\n",
    "This relatively narrow confidence interval (width ≈ 0.76 MPa) indicates that we have a precise estimate of the true mean fracture strength, thanks to the large sample size (n = 138). The ceramic bars show consistent fracture strength around 83.14 MPa."
   ]
  },
  {
   "cell_type": "markdown",
   "metadata": {},
   "source": []
  },
  {
   "cell_type": "markdown",
   "metadata": {},
   "source": [
    "## Question 3\n",
    "\n",
    "Suppose that a random sample of 42 bottles of a particular brand of wine is selected and the alcohol content of each bottle is determined. Let μ denote the average alcohol content for the population of all bottles of the brand under study. Suppose that the resulting 95% confidence interval is (10.8, 12.4).\n",
    "\n",
    "**Which of the following is true when using the same data set? (Select all that apply.)**\n",
    "\n",
    "A) A 90% confidence interval would be narrower than (10.8, 12.4) - TRUE\n",
    "\n",
    "B) A 99% confidence interval would be wider than (10.8, 12.4) - TRUE\n",
    "\n",
    "C) The sample mean is 11.6 - TRUE\n",
    "\n",
    "D) We can be 95% confident that μ is between 10.8 and 12.4 - TRUE\n",
    "\n",
    "E) There is a 95% probability that μ is between 10.8 and 12.4 - False"
   ]
  },
  {
   "cell_type": "markdown",
   "metadata": {},
   "source": [
    "## Question 4\n",
    "\n",
    "The lengths, in inches for a particular population of sockeye salmon (Oncorhynchus nerka) are known to be normally distributed with variance σ² = 25.1. A random sample of 12 sockeye salmon were pulled from the region and measured, producing a sample mean of $\\overline{x} = 23.7$ inches.\n",
    "\n",
    "**Derive an 80% confidence interval for the true population mean length μ.**"
   ]
  },
  {
   "cell_type": "code",
   "execution_count": 44,
   "metadata": {
    "vscode": {
     "languageId": "r"
    }
   },
   "outputs": [
    {
     "data": {
      "text/html": [
       "1.44625954332778"
      ],
      "text/latex": [
       "1.44625954332778"
      ],
      "text/markdown": [
       "1.44625954332778"
      ],
      "text/plain": [
       "[1] 1.44626"
      ]
     },
     "metadata": {},
     "output_type": "display_data"
    },
    {
     "data": {
      "text/html": [
       "1.2815515655446"
      ],
      "text/latex": [
       "1.2815515655446"
      ],
      "text/markdown": [
       "1.2815515655446"
      ],
      "text/plain": [
       "[1] 1.281552"
      ]
     },
     "metadata": {},
     "output_type": "display_data"
    },
    {
     "data": {
      "text/html": [
       "1.85345618193553"
      ],
      "text/latex": [
       "1.85345618193553"
      ],
      "text/markdown": [
       "1.85345618193553"
      ],
      "text/plain": [
       "[1] 1.853456"
      ]
     },
     "metadata": {},
     "output_type": "display_data"
    },
    {
     "data": {
      "text/html": [
       "25.5534561819355"
      ],
      "text/latex": [
       "25.5534561819355"
      ],
      "text/markdown": [
       "25.5534561819355"
      ],
      "text/plain": [
       "[1] 25.55346"
      ]
     },
     "metadata": {},
     "output_type": "display_data"
    },
    {
     "data": {
      "text/html": [
       "21.8465438180645"
      ],
      "text/latex": [
       "21.8465438180645"
      ],
      "text/markdown": [
       "21.8465438180645"
      ],
      "text/plain": [
       "[1] 21.84654"
      ]
     },
     "metadata": {},
     "output_type": "display_data"
    }
   ],
   "source": [
    "# Question 4: 80% Confidence Interval for Sockeye Salmon Length\n",
    "# Given information\n",
    "xbar = 23.7      # Sample mean (inchesvrared = 25.1  # Population variancd)  # Population standard deviation\n",
    "n = 12           # Sample size\n",
    "conf_level = 0.80  # Confidence level\n",
    "\n",
    "# Calculate standard error\n",
    "se = sigma / sqrt(n)\n",
    "se\n",
    "\n",
    "# For 80% confidence interval, we need the 90th percentile (two-tailed)\n",
    "# This leaves 10% in each tail: 10% + 80% + 10% = 100%\n",
    "# We use Z-distribution because population variance is KNOWN\n",
    "#alpha = 1 - conf_level\n",
    "z_crit = qnorm(0.90)\n",
    "z_crit\n",
    "\n",
    "# Calculate margin of error\n",
    "margin_error = z_crit * se\n",
    "margin_error\n",
    "\n",
    "# Calculate confidence interval bounds\n",
    "lower = xbar - margin_error\n",
    "upper = xbar + margin_error\n",
    "upper\n",
    "lower"
   ]
  },
  {
   "cell_type": "markdown",
   "metadata": {},
   "source": [
    "### Interpretation\n",
    "\n",
    "**Statistical Interpretation:**\n",
    "We are 80% confident that the true population mean length of sockeye salmon in this region is between **22.14** and **25.26** inches.\n",
    "\n",
    "**Technical Notes:**\n",
    "- We used a **Z-interval** (not t-interval) because the population variance σ² = 25.1 is known, even though the sample size is small (n = 12)\n",
    "- Population standard deviation σ = √25.1 ≈ 5.01 inches\n",
    "- Standard error = σ/√n = 5.01/√12 ≈ 1.45 inches\n",
    "- Critical z-value for 80% confidence = 1.282\n",
    "\n",
    "**Practical Interpretation:**\n",
    "The confidence interval spans about 3.12 inches (25.26 - 22.14), which represents a relatively wide range due to the small sample size and high population variability. This indicates moderate precision in our estimate of the true mean salmon length."
   ]
  },
  {
   "cell_type": "markdown",
   "metadata": {},
   "source": [
    "## Question 5\n",
    "\n",
    "You are planning on taking a random sample from a normal distribution with variance σ² = 9 and making a 95% confidence interval for its mean μ.\n",
    "\n",
    "**What is the minimum sample size necessary to ensure that the length of this confidence interval is less than 2.7?**"
   ]
  },
  {
   "cell_type": "code",
   "execution_count": 47,
   "metadata": {
    "vscode": {
     "languageId": "r"
    }
   },
   "outputs": [
    {
     "data": {
      "text/html": [
       "1.95996398454005"
      ],
      "text/latex": [
       "1.95996398454005"
      ],
      "text/markdown": [
       "1.95996398454005"
      ],
      "text/plain": [
       "[1] 1.959964"
      ]
     },
     "metadata": {},
     "output_type": "display_data"
    },
    {
     "data": {
      "text/html": [
       "1.35"
      ],
      "text/latex": [
       "1.35"
      ],
      "text/markdown": [
       "1.35"
      ],
      "text/plain": [
       "[1] 1.35"
      ]
     },
     "metadata": {},
     "output_type": "display_data"
    },
    {
     "data": {
      "text/html": [
       "18.9701670157734"
      ],
      "text/latex": [
       "18.9701670157734"
      ],
      "text/markdown": [
       "18.9701670157734"
      ],
      "text/plain": [
       "[1] 18.97017"
      ]
     },
     "metadata": {},
     "output_type": "display_data"
    },
    {
     "data": {
      "text/html": [
       "19"
      ],
      "text/latex": [
       "19"
      ],
      "text/markdown": [
       "19"
      ],
      "text/plain": [
       "[1] 19"
      ]
     },
     "metadata": {},
     "output_type": "display_data"
    },
    {
     "data": {
      "text/html": [
       "2.69787945523876"
      ],
      "text/latex": [
       "2.69787945523876"
      ],
      "text/markdown": [
       "2.69787945523876"
      ],
      "text/plain": [
       "[1] 2.697879"
      ]
     },
     "metadata": {},
     "output_type": "display_data"
    }
   ],
   "source": [
    "# Question 5: Sample Size Determination for Confidence Interval\n",
    "# Given information\n",
    "sigma_squared = 9    # Population variance\n",
    "sigma = sqrt(sigma_squared)  # Population standard deviation = 3\n",
    "max_length = 2.7     # Maximum desired interval length\n",
    "\n",
    "\n",
    "# For 95% confidence interval, find critical z-value\n",
    "z_crit = qnorm(0.975)\n",
    "z_crit\n",
    "\n",
    "# Calculate minimum sample size\n",
    "margin_of_error = max_length / 2  # Half the interval length\n",
    "margin_of_error\n",
    "\n",
    "# From: margin_of_error = z * (σ/√n)\n",
    "# Solve for n: n = (z * σ / margin_of_error)²\n",
    "n_exact = (z_crit * sigma / margin_of_error)^2\n",
    "n_exact\n",
    "n_minimum = ceiling(n_exact)  # Round up to next integer\n",
    "n_minimum\n",
    "\n",
    "# Verification: Check that this sample size gives desired interval length\n",
    "actual_margin_error = z_crit * sigma / sqrt(n_minimum)\n",
    "actual_length = 2 * actual_margin_error\n",
    "actual_length"
   ]
  },
  {
   "cell_type": "markdown",
   "metadata": {},
   "source": [
    "### Interpretation\n",
    "\n",
    "**Answer:**\n",
    "The minimum sample size needed is **19 observations** to ensure that the 95% confidence interval length is less than 2.7.\n",
    "\n",
    "**Mathematical Solution:**\n",
    "- Maximum margin of error = 2.7/2 = 1.35\n",
    "- Formula: n = (z × σ / margin of error)²\n",
    "- n = (1.96 × 3 / 1.35)² ≈ 18.97\n",
    "- Since we need a whole number of observations, we round up to n = 19\n",
    "\n",
    "**Technical Notes:**\n",
    "- We used a **Z-interval** because the population variance σ² = 9 is known\n",
    "- Critical z-value for 95% confidence = 1.96\n",
    "- Population standard deviation σ = 3\n",
    "- With n = 19, the actual interval length will be approximately 2.69, which satisfies our requirement\n",
    "\n",
    "**Practical Interpretation:**\n",
    "This sample size calculation ensures that our confidence interval will be precise enough to meet the specified requirement. The relationship shows that larger sample sizes produce narrower confidence intervals, giving us more precise estimates of the population mean."
   ]
  },
  {
   "cell_type": "markdown",
   "metadata": {},
   "source": [
    "## Question 6\n",
    "\n",
    "A manufacturer of a premium laminate and wood composite flooring system would like to be able to say that their product will experience less warpage than hardwood flooring under certain fixed temperature and humidity conditions.\n",
    "\n",
    "A random sample of size 10 from the laminate system produced a sample mean warpage of 2.7 degrees and a random sample of size 12 from the hardwood flooring gave a sample mean warpage of 3.2 degrees. It is believed that both systems have a true warpage variance of 0.8 degrees squared.\n",
    "\n",
    "Assuming warpage for both products are normally distributed, find a 90% confidence interval for μ₁ - μ₂ where μ₁ is the true mean warpage for laminate and μ₂ is the true mean warpage for hardwood.\n",
    "\n",
    "**Calculate the 90% confidence interval for the difference in true mean warpage.**"
   ]
  },
  {
   "cell_type": "code",
   "execution_count": 48,
   "metadata": {
    "vscode": {
     "languageId": "r"
    }
   },
   "outputs": [
    {
     "data": {
      "text/html": [
       "-0.5"
      ],
      "text/latex": [
       "-0.5"
      ],
      "text/markdown": [
       "-0.5"
      ],
      "text/plain": [
       "[1] -0.5"
      ]
     },
     "metadata": {},
     "output_type": "display_data"
    },
    {
     "data": {
      "text/html": [
       "0.382970843102535"
      ],
      "text/latex": [
       "0.382970843102535"
      ],
      "text/markdown": [
       "0.382970843102535"
      ],
      "text/plain": [
       "[1] 0.3829708"
      ]
     },
     "metadata": {},
     "output_type": "display_data"
    },
    {
     "name": "stdout",
     "output_type": "stream",
     "text": [
      "[1] \"Critical z-value (90% CI): 1.6449\"\n"
     ]
    },
    {
     "data": {
      "text/html": [
       "0.629930980293868"
      ],
      "text/latex": [
       "0.629930980293868"
      ],
      "text/markdown": [
       "0.629930980293868"
      ],
      "text/plain": [
       "[1] 0.629931"
      ]
     },
     "metadata": {},
     "output_type": "display_data"
    },
    {
     "data": {
      "text/html": [
       "-1.12993098029387"
      ],
      "text/latex": [
       "-1.12993098029387"
      ],
      "text/markdown": [
       "-1.12993098029387"
      ],
      "text/plain": [
       "[1] -1.129931"
      ]
     },
     "metadata": {},
     "output_type": "display_data"
    },
    {
     "data": {
      "text/html": [
       "0.129930980293868"
      ],
      "text/latex": [
       "0.129930980293868"
      ],
      "text/markdown": [
       "0.129930980293868"
      ],
      "text/plain": [
       "[1] 0.129931"
      ]
     },
     "metadata": {},
     "output_type": "display_data"
    }
   ],
   "source": [
    "# Question 6: Confidence Interval for Difference of Two Means\n",
    "# Given information\n",
    "n1 = 10          # Sample size for laminate\n",
    "n2 = 12          # Sample size for hardwood\n",
    "xbar1 = 2.7      # Sample mean warpage for laminate (degrees)\n",
    "xbar2 = 3.2      # Sample mean warpage for hardwood (degrees)\n",
    "sigma_squared = 0.8  # Common population variance for both systems\n",
    "sigma = sqrt(sigma_squared)  # Common population standard deviation\n",
    "conf_level = 0.90    # Confidence level\n",
    "\n",
    "# Calculate the difference in sample means\n",
    "diff_means = xbar1 - xbar2\n",
    "diff_means\n",
    "\n",
    "# Calculate standard error for the difference\n",
    "# SE(x̄₁ - x̄₂) = σ * √(1/n₁ + 1/n₂)\n",
    "se_diff = sigma * sqrt(1/n1 + 1/n2)\n",
    "print(paste(\"Standard Error (Difference of Means):\", round(se_diff, 4)))\n",
    "\n",
    "# For 90% confidence interval, find critical z-value\n",
    "# We use Z because population variances are known\n",
    "alpha = 1 - conf_level\n",
    "z_crit = qnorm(1 - alpha/2)\n",
    "print(paste(\"Critical z-value (90% CI):\", round(z_crit, 4)))\n",
    "\n",
    "# Calculate margin of error\n",
    "margin_error = z_crit * se_diff\n",
    "margin_error\n",
    "\n",
    "# Calculate confidence interval bounds\n",
    "lower = diff_means - margin_error\n",
    "upper = diff_means + margin_error\n",
    "lower\n",
    "upper\n"
   ]
  },
  {
   "cell_type": "markdown",
   "metadata": {},
   "source": [
    "### Interpretation\n",
    "\n",
    "**Statistical Interpretation:**\n",
    "We are 90% confident that the true difference in mean warpage (laminate minus hardwood) is between **-1.13** and **0.13** degrees.\n",
    "\n",
    "**Practical Interpretation:**\n",
    "Since the confidence interval **contains zero** (-1.13, 0.13), we cannot conclude that there is a statistically significant difference in warpage between the laminate and hardwood flooring systems at the 90% confidence level.\n",
    "\n",
    "**Business Decision:**\n",
    "The manufacturer **cannot confidently claim** that their laminate system experiences less warpage than hardwood flooring, because:\n",
    "- The interval includes positive values (suggesting laminate could have more warpage)\n",
    "- The interval includes negative values (suggesting laminate could have less warpage)  \n",
    "- The interval includes zero (suggesting no difference is possible)\n",
    "\n",
    "**Technical Notes:**\n",
    "- We used a **Z-interval** (not t-interval) because both population variances are known to be equal (σ² = 0.8)\n",
    "- The sample means were: laminate = 2.7°, hardwood = 3.2°, difference = -0.5°\n",
    "- This analysis assumes both populations are normally distributed\n"
   ]
  },
  {
   "cell_type": "markdown",
   "metadata": {},
   "source": [
    "## Question 7\n",
    "\n",
    "A manufacturer of a premium laminate and wood composite flooring system would like to be able to say that their product will experience less warpage than hardwood flooring under certain fixed temperature and humidity conditions.\n",
    "\n",
    "A random sample of size 10 from the laminate system produced a sample mean warpage of 2.7 degrees and a sample variance of 0.73. A random sample of size 12 from the hardwood flooring gave a sample mean warpage of 3.2 degrees and a sample variance of 0.80. It is believed that the true variance for the laminate system is the same as the true variance for the hardwood system.\n",
    "\n",
    "Assuming warpage for both products are normally distributed, find a 90% confidence interval for μ₁ - μ₂ where μ₁ is the true mean warpage for laminate and μ₂ is the true mean warpage for hardwood.\n",
    "\n",
    "**Calculate the 90% confidence interval for the difference in true mean warpage using pooled variance.**"
   ]
  },
  {
   "cell_type": "code",
   "execution_count": 29,
   "metadata": {
    "vscode": {
     "languageId": "r"
    }
   },
   "outputs": [
    {
     "data": {
      "text/html": [
       "0.854400374531753"
      ],
      "text/latex": [
       "0.854400374531753"
      ],
      "text/markdown": [
       "0.854400374531753"
      ],
      "text/plain": [
       "[1] 0.8544004"
      ]
     },
     "metadata": {},
     "output_type": "display_data"
    },
    {
     "data": {
      "text/html": [
       "0.894427190999916"
      ],
      "text/latex": [
       "0.894427190999916"
      ],
      "text/markdown": [
       "0.894427190999916"
      ],
      "text/plain": [
       "[1] 0.8944272"
      ]
     },
     "metadata": {},
     "output_type": "display_data"
    },
    {
     "data": {
      "text/html": [
       "-0.5"
      ],
      "text/latex": [
       "-0.5"
      ],
      "text/markdown": [
       "-0.5"
      ],
      "text/plain": [
       "[1] -0.5"
      ]
     },
     "metadata": {},
     "output_type": "display_data"
    },
    {
     "data": {
      "text/html": [
       "0.876641317757725"
      ],
      "text/latex": [
       "0.876641317757725"
      ],
      "text/markdown": [
       "0.876641317757725"
      ],
      "text/plain": [
       "[1] 0.8766413"
      ]
     },
     "metadata": {},
     "output_type": "display_data"
    },
    {
     "data": {
      "text/html": [
       "0.375355387155515"
      ],
      "text/latex": [
       "0.375355387155515"
      ],
      "text/markdown": [
       "0.375355387155515"
      ],
      "text/plain": [
       "[1] 0.3753554"
      ]
     },
     "metadata": {},
     "output_type": "display_data"
    },
    {
     "data": {
      "text/html": [
       "1.72471824292079"
      ],
      "text/latex": [
       "1.72471824292079"
      ],
      "text/markdown": [
       "1.72471824292079"
      ],
      "text/plain": [
       "[1] 1.724718"
      ]
     },
     "metadata": {},
     "output_type": "display_data"
    },
    {
     "data": {
      "text/html": [
       "0.647382283805712"
      ],
      "text/latex": [
       "0.647382283805712"
      ],
      "text/markdown": [
       "0.647382283805712"
      ],
      "text/plain": [
       "[1] 0.6473823"
      ]
     },
     "metadata": {},
     "output_type": "display_data"
    },
    {
     "data": {
      "text/html": [
       "<style>\n",
       ".list-inline {list-style: none; margin:0; padding: 0}\n",
       ".list-inline>li {display: inline-block}\n",
       ".list-inline>li:not(:last-child)::after {content: \"\\00b7\"; padding: 0 .5ex}\n",
       "</style>\n",
       "<ol class=list-inline><li>-1.14738228380571</li><li>0.147382283805712</li></ol>\n"
      ],
      "text/latex": [
       "\\begin{enumerate*}\n",
       "\\item -1.14738228380571\n",
       "\\item 0.147382283805712\n",
       "\\end{enumerate*}\n"
      ],
      "text/markdown": [
       "1. -1.14738228380571\n",
       "2. 0.147382283805712\n",
       "\n",
       "\n"
      ],
      "text/plain": [
       "[1] -1.1473823  0.1473823"
      ]
     },
     "metadata": {},
     "output_type": "display_data"
    }
   ],
   "source": [
    "# Question 7: Pooled Variance Two-Sample t-Confidence Interval\n",
    "# Given information\n",
    "n1 = 10          # Sample size for laminate\n",
    "n2 = 12          # Sample size for hardwood\n",
    "xbar1 = 2.7      # Sample mean warpage for laminate (degrees)\n",
    "xbar2 = 3.2      # Sample mean warpage for hardwood (degrees)\n",
    "s1_squared = 0.73  # Sample variance for laminate\n",
    "s2_squared = 0.80  # Sample variance for hardwood\n",
    "conf_level = 0.90    # Confidence level\n",
    "\n",
    "# Calculate sample standard deviations\n",
    "s1 = sqrt(s1_squared)\n",
    "s2 = sqrt(s2_squared)\n",
    "s1\n",
    "s2\n",
    "\n",
    "# Calculate the difference in sample means\n",
    "diff_means = xbar1 - xbar2\n",
    "diff_means\n",
    "\n",
    "# Calculate pooled variance\n",
    "# sp² = [(n1-1)s1² + (n2-1)s2²] / (n1+n2-2)\n",
    "sp_squared = ((n1-1)*s1_squared + (n2-1)*s2_squared) / (n1 + n2 - 2)\n",
    "sp = sqrt(sp_squared)\n",
    "sp\n",
    "\n",
    "# Calculate standard error for the difference using pooled variance\n",
    "# SE(x̄₁ - x̄₂) = sp * √(1/n₁ + 1/n₂)\n",
    "se_diff = sp * sqrt(1/n1 + 1/n2)\n",
    "se_diff\n",
    "\n",
    "# Degrees of freedom for pooled variance t-test\n",
    "df = n1 + n2 - 2\n",
    "\n",
    "# For 90% confidence interval, find critical t-value\n",
    "# We use t-distribution because we're using sample variances (not population variances)\n",
    "alpha = 1 - conf_level\n",
    "t_crit = qt(1 - alpha/2, df)\n",
    "t_crit\n",
    "\n",
    "# Calculate margin of error\n",
    "margin_error = t_crit * se_diff\n",
    "margin_error\n",
    "\n",
    "# Calculate confidence interval bounds\n",
    "lower = diff_means - margin_error\n",
    "upper = diff_means + margin_error\n",
    "c(lower, upper)\n"
   ]
  },
  {
   "cell_type": "markdown",
   "metadata": {},
   "source": [
    "### Interpretation\n",
    "\n",
    "**Statistical Interpretation:**\n",
    "We are 90% confident that the true difference in mean warpage (laminate minus hardwood) is between **-1.147** and **0.147** degrees.\n",
    "\n",
    "**Technical Notes:**\n",
    "- We used a **pooled variance t-interval** because:\n",
    "  - Population variances are unknown (using sample variances)\n",
    "  - We assume equal population variances (σ₁² = σ₂²)\n",
    "  - Both populations are normally distributed\n",
    "- Pooled standard deviation: sp ≈ 0.868 degrees\n",
    "- Degrees of freedom: df = n₁ + n₂ - 2 = 20\n",
    "- Critical t-value for 90% confidence: t₀.₀₅,₂₀ ≈ 1.725\n",
    "\n",
    "**Comparison with Question 6:**\n",
    "Unlike Question 6 where population variances were known (allowing Z-interval), here we have sample variances and must use a t-interval. The pooled variance approach assumes equal population variances, which is stated in the problem.\n",
    "\n",
    "**Practical Interpretation:**\n",
    "Since the confidence interval **contains zero** (-1.147, 0.147), we cannot conclude that there is a statistically significant difference in warpage between the laminate and hardwood flooring systems at the 90% confidence level.\n",
    "\n",
    "**Business Decision:**\n",
    "The manufacturer **cannot confidently claim** that their laminate system experiences less warpage than hardwood flooring. The interval suggests the difference could be anywhere from laminate having about 1.09 degrees more warpage to 0.09 degrees less warpage than hardwood."
   ]
  },
  {
   "cell_type": "markdown",
   "metadata": {},
   "source": [
    "## Question 8\n",
    "\n",
    "The Slant Shear Test (SST) is a widely used test for evaluating the bond of resinous repair materials to concrete. It was applied to two random samples of concrete slabs which were finished in different ways. Population 1 has a smooth finish while Population 2 has a more textured finish.\n",
    "\n",
    "The sample mean shear strength (in N/mm²) and sample variance for the smooth finish sample of size 138 were 18.17 and 1.78, respectively. The sample mean and variance in shear strength for a random sample of size 110 hand-chiseled specimens were 21.66 and 3.21.\n",
    "\n",
    "Find a 95% confidence interval for μ₁ - μ₂, the true mean difference in shear strengths.\n",
    "\n",
    "**Calculate the 95% confidence interval for the difference in true mean shear strengths using Welch's t-test (unequal variances).**"
   ]
  },
  {
   "cell_type": "code",
   "execution_count": 58,
   "metadata": {
    "vscode": {
     "languageId": "r"
    }
   },
   "outputs": [
    {
     "data": {
      "text/html": [
       "1.33416640641263"
      ],
      "text/latex": [
       "1.33416640641263"
      ],
      "text/markdown": [
       "1.33416640641263"
      ],
      "text/plain": [
       "[1] 1.334166"
      ]
     },
     "metadata": {},
     "output_type": "display_data"
    },
    {
     "data": {
      "text/html": [
       "1.79164728671689"
      ],
      "text/latex": [
       "1.79164728671689"
      ],
      "text/markdown": [
       "1.79164728671689"
      ],
      "text/plain": [
       "[1] 1.791647"
      ]
     },
     "metadata": {},
     "output_type": "display_data"
    },
    {
     "data": {
      "text/html": [
       "-3.49"
      ],
      "text/latex": [
       "-3.49"
      ],
      "text/markdown": [
       "-3.49"
      ],
      "text/plain": [
       "[1] -3.49"
      ]
     },
     "metadata": {},
     "output_type": "display_data"
    },
    {
     "data": {
      "text/html": [
       "0.205135001660994"
      ],
      "text/latex": [
       "0.205135001660994"
      ],
      "text/markdown": [
       "0.205135001660994"
      ],
      "text/plain": [
       "[1] 0.205135"
      ]
     },
     "metadata": {},
     "output_type": "display_data"
    },
    {
     "data": {
      "text/html": [
       "1.97214122166204"
      ],
      "text/latex": [
       "1.97214122166204"
      ],
      "text/markdown": [
       "1.97214122166204"
      ],
      "text/plain": [
       "[1] 1.972141"
      ]
     },
     "metadata": {},
     "output_type": "display_data"
    },
    {
     "data": {
      "text/html": [
       "0.404555192781357"
      ],
      "text/latex": [
       "0.404555192781357"
      ],
      "text/markdown": [
       "0.404555192781357"
      ],
      "text/plain": [
       "[1] 0.4045552"
      ]
     },
     "metadata": {},
     "output_type": "display_data"
    },
    {
     "data": {
      "text/html": [
       "-3.08544480721864"
      ],
      "text/latex": [
       "-3.08544480721864"
      ],
      "text/markdown": [
       "-3.08544480721864"
      ],
      "text/plain": [
       "[1] -3.085445"
      ]
     },
     "metadata": {},
     "output_type": "display_data"
    },
    {
     "data": {
      "text/html": [
       "-3.89455519278135"
      ],
      "text/latex": [
       "-3.89455519278135"
      ],
      "text/markdown": [
       "-3.89455519278135"
      ],
      "text/plain": [
       "[1] -3.894555"
      ]
     },
     "metadata": {},
     "output_type": "display_data"
    }
   ],
   "source": [
    "# Question 8: Welch's Two-Sample t-Confidence Interval (Unequal Variances)\n",
    "# Given information\n",
    "n1 = 138         # Sample size for smooth finish\n",
    "n2 = 110         # Sample size for textured finish\n",
    "xbar1 = 18.17    # Sample mean shear strength for smooth finish (N/mm²)\n",
    "xbar2 = 21.66    # Sample mean shear strength for textured finish (N/mm²)\n",
    "s1_squared = 1.78  # Sample variance for smooth finish\n",
    "s2_squared = 3.21  # Sample variance for textured finish\n",
    "conf_level = 0.95    # Confidence level\n",
    "\n",
    "# Calculate sample standard deviations\n",
    "s1 = sqrt(s1_squared)\n",
    "s2 = sqrt(s2_squared)\n",
    "s1; s2\n",
    "\n",
    "# Calculate the difference in sample means\n",
    "diff_means = xbar1 - xbar2\n",
    "diff_means\n",
    "\n",
    "# Calculate standard error for the difference (Welch's method)\n",
    "# SE(x̄₁ - x̄₂) = √(s₁²/n₁ + s₂²/n₂)\n",
    "se_diff = sqrt(s1_squared/n1 + s2_squared/n2)\n",
    "se_diff\n",
    "\n",
    "# Calculate degrees of freedom using Welch-Satterthwaite equation\n",
    "# df = (s₁²/n₁ + s₂²/n₂)² / [(s₁²/n₁)²/(n₁-1) + (s₂²/n₂)²/(n₂-1)]\n",
    "numerator = (s1_squared/n1 + s2_squared/n2)^2\n",
    "denominator = (s1_squared/n1)^2/(n1-1) + (s2_squared/n2)^2/(n2-1)\n",
    "df = numerator / denominator\n",
    "df = floor(df)  # Round down to nearest integer\n",
    "\n",
    "# For 95% confidence interval, find critical t-value\n",
    "alpha = 1 - conf_level\n",
    "t_crit = qt(1 - alpha/2, df)\n",
    "t_crit\n",
    "\n",
    "# Calculate margin of error\n",
    "margin_error = t_crit * se_diff\n",
    "margin_error\n",
    "\n",
    "# Calculate confidence interval bounds\n",
    "lower = diff_means - margin_error\n",
    "upper = diff_means + margin_error\n",
    "upper\n",
    "lower"
   ]
  },
  {
   "cell_type": "markdown",
   "metadata": {},
   "source": [
    "### Interpretation\n",
    "\n",
    "**Statistical Interpretation:**\n",
    "We are 95% confident that the true difference in mean shear strength (smooth finish minus textured finish) is between **-3.895** and **-3.085** N/mm².\n",
    "\n",
    "**Technical Notes:**\n",
    "- We used **Welch's two-sample t-test** (unequal variances) because:\n",
    "  - The sample variances are quite different (1.78 vs 3.21)\n",
    "  - We cannot assume equal population variances\n",
    "  - Welch-Satterthwaite degrees of freedom ≈ 184\n",
    "- Standard error of difference = √(s₁²/n₁ + s₂²/n₂) ≈ 0.206 N/mm²\n",
    "- Critical t-value for 95% confidence ≈ 1.973\n",
    "\n",
    "**Comparison with Previous Questions:**\n",
    "- **Question 6**: Known population variances → Z-interval\n",
    "- **Question 7**: Equal assumed variances → pooled t-interval  \n",
    "- **Question 8**: Unequal sample variances → Welch's t-interval\n",
    "\n",
    "**Practical Interpretation:**\n",
    "Since the entire confidence interval is **negative** (-3.895, -3.085), we can conclude with 95% confidence that:\n",
    "- The smooth finish concrete has **significantly lower** shear strength than the textured finish\n",
    "- The textured finish is stronger by approximately **3.085 to 3.895 N/mm²**\n",
    "- This suggests that the hand-chiseled (textured) surface provides better bonding properties\n",
    "\n",
    "**Engineering Implications:**\n",
    "For resinous repair materials, the textured finish appears to provide superior bond strength compared to smooth finishes. The difference is both statistically significant and practically meaningful in construction applications."
   ]
  }
 ],
 "metadata": {
  "kernelspec": {
   "display_name": "R",
   "language": "R",
   "name": "ir"
  },
  "language_info": {
   "codemirror_mode": "r",
   "file_extension": ".r",
   "mimetype": "text/x-r-source",
   "name": "R",
   "pygments_lexer": "r",
   "version": "4.4.3"
  }
 },
 "nbformat": 4,
 "nbformat_minor": 4
}
