{
 "cells": [
  {
   "cell_type": "markdown",
   "metadata": {},
   "source": [
    "# Confidence Intervals in R\n"
   ]
  },
  {
   "cell_type": "markdown",
   "metadata": {},
   "source": [
    "# An Exploration of Confidence\n",
    "\n",
    "> Generate a random sample of size 10 from the N(1,2) distribution.  \n",
    ">You can do this by typing  \n",
    ">`mysamp<-rnorm(10,1,sqrt(2))`  \n",
    "> or my generating N(0,1) random variables and \"unstandardizing\" them by typing  \n",
    "> `mysample<-sqrt(2)*rnorm(10)+1`"
   ]
  },
  {
   "cell_type": "code",
   "execution_count": 16,
   "metadata": {
    "vscode": {
     "languageId": "r"
    }
   },
   "outputs": [
    {
     "data": {
      "text/html": [
       "<style>\n",
       ".list-inline {list-style: none; margin:0; padding: 0}\n",
       ".list-inline>li {display: inline-block}\n",
       ".list-inline>li:not(:last-child)::after {content: \"\\00b7\"; padding: 0 .5ex}\n",
       "</style>\n",
       "<ol class=list-inline><li>1.08122045285279</li><li>0.808629116216274</li><li>1.94773020478659</li><li>-1.57626479241538</li><li>-0.273175383088114</li><li>1.04181381807973</li><li>0.526113868397426</li><li>3.32259930535474</li><li>1.6692058844646</li><li>2.18471687605791</li></ol>\n"
      ],
      "text/latex": [
       "\\begin{enumerate*}\n",
       "\\item 1.08122045285279\n",
       "\\item 0.808629116216274\n",
       "\\item 1.94773020478659\n",
       "\\item -1.57626479241538\n",
       "\\item -0.273175383088114\n",
       "\\item 1.04181381807973\n",
       "\\item 0.526113868397426\n",
       "\\item 3.32259930535474\n",
       "\\item 1.6692058844646\n",
       "\\item 2.18471687605791\n",
       "\\end{enumerate*}\n"
      ],
      "text/markdown": [
       "1. 1.08122045285279\n",
       "2. 0.808629116216274\n",
       "3. 1.94773020478659\n",
       "4. -1.57626479241538\n",
       "5. -0.273175383088114\n",
       "6. 1.04181381807973\n",
       "7. 0.526113868397426\n",
       "8. 3.32259930535474\n",
       "9. 1.6692058844646\n",
       "10. 2.18471687605791\n",
       "\n",
       "\n"
      ],
      "text/plain": [
       " [1]  1.0812205  0.8086291  1.9477302 -1.5762648 -0.2731754  1.0418138\n",
       " [7]  0.5261139  3.3225993  1.6692059  2.1847169"
      ]
     },
     "metadata": {},
     "output_type": "display_data"
    }
   ],
   "source": [
    "mysample = rnorm(10, 1, sqrt(2))\n",
    "mysample"
   ]
  },
  {
   "cell_type": "markdown",
   "metadata": {},
   "source": [
    "> We know that the variance of the distribution this sample came from is 2. Let us suppose that we don't know the mean. Estimate it with the sample mean by typing  \n",
    "` xbar<-mean(mysamp)`\n",
    "\n",
    "> You have found the sample mean and assigned it to a variable called \"xbar\". View it by typing  \n",
    "`xbar`  \n",
    "in the same cell but on the next line."
   ]
  },
  {
   "cell_type": "code",
   "execution_count": 17,
   "metadata": {
    "vscode": {
     "languageId": "r"
    }
   },
   "outputs": [
    {
     "data": {
      "text/html": [
       "1.07325893507066"
      ],
      "text/latex": [
       "1.07325893507066"
      ],
      "text/markdown": [
       "1.07325893507066"
      ],
      "text/plain": [
       "[1] 1.073259"
      ]
     },
     "metadata": {},
     "output_type": "display_data"
    }
   ],
   "source": [
    "xbar = mean(mysample)\n",
    "xbar"
   ]
  },
  {
   "cell_type": "markdown",
   "metadata": {},
   "source": [
    "> Let's find the critical values for a 95% confidence interval. We wand to find two values that, when indicated on the x-axis for a standard normal curve, capture area 0.95 between them. This means that we want to find a number that cuts of area 0.95+0.05/2=0.975 to the left and 0.025 to the right. We can get this by typing  \n",
    "`qnorm(0.975)`  \n",
    "Let's call the result \"cv\" for \"critical value\".  \n",
    "`cv<-qnorm(0.975)`"
   ]
  },
  {
   "cell_type": "code",
   "execution_count": 18,
   "metadata": {
    "vscode": {
     "languageId": "r"
    }
   },
   "outputs": [],
   "source": [
    "cv = qnorm(0.975)"
   ]
  },
  {
   "cell_type": "markdown",
   "metadata": {},
   "source": [
    "> We are ready to compute the confidence interval!  \n",
    "The lower endpoint is given by  \n",
    "`xbar-cv*sqrt(2/10)`  \n",
    "and the upper endpoint is  \n",
    "`xbar+cv*sqrt(2/10)` \n",
    "\n",
    ">Let's store them in a vector by typing  \n",
    "`myci<-c(xbar-cv*sqrt(2/10),xbar+cv*sqrt(2/10))`  \n",
    "and display it by typing  \n",
    "`myci`"
   ]
  },
  {
   "cell_type": "code",
   "execution_count": 19,
   "metadata": {
    "vscode": {
     "languageId": "r"
    }
   },
   "outputs": [
    {
     "data": {
      "text/html": [
       "<style>\n",
       ".list-inline {list-style: none; margin:0; padding: 0}\n",
       ".list-inline>li {display: inline-block}\n",
       ".list-inline>li:not(:last-child)::after {content: \"\\00b7\"; padding: 0 .5ex}\n",
       "</style>\n",
       "<ol class=list-inline><li>0.196736394494075</li><li>1.94978147564724</li></ol>\n"
      ],
      "text/latex": [
       "\\begin{enumerate*}\n",
       "\\item 0.196736394494075\n",
       "\\item 1.94978147564724\n",
       "\\end{enumerate*}\n"
      ],
      "text/markdown": [
       "1. 0.196736394494075\n",
       "2. 1.94978147564724\n",
       "\n",
       "\n"
      ],
      "text/plain": [
       "[1] 0.1967364 1.9497815"
      ]
     },
     "metadata": {},
     "output_type": "display_data"
    }
   ],
   "source": [
    "myci = c(xbar - cv*sqrt(2/10), xbar + cv*sqrt(2/10))\n",
    "myci"
   ]
  },
  {
   "cell_type": "markdown",
   "metadata": {},
   "source": [
    "> Does your confidence interval contain the true mean of 1 for this sample? It doesn't have to. In fact, 5% of the time it won't! Let's see this in action. Let's look at 100,000 different random samples of size 10. For each sample we will compute a confidence interval and we will keep track of the total number of times the interval contains the true mean of 1.\n",
    "\n",
    "> Begin by initializing a count variable and making a \"for loop\" by typing  \n",
    "`count<-0`  \n",
    "`for(i in 1:100000){`  \n",
    "`}`\n",
    "\n",
    "> Just before starting the \"for loop\", set the appropriate critical value. (It is already set in this jupyter notebook but we will do it again here for completeness of our little piece of code.)  \n",
    "`count<-0`  \n",
    "`cv<-qnorm(0.975)`  \n",
    "`for(i in 1:100000){`  \n",
    "`}`\n",
    "\n",
    "> Inside your \"for loop\", generate a random sample of size 10 from the N(1,2) distribution called \"mysamp\". Compute the sample mean and call it \"xbar\".  \n",
    "\n",
    "> Check whether or not the resulting confidence interval contains the true mean of 1 and increment your count variable if it does!  \n",
    "`if(xbar-cv*sqrt(2/10)< 1 && xbar+cv*sqrt(2/10)>1){  \n",
    "     count<-count+1\n",
    "}`"
   ]
  },
  {
   "cell_type": "code",
   "execution_count": 20,
   "metadata": {
    "vscode": {
     "languageId": "r"
    }
   },
   "outputs": [],
   "source": [
    "count = 0\n",
    "cv = qnorm(0.975)\n",
    "for (i in 1:100000) {\n",
    "    if(xbar - cv*sqrt(2/10) < 1 & xbar + cv*sqrt(2/10) > 1) {\n",
    "        count = count + 1\n",
    "    }\n",
    "}"
   ]
  },
  {
   "cell_type": "markdown",
   "metadata": {},
   "source": [
    "> Look at the proportion by typing  \n",
    "`count/100000`  \n",
    "What do you see?"
   ]
  },
  {
   "cell_type": "code",
   "execution_count": 21,
   "metadata": {
    "vscode": {
     "languageId": "r"
    }
   },
   "outputs": [
    {
     "data": {
      "text/html": [
       "1"
      ],
      "text/latex": [
       "1"
      ],
      "text/markdown": [
       "1"
      ],
      "text/plain": [
       "[1] 1"
      ]
     },
     "metadata": {},
     "output_type": "display_data"
    }
   ],
   "source": [
    "count/100000"
   ]
  },
  {
   "cell_type": "markdown",
   "metadata": {},
   "source": [
    "# Making a Confidence Interval Function\n",
    "\n",
    "> R has built-in functions to make confidence intervals for the mean of a population or the difference in two means. That is, anything confidence interval for a mean or difference of means that requires a t-critical value.In order to get a confidence interval with z-critical values, one would have to load a special package. Instead of doing this, let's work with the base packages in R and write our own function.  \n",
    "\n",
    ">In the cell below, type  \n",
    "`normCI<-function(data,variance,level){}`  \n",
    "\n",
    "> In **between the braces** (which can be on different lines for clarity) add the lines  \n",
    "`cv<-qnorm(level+(1-level)/2)  \n",
    "xbar<-mean(data)  \n",
    "c(xbar-cv*sqrt(variance/length(data)),xbar+cv*sqrt(variance/length(data)))`\n"
   ]
  },
  {
   "cell_type": "code",
   "execution_count": 22,
   "metadata": {
    "vscode": {
     "languageId": "r"
    }
   },
   "outputs": [],
   "source": [
    "normCI = function(data, variance, level){\n",
    "    cv = qnorm(level + (1-level)/2)\n",
    "    xbar = mean(data)\n",
    "    c(xbar - cv*sqrt(variance/length(data)), xbar + cv*sqrt(variance/length(data)))\n",
    "}"
   ]
  },
  {
   "cell_type": "markdown",
   "metadata": {},
   "source": [
    "> Now type  \n",
    "`normCI(mysamp,2,0.95)`  \n",
    "  \n",
    "> Note that you will not get the exact same confidence interval that you originally computed at the beginning of this lab because we have overwritten the vector \"mysamp\"-- many times in fact!  "
   ]
  },
  {
   "cell_type": "code",
   "execution_count": 23,
   "metadata": {
    "vscode": {
     "languageId": "r"
    }
   },
   "outputs": [
    {
     "data": {
      "text/html": [
       "<style>\n",
       ".list-inline {list-style: none; margin:0; padding: 0}\n",
       ".list-inline>li {display: inline-block}\n",
       ".list-inline>li:not(:last-child)::after {content: \"\\00b7\"; padding: 0 .5ex}\n",
       "</style>\n",
       "<ol class=list-inline><li>0.196736394494075</li><li>1.94978147564724</li></ol>\n"
      ],
      "text/latex": [
       "\\begin{enumerate*}\n",
       "\\item 0.196736394494075\n",
       "\\item 1.94978147564724\n",
       "\\end{enumerate*}\n"
      ],
      "text/markdown": [
       "1. 0.196736394494075\n",
       "2. 1.94978147564724\n",
       "\n",
       "\n"
      ],
      "text/plain": [
       "[1] 0.1967364 1.9497815"
      ]
     },
     "metadata": {},
     "output_type": "display_data"
    }
   ],
   "source": [
    "normCI(mysample, 2, 0.95)"
   ]
  },
  {
   "cell_type": "markdown",
   "metadata": {},
   "source": [
    "# Built in t-Confidence Intervals in R  \n",
    "> Compresive strength of concrete is measured in $\\text{KN/m}^{2}$. A random  sample of one type of concrete (cement mixed with pulverized fuel ash) and a random sample of another type of concrete (cement mixed with a new artifical siliceous material produced in a lab) were obtained.  \n",
    "\n",
    ">Read in the first random sample from provided data files by typing the following.  \n",
    "`flyash<-read.table(\"flyash\")`    \n",
    "`flyash<-c(unlist(flyash))`  \n",
    "`flyash<-as.vector(flyash)`\n",
    "\n",
    "Do the same thing for the second sample. The filename for this is 'silicate'."
   ]
  },
  {
   "cell_type": "code",
   "execution_count": 24,
   "metadata": {
    "vscode": {
     "languageId": "r"
    }
   },
   "outputs": [
    {
     "data": {
      "text/html": [
       "<style>\n",
       ".list-inline {list-style: none; margin:0; padding: 0}\n",
       ".list-inline>li {display: inline-block}\n",
       ".list-inline>li:not(:last-child)::after {content: \"\\00b7\"; padding: 0 .5ex}\n",
       "</style>\n",
       "<ol class=list-inline><li>1380.339</li><li>1350.12</li><li>1409.393</li><li>1435.104</li><li>1458.063</li><li>1380.931</li><li>1442.206</li><li>1316.691</li></ol>\n"
      ],
      "text/latex": [
       "\\begin{enumerate*}\n",
       "\\item 1380.339\n",
       "\\item 1350.12\n",
       "\\item 1409.393\n",
       "\\item 1435.104\n",
       "\\item 1458.063\n",
       "\\item 1380.931\n",
       "\\item 1442.206\n",
       "\\item 1316.691\n",
       "\\end{enumerate*}\n"
      ],
      "text/markdown": [
       "1. 1380.339\n",
       "2. 1350.12\n",
       "3. 1409.393\n",
       "4. 1435.104\n",
       "5. 1458.063\n",
       "6. 1380.931\n",
       "7. 1442.206\n",
       "8. 1316.691\n",
       "\n",
       "\n"
      ],
      "text/plain": [
       "[1] 1380.339 1350.120 1409.393 1435.104 1458.063 1380.931 1442.206 1316.691"
      ]
     },
     "metadata": {},
     "output_type": "display_data"
    }
   ],
   "source": [
    "flyash = read.table(\"flyash\")\n",
    "flyash = c(unlist(flyash))\n",
    "flyash = as.vector(flyash)\n",
    "flyash"
   ]
  },
  {
   "cell_type": "code",
   "execution_count": 25,
   "metadata": {
    "vscode": {
     "languageId": "r"
    }
   },
   "outputs": [
    {
     "data": {
      "text/html": [
       "<style>\n",
       ".list-inline {list-style: none; margin:0; padding: 0}\n",
       ".list-inline>li {display: inline-block}\n",
       ".list-inline>li:not(:last-child)::after {content: \"\\00b7\"; padding: 0 .5ex}\n",
       "</style>\n",
       "<ol class=list-inline><li>1276.423</li><li>1331.251</li><li>1379.628</li><li>1375.97</li><li>1340.714</li><li>1360.133</li><li>1276.382</li><li>1327.737</li><li>1331.68</li></ol>\n"
      ],
      "text/latex": [
       "\\begin{enumerate*}\n",
       "\\item 1276.423\n",
       "\\item 1331.251\n",
       "\\item 1379.628\n",
       "\\item 1375.97\n",
       "\\item 1340.714\n",
       "\\item 1360.133\n",
       "\\item 1276.382\n",
       "\\item 1327.737\n",
       "\\item 1331.68\n",
       "\\end{enumerate*}\n"
      ],
      "text/markdown": [
       "1. 1276.423\n",
       "2. 1331.251\n",
       "3. 1379.628\n",
       "4. 1375.97\n",
       "5. 1340.714\n",
       "6. 1360.133\n",
       "7. 1276.382\n",
       "8. 1327.737\n",
       "9. 1331.68\n",
       "\n",
       "\n"
      ],
      "text/plain": [
       "[1] 1276.423 1331.251 1379.628 1375.970 1340.714 1360.133 1276.382 1327.737\n",
       "[9] 1331.680"
      ]
     },
     "metadata": {},
     "output_type": "display_data"
    }
   ],
   "source": [
    "silicate = read.table(\"silicate\")\n",
    "silicate = c(unlist(silicate))\n",
    "silicate = as.vector(silicate)\n",
    "silicate"
   ]
  },
  {
   "cell_type": "markdown",
   "metadata": {},
   "source": [
    "> Assume that the populations are both normally distributed.  \n",
    "> Find a 95% confidence interval for the true mean compresive strength of the fly ash mix by typing  \n",
    "`t.test(flyash)`  \n",
    "> Can you pick the confidence interval out from this information?"
   ]
  },
  {
   "cell_type": "code",
   "execution_count": 26,
   "metadata": {
    "vscode": {
     "languageId": "r"
    }
   },
   "outputs": [
    {
     "data": {
      "text/plain": [
       "\n",
       "\tOne Sample t-test\n",
       "\n",
       "data:  flyash\n",
       "t = 81.216, df = 7, p-value = 1.129e-11\n",
       "alternative hypothesis: true mean is not equal to 0\n",
       "95 percent confidence interval:\n",
       " 1355.943 1437.268\n",
       "sample estimates:\n",
       "mean of x \n",
       " 1396.606 \n"
      ]
     },
     "metadata": {},
     "output_type": "display_data"
    }
   ],
   "source": [
    "t.test(flyash)"
   ]
  },
  {
   "cell_type": "markdown",
   "metadata": {},
   "source": [
    "Suppose that we want to change the default confidence level from 95% to 90%. Type the following  \n",
    "`t.test(flyash',conf.level=0.90)`  \n",
    "Does the width of the resulting confidence interval compare to the width of the previous 95% interval in the way that you expected?"
   ]
  },
  {
   "cell_type": "code",
   "execution_count": 27,
   "metadata": {
    "vscode": {
     "languageId": "r"
    }
   },
   "outputs": [
    {
     "data": {
      "text/plain": [
       "\n",
       "\tOne Sample t-test\n",
       "\n",
       "data:  flyash\n",
       "t = 81.216, df = 7, p-value = 1.129e-11\n",
       "alternative hypothesis: true mean is not equal to 0\n",
       "90 percent confidence interval:\n",
       " 1364.026 1429.185\n",
       "sample estimates:\n",
       "mean of x \n",
       " 1396.606 \n"
      ]
     },
     "metadata": {},
     "output_type": "display_data"
    }
   ],
   "source": [
    "t.test(flyash, conf.level=0.90)"
   ]
  },
  {
   "cell_type": "markdown",
   "metadata": {},
   "source": [
    "> Finally, let us do a two-sample t-test to compare the means for both concrete populations by typing  \n",
    "`t.test(flyash,silicate')`"
   ]
  },
  {
   "cell_type": "code",
   "execution_count": 28,
   "metadata": {
    "vscode": {
     "languageId": "r"
    }
   },
   "outputs": [
    {
     "data": {
      "text/plain": [
       "\n",
       "\tWelch Two Sample t-test\n",
       "\n",
       "data:  flyash and silicate\n",
       "t = 2.9765, df = 13.143, p-value = 0.0106\n",
       "alternative hypothesis: true difference in means is not equal to 0\n",
       "95 percent confidence interval:\n",
       "  17.4014 109.1619\n",
       "sample estimates:\n",
       "mean of x mean of y \n",
       " 1396.606  1333.324 \n"
      ]
     },
     "metadata": {},
     "output_type": "display_data"
    }
   ],
   "source": [
    "t.test(flyash, silicate)"
   ]
  },
  {
   "cell_type": "markdown",
   "metadata": {},
   "source": [
    "> Does it appear that the new silcate mix is stronger than the fly ash mix?  \n",
    "\n",
    "> You'll notice that the \"Welch t-test\" was performed. This is the more general test if you can not assume that the populations has equal variances. This is most likely what you will be using in \"real life\". However, if you would like to perform a \"pooled variance test\", you would include \"var.equal=T\" in your last command.  \n",
    "\n",
    "> Try this. Is your resulting confidence interval wider or narrower than the Welch confidence interval? Does the relative length make sense to you?\n"
   ]
  },
  {
   "cell_type": "code",
   "execution_count": 29,
   "metadata": {
    "vscode": {
     "languageId": "r"
    }
   },
   "outputs": [
    {
     "data": {
      "text/plain": [
       "\n",
       "\tTwo Sample t-test\n",
       "\n",
       "data:  flyash and silicate\n",
       "t = 3.0244, df = 15, p-value = 0.008538\n",
       "alternative hypothesis: true difference in means is not equal to 0\n",
       "95 percent confidence interval:\n",
       "  18.68324 107.88007\n",
       "sample estimates:\n",
       "mean of x mean of y \n",
       " 1396.606  1333.324 \n"
      ]
     },
     "metadata": {},
     "output_type": "display_data"
    }
   ],
   "source": [
    "t.test(flyash, silicate,var.equal = TRUE)"
   ]
  }
 ],
 "metadata": {
  "kernelspec": {
   "display_name": "R",
   "language": "R",
   "name": "ir"
  },
  "language_info": {
   "codemirror_mode": "r",
   "file_extension": ".r",
   "mimetype": "text/x-r-source",
   "name": "R",
   "pygments_lexer": "r",
   "version": "4.4.3"
  }
 },
 "nbformat": 4,
 "nbformat_minor": 4
}
