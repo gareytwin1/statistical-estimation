{
 "cells": [
  {
   "cell_type": "markdown",
   "metadata": {
    "deletable": false,
    "editable": false,
    "nbgrader": {
     "cell_type": "markdown",
     "checksum": "6d6b6e8cf564458ce365ee12484169d2",
     "grade": false,
     "grade_id": "cell-4bb1ffa9e17a57a8",
     "locked": true,
     "schema_version": 3,
     "solution": false,
     "task": false
    }
   },
   "source": [
    "# Module 4 Autograded Assignment"
   ]
  },
  {
   "cell_type": "code",
   "execution_count": null,
   "metadata": {
    "deletable": false,
    "editable": false,
    "nbgrader": {
     "cell_type": "code",
     "checksum": "922054bf1a38f5b45e44e61005f4aaff",
     "grade": false,
     "grade_id": "cell-9db023e819a9061d",
     "locked": true,
     "schema_version": 3,
     "solution": false,
     "task": false
    }
   },
   "outputs": [],
   "source": [
    "# Run this cell to load necesary libraries for autograder\n",
    "library(testthat)\n",
    "library(ggplot2)"
   ]
  },
  {
   "cell_type": "markdown",
   "metadata": {
    "deletable": false,
    "editable": false,
    "nbgrader": {
     "cell_type": "markdown",
     "checksum": "0d5f0b2366a252ede46c183daa85e73c",
     "grade": false,
     "grade_id": "cell-c9e2a94381287a1d",
     "locked": true,
     "schema_version": 3,
     "solution": false,
     "task": false
    }
   },
   "source": [
    "# Problem 1\n",
    "\n",
    "<img src=\"ralphie-run.jpg\" style=\"width:600px;\"/>\n",
    "\n",
    "Ralphie is fascinated with sports and sports fans, and wants to how many people go to the football games to see her run across the field. However, she can't ask the game organizers to share their numbers with her (because she's a buffalo) so she decides to count how many people are in the stadium herself. But counting while running is difficult, so her counts may be incorrect. To address this problem, Ralphie has hired $9$ other buffalo to hide amongst the stadium and count the number of attendees. Each buffalo counted at a total of $n=20$ games, and their results can be seen below. Note that this problem assumes that all of the games have the same underlying population distribution.\n",
    "\n",
    "We want to help Ralphie find a confidence interval for the average number of attendees. Let's begin by loading in all data recorded by the herd. The data is in a file called buffalo.csv which is a table of comma separated values. We will also use the \"head\" function to show the first few rows of the table.\n",
    "\n",
    "(Note: We will be using a function called \"read.table()\". R also has a function called \"read.csv()\" which might seem more appropriate here since we are reading a csv file. read.csv() is just a special case of read.table() but it requires a little more care to use in terms of setting up labels for rows and columns.)"
   ]
  },
  {
   "cell_type": "code",
   "execution_count": null,
   "metadata": {
    "deletable": false,
    "editable": false,
    "nbgrader": {
     "cell_type": "code",
     "checksum": "7cf72d5b2df34e7653901a6f12c8c1c8",
     "grade": false,
     "grade_id": "cell-8c7284b9216ca385",
     "locked": true,
     "schema_version": 3,
     "solution": false,
     "task": false
    }
   },
   "outputs": [],
   "source": [
    "# Run this cell\n",
    "data.buffalo = read.table(\"buffalo.csv\",sep=\",\")\n",
    "\n",
    "# Check out the dimension of the data\n",
    "dim(data.buffalo)\n",
    "\n",
    "# Show the first few rows of the data\n",
    "head(data.buffalo)"
   ]
  },
  {
   "cell_type": "markdown",
   "metadata": {
    "deletable": false,
    "editable": false,
    "nbgrader": {
     "cell_type": "markdown",
     "checksum": "5e9864e28b9657242b34506dc6ecb0c2",
     "grade": false,
     "grade_id": "cell-b77c01e6091e26ee",
     "locked": true,
     "schema_version": 3,
     "solution": false,
     "task": false
    }
   },
   "source": [
    "**Part A:** The data in the first column of data.buffalo, labeled as column \"V1\", are measurements taken by a buffalo named Sally. In the next cell, extract Sally's data by typing \n",
    "\n",
    "<code>data.sally = data.buffalo$V1</code>\n",
    "\n",
    "Alternatively, you may type\n",
    "\n",
    "<code>data.sally = data.buffalo[,1]</code>\n",
    "\n",
    "to get that first column.\n",
    "\n",
    "Assuming that these data come from a normal distribution, compute a 90\\% confidence interval for the true average number of attendees. You will use functions like mean(), var(), and qnorm(). Store your lower and upper confidence interval endpoints in the variables lower.bound and upper.bound. Report your answers in the next cell by replacing the \"NA placeholders\" with your values."
   ]
  },
  {
   "cell_type": "code",
   "execution_count": null,
   "metadata": {
    "deletable": false,
    "nbgrader": {
     "cell_type": "code",
     "checksum": "ae32ff222482cbd70372802ac7a4434e",
     "grade": false,
     "grade_id": "cell-ab7fab5a1f3bd0c2",
     "locked": false,
     "schema_version": 3,
     "solution": true,
     "task": false
    }
   },
   "outputs": [],
   "source": [
    "# Placeholders for answers\n",
    "lower.bound = NA\n",
    "upper.bound = NA\n",
    "\n",
    "# Do your computations here and then redefine lower.bound and upper.bound for the autograder \n",
    "# your code here\n"
   ]
  },
  {
   "cell_type": "code",
   "execution_count": null,
   "metadata": {
    "deletable": false,
    "editable": false,
    "nbgrader": {
     "cell_type": "code",
     "checksum": "c303afe01e0c791eb4101f0d19db3446",
     "grade": true,
     "grade_id": "cell-856aba7c5f1c1b20",
     "locked": true,
     "points": 3,
     "schema_version": 3,
     "solution": false,
     "task": false
    }
   },
   "outputs": [],
   "source": [
    "# Hidden Test Cell"
   ]
  },
  {
   "cell_type": "markdown",
   "metadata": {
    "deletable": false,
    "editable": false,
    "nbgrader": {
     "cell_type": "markdown",
     "checksum": "1cd1e735dc991f2b737fbf85117e762e",
     "grade": false,
     "grade_id": "cell-f95ec6c34a707648",
     "locked": true,
     "schema_version": 3,
     "solution": false,
     "task": false
    }
   },
   "source": [
    "**Part B:** For these 4 questions, determine whether the answer is true or false. Report your answers in the next cell by replacing the \"NA placeholders\" for each part with either TRUE or FALSE.\n",
    "\n",
    "Ralph (Ralphie's cousin) computed a 90% confidence interval as $[19,571, 25,249]$ for the mean number of attendees. But he's not sure how to interpret his confidence interval so he's asked you for help. For each of the following statements, answer `TRUE` or `FALSE` into the corresponding answer variable for whether the statement is correct.\n",
    "\n",
    "**1.** If Ralph has no other evidence regarding the true mean number of attendees, he could say there is a $90\\%$ chance that the population's true mean falls between $19,571$ and $25,249$.\n",
    "\n",
    "**2.** If Ralph counts the number of attendees at another game, there is a $90\\%$ chance that the counted number will be between $19,571$ and $25,249$. \n",
    "\n",
    "**3.** If Ralph also calculates a $95\\%$ confidence interval for his data, then the $95\\%$ interval will be wider than the $90\\%$ interval.\n",
    "\n",
    "**4.** If Ralph counts the number of attendees at an $11^{th}$ game, adds that count to his original data and then calculates another $90\\%$ confidence interval, then the new interval will be narrower than the original one (i.e. the difference between the upper and lower values will be smaller)."
   ]
  },
  {
   "cell_type": "code",
   "execution_count": null,
   "metadata": {
    "deletable": false,
    "nbgrader": {
     "cell_type": "code",
     "checksum": "a2b7a88847df8a5fbd9831408f925d05",
     "grade": false,
     "grade_id": "cell-366b60e8b0835249",
     "locked": false,
     "schema_version": 3,
     "solution": true,
     "task": false
    }
   },
   "outputs": [],
   "source": [
    "# Replace each NA with either TRUE or FALSE \n",
    "# Please ignore the prompt that says \"Your code here\". This is not a coding problem!\n",
    "prob.1.a.1 = NA\n",
    "\n",
    "prob.1.a.2 = NA\n",
    "\n",
    "prob.1.a.3 = NA\n",
    "\n",
    "prob.1.a.4 = NA\n",
    "\n",
    "\n",
    "# your code here\n"
   ]
  },
  {
   "cell_type": "code",
   "execution_count": null,
   "metadata": {
    "deletable": false,
    "editable": false,
    "nbgrader": {
     "cell_type": "code",
     "checksum": "aa037fdeeead5b446c8d6e7c7c5e4a19",
     "grade": true,
     "grade_id": "cell-3314322e0abeba99",
     "locked": true,
     "points": 3,
     "schema_version": 3,
     "solution": false,
     "task": false
    }
   },
   "outputs": [],
   "source": [
    "# Hidden Test Cell"
   ]
  },
  {
   "cell_type": "markdown",
   "metadata": {
    "deletable": false,
    "editable": false,
    "nbgrader": {
     "cell_type": "markdown",
     "checksum": "fce1d13ade38785349c3973758cc90bd",
     "grade": false,
     "grade_id": "cell-be7ccfc4f40f33d8",
     "locked": true,
     "schema_version": 3,
     "solution": false,
     "task": false
    }
   },
   "source": [
    "**Part C:**\n",
    "\n",
    "Now let's look at the data from all of the buffalo. If we calculate 10 different $60\\%$ confidence interval for each buffalo's count (i.e. each using $20$ values), how many CIs do we expect to contain the true mean? Store your answer in `theoretical_hits`.\n",
    "\n",
    "We will now check what we actually observe against the theoretical answer. Calculate the $60\\%$ confidence interval for each buffalo's count. \n",
    "\n",
    "Assuming that the true mean is $\\mu=25000$, find the number of those CIs contain the true mean. Store this value in `sample_hits`. Does this value match the theoretical value? Should it?\n",
    "\n",
    "<i>(Here are some hints if you have no idea where to start. Your correct approach may not look anything like this!\n",
    "    <ol>\n",
    "        <li> Create a 10 by 1 vector to hold the results for each confidence interval. It could be a Boolean vector holding values like TRUE and FALSE or a numeric vector holding values like 1 and 0 where 1 means that the true mean is in the confidence interval and 0 means that it isn't.</li>\n",
    "        <li>Create a \"for loop\" that will run 10 times. Each time through the loop you can compute a new confidence interval using your previous code for Sally's confidence interval with minor adjustments, determine whether or not the true $\\mu$ is in the interval, and fill in the corresponding position in the results vector with your conclusion.</li>\n",
    "        </ol>)</i>"
   ]
  },
  {
   "cell_type": "code",
   "execution_count": null,
   "metadata": {
    "deletable": false,
    "nbgrader": {
     "cell_type": "code",
     "checksum": "f94c950b1e9959db735dfe7c8f91b012",
     "grade": false,
     "grade_id": "cell-9ca118978a4e7f80",
     "locked": false,
     "schema_version": 3,
     "solution": true,
     "task": false
    }
   },
   "outputs": [],
   "source": [
    "# Placeholders for answers\n",
    "data.buffalo = read.table(\"buffalo.csv\",sep=\",\")\n",
    "\n",
    "theoretical_hits = NA\n",
    "sample_hits = NA\n",
    "\n",
    "CI_level = 0.6  \n",
    "true_mean = 25000\n",
    "\n",
    "# your code here\n"
   ]
  },
  {
   "cell_type": "code",
   "execution_count": null,
   "metadata": {
    "deletable": false,
    "editable": false,
    "nbgrader": {
     "cell_type": "code",
     "checksum": "9e9b2b83b0d93ab9fa28c9ae9845a207",
     "grade": true,
     "grade_id": "cell-9e0435ab25de12fa",
     "locked": true,
     "points": 3,
     "schema_version": 3,
     "solution": false,
     "task": false
    }
   },
   "outputs": [],
   "source": [
    "# Hidden Test Cell"
   ]
  },
  {
   "cell_type": "code",
   "execution_count": null,
   "metadata": {
    "deletable": false,
    "editable": false,
    "nbgrader": {
     "cell_type": "code",
     "checksum": "de435d80fb1fd9e6c0f446a44565fb0f",
     "grade": false,
     "grade_id": "cell-15fab1cf526d954b",
     "locked": true,
     "schema_version": 3,
     "solution": false,
     "task": false
    }
   },
   "outputs": [],
   "source": [
    "# Run this cell for a cool visualization of the confidence intervals.\n",
    "# Don't worry about understanding the code!\n",
    "# This cell is not being graded.\n",
    "\n",
    "CIs_to_plot = 10\n",
    "g = ggplot()\n",
    "\n",
    "segment_data = data.frame(\n",
    "    x = seq(1, CIs_to_plot),\n",
    "    xend = seq(1, CIs_to_plot), \n",
    "    y = CIs[1:10, 1],\n",
    "    yend = CIs[1:10, 2],\n",
    "    contains_mean = ifelse(contains_true_mean[1:10], \"Y\", \"N\")\n",
    ")\n",
    "group.colors = c(Y=\"#CFB87C\", N=\"#565A5C\")\n",
    "\n",
    "g + geom_segment(data=segment_data, aes(x=x, y=y, xend=xend, yend=yend, color=contains_mean)) + \n",
    "    scale_color_manual(values=group.colors) +\n",
    "    geom_hline(yintercept=true_mean, linetype=\"dashed\", color=\"black\")"
   ]
  },
  {
   "cell_type": "markdown",
   "metadata": {
    "deletable": false,
    "editable": false,
    "nbgrader": {
     "cell_type": "markdown",
     "checksum": "d6be70bba5912a0d8ab5763f3b6dbd85",
     "grade": false,
     "grade_id": "cell-900c33ae2e9cc864",
     "locked": true,
     "schema_version": 3,
     "solution": false,
     "task": false
    }
   },
   "source": [
    "# Problem 2\n",
    "\n",
    "Suppose you run two different email Ad campaigns over many days and record the amount of traffic driven to your website on days that each Ad is sent. In particular, suppose that Ad 1 is sent on 60 different days and generates an average of 2.2 million page views per day with an sd of 1 million views, and Ad 2 is sent on 40 different days and generates an average of 2.5 million page views per day with an sd of 0.75 million views."
   ]
  },
  {
   "cell_type": "markdown",
   "metadata": {
    "deletable": false,
    "editable": false,
    "nbgrader": {
     "cell_type": "markdown",
     "checksum": "10e6bab4f434b163cc0ab1e3045a08e4",
     "grade": false,
     "grade_id": "cell-198403581aacaa91",
     "locked": true,
     "schema_version": 3,
     "solution": false,
     "task": false
    }
   },
   "source": [
    "**Part A)** \n",
    "\n",
    "Find an approximate 95% confidence interval for $\\mu_{1}-\\mu_{2}$, the difference in average page views per day (in units of millions of views). Save the upper bound as `conf.int.upper` and the lower bound as `conf.int.lower`. Round your answers to have three decimal places using the command\n",
    "\n",
    "<code>round(your_answer_here,3)</code>"
   ]
  },
  {
   "cell_type": "code",
   "execution_count": null,
   "metadata": {
    "deletable": false,
    "nbgrader": {
     "cell_type": "code",
     "checksum": "2fd1519ce80872c97a88c417cfc3c578",
     "grade": false,
     "grade_id": "cell-7ea12df4c38b5171",
     "locked": false,
     "schema_version": 3,
     "solution": true,
     "task": false
    }
   },
   "outputs": [],
   "source": [
    "# Placeholders for answers\n",
    "conf.int.lower = NA\n",
    "conf.int.upper = NA\n",
    "\n",
    "# your code here\n"
   ]
  },
  {
   "cell_type": "code",
   "execution_count": null,
   "metadata": {
    "deletable": false,
    "editable": false,
    "nbgrader": {
     "cell_type": "code",
     "checksum": "37002aef6debe4886b00148503b000e0",
     "grade": true,
     "grade_id": "cell-d2ebe6baa0120056",
     "locked": true,
     "points": 4,
     "schema_version": 3,
     "solution": false,
     "task": false
    }
   },
   "outputs": [],
   "source": [
    "# Hidden Test Cell"
   ]
  },
  {
   "cell_type": "markdown",
   "metadata": {
    "deletable": false,
    "editable": false,
    "nbgrader": {
     "cell_type": "markdown",
     "checksum": "35ef3f1c0ec388abe5d53cfa22fecd5c",
     "grade": false,
     "grade_id": "cell-96c17b117883902a",
     "locked": true,
     "schema_version": 3,
     "solution": false,
     "task": false
    }
   },
   "source": [
    "**Part B)**\n",
    "\n",
    "Based on your results to **Part A**, is there a statistically significant difference between Ad 1 and Ad 2 at this 95\\% confdence level? Save the boolean value `TRUE` (if there is a difference) or `FALSE` (if there is not a difference) into variable `prob.2.b`."
   ]
  },
  {
   "cell_type": "code",
   "execution_count": null,
   "metadata": {
    "deletable": false,
    "nbgrader": {
     "cell_type": "code",
     "checksum": "4f9d0a3398a6d062facf1d6a773168c9",
     "grade": false,
     "grade_id": "cell-1f3493e8ba5e414d",
     "locked": false,
     "schema_version": 3,
     "solution": true,
     "task": false
    }
   },
   "outputs": [],
   "source": [
    "# Replace the NA with either TRUE or FALSE \n",
    "# Please ignore the prompt that says \"Your code here\". This is not a coding problem!\n",
    "prob.2.b = NA\n",
    "\n",
    "# your code here\n"
   ]
  },
  {
   "cell_type": "code",
   "execution_count": null,
   "metadata": {
    "deletable": false,
    "editable": false,
    "nbgrader": {
     "cell_type": "code",
     "checksum": "b2726f38efeea122eca7ca072bdf7e63",
     "grade": true,
     "grade_id": "cell-70155bf21db11114",
     "locked": true,
     "points": 3,
     "schema_version": 3,
     "solution": false,
     "task": false
    }
   },
   "outputs": [],
   "source": [
    "# Hidden Test Cell"
   ]
  }
 ],
 "metadata": {
  "kernelspec": {
   "display_name": "R",
   "language": "R",
   "name": "ir"
  },
  "language_info": {
   "codemirror_mode": "r",
   "file_extension": ".r",
   "mimetype": "text/x-r-source",
   "name": "R",
   "pygments_lexer": "r",
   "version": "3.6.3"
  }
 },
 "nbformat": 4,
 "nbformat_minor": 4
}
